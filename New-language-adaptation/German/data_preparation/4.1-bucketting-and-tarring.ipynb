{
 "cells": [
  {
   "cell_type": "markdown",
   "id": "26d4a8ce",
   "metadata": {},
   "source": [
    "# Bucketing and Tarring\n",
    "\n",
    "This script converts an existing audio dataset with a manifest to a tarred and sharded audio dataset that can be read by `TarredAudioToTextDataLayer`.\n",
    "\n",
    "Bucketing can help to improve the training speed. You can use `--buckets_num` to specify the number of buckets. It creates multiple tarred datasets, one per bucket, based on the audio durations. The range of `(min_duration, max_duration)` is split into equal sized buckets. We recommend you use `--sort_in_shards` to speedup the training by reducing the paddings in the batches."
   ]
  },
  {
   "cell_type": "code",
   "execution_count": null,
   "id": "6ca54a49",
   "metadata": {},
   "outputs": [],
   "source": [
    "import os\n",
    "\n",
    "BRANCH = 'v1.11.0'\n",
    "if not os.path.exists(\"scripts/convert_to_tarred_audio_dataset.py\"):\n",
    "  !mkdir scripts\n",
    "  !wget -P scripts/ https://raw.githubusercontent.com/NVIDIA/NeMo/$BRANCH/scripts/speech_recognition/convert_to_tarred_audio_dataset.py"
   ]
  },
  {
   "cell_type": "markdown",
   "id": "1b506fbe",
   "metadata": {},
   "source": [
    "# Train set"
   ]
  },
  {
   "cell_type": "code",
   "execution_count": null,
   "id": "cb56b45d",
   "metadata": {},
   "outputs": [],
   "source": [
    "!python ./scripts/convert_to_tarred_audio_dataset.py \\\n",
    "    --manifest_path=./data/processed/train_manifest_merged.json \\\n",
    "    --target_dir=./data/processed/tar/train \\\n",
    "    --num_shards=128 \\\n",
    "    --max_duration=20 \\\n",
    "    --min_duration=0.1 \\\n",
    "    --shuffle --shuffle_seed=1 \\\n",
    "    --sort_in_shards \\\n",
    "    --workers=-1"
   ]
  },
  {
   "cell_type": "markdown",
   "id": "4be0635d",
   "metadata": {},
   "source": [
    "# Test set"
   ]
  },
  {
   "cell_type": "code",
   "execution_count": null,
   "id": "6df1d59b",
   "metadata": {},
   "outputs": [],
   "source": [
    "!python ./scripts/convert_to_tarred_audio_dataset.py \\\n",
    "    --manifest_path=./data/processed/test_manifest_merged.json \\\n",
    "    --target_dir=./data/processed/tar/test \\\n",
    "    --num_shards=128 \\\n",
    "    --max_duration=20 \\\n",
    "    --min_duration=0.1 \\\n",
    "    --shuffle --shuffle_seed=1 \\\n",
    "    --sort_in_shards \\\n",
    "    --workers=-1"
   ]
  },
  {
   "cell_type": "markdown",
   "id": "b4523187",
   "metadata": {},
   "source": [
    "# Dev set"
   ]
  },
  {
   "cell_type": "code",
   "execution_count": null,
   "id": "4a64d06d",
   "metadata": {},
   "outputs": [],
   "source": [
    "!python ./scripts/convert_to_tarred_audio_dataset.py \\\n",
    "    --manifest_path=./data/processed/dev_manifest_merged.json \\\n",
    "    --target_dir=./data/processed/tar/dev \\\n",
    "    --num_shards=128 \\\n",
    "    --max_duration=20 \\\n",
    "    --min_duration=0.1 \\\n",
    "    --shuffle --shuffle_seed=1 \\\n",
    "    --sort_in_shards \\\n",
    "    --workers=-1"
   ]
  },
  {
   "cell_type": "code",
   "execution_count": null,
   "id": "799e0ad8",
   "metadata": {},
   "outputs": [],
   "source": []
  }
 ],
 "metadata": {
  "kernelspec": {
   "display_name": "Python 3 (ipykernel)",
   "language": "python",
   "name": "python3"
  },
  "language_info": {
   "codemirror_mode": {
    "name": "ipython",
    "version": 3
   },
   "file_extension": ".py",
   "mimetype": "text/x-python",
   "name": "python",
   "nbconvert_exporter": "python",
   "pygments_lexer": "ipython3",
   "version": "3.8.13"
  }
 },
 "nbformat": 4,
 "nbformat_minor": 5
}
