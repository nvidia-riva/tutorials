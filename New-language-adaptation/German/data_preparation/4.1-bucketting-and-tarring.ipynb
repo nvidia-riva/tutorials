{
 "cells": [
  {
   "cell_type": "markdown",
   "id": "b05e6b88",
   "metadata": {},
   "source": [
    "# Bucketing and Tarring\n",
    "\n",
    "This script converts an existing audio dataset with a manifest to a tarred and sharded audio dataset that can be read by `TarredAudioToTextDataLayer`.\n",
    "\n",
    "Bucketing can help to improve the training speed. You can use `--buckets_num` to specify the number of buckets. It creates multiple tarred datasets, one per bucket, based on the audio durations. The range of `(min_duration, max_duration)` is split into equal sized buckets. We recommend you use `--sort_in_shards` to speedup the training by reducing the paddings in the batches."
   ]
  },
  {
   "cell_type": "code",
   "execution_count": 1,
   "id": "ec604592",
   "metadata": {},
   "outputs": [
    {
     "name": "stdout",
     "output_type": "stream",
     "text": [
      "fatal: destination path 'NeMo' already exists and is not an empty directory.\n"
     ]
    }
   ],
   "source": [
    "!git clone https://github.com/NVIDIA/NeMo"
   ]
  },
  {
   "cell_type": "markdown",
   "id": "6f82a13a",
   "metadata": {},
   "source": [
    "# Train set"
   ]
  },
  {
   "cell_type": "code",
   "execution_count": 2,
   "id": "eb7b7677",
   "metadata": {},
   "outputs": [
    {
     "name": "stdout",
     "output_type": "stream",
     "text": [
      "Creating new tarred dataset ...\n",
      "After filtering, manifest has 321153 files which amounts to 2267423.2796264687 seconds of audio.\n",
      "Shuffling...\n",
      "Number of samples added : 321153\n",
      "Remainder: 1\n",
      "Shard 0 has entries 0 ~ 40144\n",
      "Shard 0 contains 40144 files\n",
      "Shard 1 has entries 40144 ~ 80288\n",
      "Shard 1 contains 40144 files\n",
      "Shard 2 has entries 80288 ~ 120432\n",
      "Shard 2 contains 40144 files\n",
      "Shard 3 has entries 120432 ~ 160576\n",
      "Shard 3 contains 40144 files\n",
      "Shard 4 has entries 160576 ~ 200720\n",
      "Shard 4 contains 40144 files\n",
      "Shard 5 has entries 200720 ~ 240864\n",
      "Shard 5 contains 40144 files\n",
      "Shard 6 has entries 240864 ~ 281008\n",
      "Shard 6 contains 40144 files\n",
      "Shard 7 has entries 281008 ~ 321152\n",
      "Shard 7 contains 40144 files\n",
      "Have 1 entries left over that will be discarded.\n",
      "[Parallel(n_jobs=-1)]: Using backend LokyBackend with 20 concurrent workers.\n",
      "[Parallel(n_jobs=-1)]: Done   3 out of   8 | elapsed: 20.0min remaining: 33.3min\n",
      "[Parallel(n_jobs=-1)]: Done   5 out of   8 | elapsed: 20.5min remaining: 12.3min\n",
      "[Parallel(n_jobs=-1)]: Done   8 out of   8 | elapsed: 22.2min finished\n",
      "Total number of entries in manifest : 321152\n",
      "Constructing DALI Tarfile Index -  ./data/processed/tar/train\n",
      "[Parallel(n_jobs=-1)]: Using backend LokyBackend with 20 concurrent workers.\n",
      "[Parallel(n_jobs=-1)]: Done   3 out of   8 | elapsed:    1.4s remaining:    2.3s\n",
      "[Parallel(n_jobs=-1)]: Done   5 out of   8 | elapsed:    1.4s remaining:    0.8s\n",
      "joblib.externals.loky.process_executor._RemoteTraceback: \n",
      "\"\"\"\n",
      "Traceback (most recent call last):\n",
      "  File \"/opt/conda/lib/python3.8/site-packages/joblib/externals/loky/process_executor.py\", line 436, in _process_worker\n",
      "    r = call_item()\n",
      "  File \"/opt/conda/lib/python3.8/site-packages/joblib/externals/loky/process_executor.py\", line 288, in __call__\n",
      "    return self.fn(*self.args, **self.kwargs)\n",
      "  File \"/opt/conda/lib/python3.8/site-packages/joblib/_parallel_backends.py\", line 595, in __call__\n",
      "    return self.func(*args, **kwargs)\n",
      "  File \"/opt/conda/lib/python3.8/site-packages/joblib/parallel.py\", line 262, in __call__\n",
      "    return [func(*args, **kwargs)\n",
      "  File \"/opt/conda/lib/python3.8/site-packages/joblib/parallel.py\", line 262, in <listcomp>\n",
      "    return [func(*args, **kwargs)\n",
      "  File \"/localhome/local-vinhn/riva-german-sample-new/New-language-adaptation/German/data_preparation/NeMo/scripts/speech_recognition/create_dali_tarred_dataset_index.py\", line 69, in build_index\n",
      "    with IndexCreator(tarpath, indexfile, verbose=False) as index:\n",
      "TypeError: __init__() got an unexpected keyword argument 'verbose'\n",
      "\"\"\"\n",
      "\n",
      "The above exception was the direct cause of the following exception:\n",
      "\n",
      "Traceback (most recent call last):\n",
      "  File \"NeMo/scripts/speech_recognition/convert_to_tarred_audio_dataset.py\", line 701, in <module>\n",
      "    main()\n",
      "  File \"NeMo/scripts/speech_recognition/convert_to_tarred_audio_dataset.py\", line 620, in main\n",
      "    create_tar_datasets(min_duration=args.min_duration, max_duration=args.max_duration, target_dir=args.target_dir)\n",
      "  File \"NeMo/scripts/speech_recognition/convert_to_tarred_audio_dataset.py\", line 697, in create_tar_datasets\n",
      "    dali_index.main(index_config)\n",
      "  File \"/opt/conda/lib/python3.8/site-packages/hydra/main.py\", line 43, in decorated_main\n",
      "    return task_function(cfg_passthrough)\n",
      "  File \"/localhome/local-vinhn/riva-german-sample-new/New-language-adaptation/German/data_preparation/NeMo/scripts/speech_recognition/create_dali_tarred_dataset_index.py\", line 88, in main\n",
      "    _ = parallel(delayed(build_index)(tarpath, indexfile) for tarpath, indexfile in zip(tar_files, index_paths))\n",
      "  File \"/opt/conda/lib/python3.8/site-packages/joblib/parallel.py\", line 1056, in __call__\n",
      "    self.retrieve()\n",
      "  File \"/opt/conda/lib/python3.8/site-packages/joblib/parallel.py\", line 935, in retrieve\n",
      "    self._output.extend(job.get(timeout=self.timeout))\n",
      "  File \"/opt/conda/lib/python3.8/site-packages/joblib/_parallel_backends.py\", line 542, in wrap_future_result\n",
      "    return future.result(timeout=timeout)\n",
      "  File \"/opt/conda/lib/python3.8/concurrent/futures/_base.py\", line 444, in result\n",
      "    return self.__get_result()\n",
      "  File \"/opt/conda/lib/python3.8/concurrent/futures/_base.py\", line 389, in __get_result\n",
      "    raise self._exception\n",
      "TypeError: __init__() got an unexpected keyword argument 'verbose'\n"
     ]
    }
   ],
   "source": [
    "!python NeMo/scripts/speech_recognition/convert_to_tarred_audio_dataset.py \\\n",
    "    --manifest_path=./data/processed/train_manifest_merged.json \\\n",
    "    --target_dir=./data/processed/tar/train \\\n",
    "    --num_shards=8 \\\n",
    "    --max_duration=20 \\\n",
    "    --min_duration=0.1 \\\n",
    "    --shuffle --shuffle_seed=1 \\\n",
    "    --sort_in_shards \\\n",
    "    --workers=-1"
   ]
  },
  {
   "cell_type": "markdown",
   "id": "75afe93f",
   "metadata": {},
   "source": [
    "# Test set"
   ]
  },
  {
   "cell_type": "code",
   "execution_count": 3,
   "id": "7d17df6b",
   "metadata": {},
   "outputs": [
    {
     "name": "stdout",
     "output_type": "stream",
     "text": [
      "Creating new tarred dataset ...\n",
      "After filtering, manifest has 362320 files which amounts to 2575015.070671837 seconds of audio.\n",
      "Shuffling...\n",
      "Number of samples added : 362320\n",
      "Remainder: 0\n",
      "Shard 0 has entries 0 ~ 45290\n",
      "Shard 0 contains 45290 files\n",
      "Shard 1 has entries 45290 ~ 90580\n",
      "Shard 1 contains 45290 files\n",
      "Shard 2 has entries 90580 ~ 135870\n",
      "Shard 2 contains 45290 files\n",
      "Shard 3 has entries 135870 ~ 181160\n",
      "Shard 3 contains 45290 files\n",
      "Shard 4 has entries 181160 ~ 226450\n",
      "Shard 4 contains 45290 files\n",
      "Shard 5 has entries 226450 ~ 271740\n",
      "Shard 5 contains 45290 files\n",
      "Shard 6 has entries 271740 ~ 317030\n",
      "Shard 6 contains 45290 files\n",
      "Shard 7 has entries 317030 ~ 362320\n",
      "Shard 7 contains 45290 files\n",
      "Have 0 entries left over that will be discarded.\n",
      "[Parallel(n_jobs=-1)]: Using backend LokyBackend with 20 concurrent workers.\n",
      "[Parallel(n_jobs=-1)]: Done   3 out of   8 | elapsed: 20.8min remaining: 34.7min\n",
      "[Parallel(n_jobs=-1)]: Done   5 out of   8 | elapsed: 25.2min remaining: 15.1min\n",
      "[Parallel(n_jobs=-1)]: Done   8 out of   8 | elapsed: 27.4min finished\n",
      "Total number of entries in manifest : 362320\n",
      "Constructing DALI Tarfile Index -  ./data/processed/tar/test\n",
      "[Parallel(n_jobs=-1)]: Using backend LokyBackend with 20 concurrent workers.\n",
      "[Parallel(n_jobs=-1)]: Done   3 out of   8 | elapsed:    0.2s remaining:    0.3s\n",
      "[Parallel(n_jobs=-1)]: Done   5 out of   8 | elapsed:    0.2s remaining:    0.1s\n",
      "joblib.externals.loky.process_executor._RemoteTraceback: \n",
      "\"\"\"\n",
      "Traceback (most recent call last):\n",
      "  File \"/opt/conda/lib/python3.8/site-packages/joblib/externals/loky/process_executor.py\", line 436, in _process_worker\n",
      "    r = call_item()\n",
      "  File \"/opt/conda/lib/python3.8/site-packages/joblib/externals/loky/process_executor.py\", line 288, in __call__\n",
      "    return self.fn(*self.args, **self.kwargs)\n",
      "  File \"/opt/conda/lib/python3.8/site-packages/joblib/_parallel_backends.py\", line 595, in __call__\n",
      "    return self.func(*args, **kwargs)\n",
      "  File \"/opt/conda/lib/python3.8/site-packages/joblib/parallel.py\", line 262, in __call__\n",
      "    return [func(*args, **kwargs)\n",
      "  File \"/opt/conda/lib/python3.8/site-packages/joblib/parallel.py\", line 262, in <listcomp>\n",
      "    return [func(*args, **kwargs)\n",
      "  File \"/localhome/local-vinhn/riva-german-sample-new/New-language-adaptation/German/data_preparation/NeMo/scripts/speech_recognition/create_dali_tarred_dataset_index.py\", line 69, in build_index\n",
      "    with IndexCreator(tarpath, indexfile, verbose=False) as index:\n",
      "TypeError: __init__() got an unexpected keyword argument 'verbose'\n",
      "\"\"\"\n",
      "\n",
      "The above exception was the direct cause of the following exception:\n",
      "\n",
      "Traceback (most recent call last):\n",
      "  File \"NeMo/scripts/speech_recognition/convert_to_tarred_audio_dataset.py\", line 701, in <module>\n",
      "    main()\n",
      "  File \"NeMo/scripts/speech_recognition/convert_to_tarred_audio_dataset.py\", line 620, in main\n",
      "    create_tar_datasets(min_duration=args.min_duration, max_duration=args.max_duration, target_dir=args.target_dir)\n",
      "  File \"NeMo/scripts/speech_recognition/convert_to_tarred_audio_dataset.py\", line 697, in create_tar_datasets\n",
      "    dali_index.main(index_config)\n",
      "  File \"/opt/conda/lib/python3.8/site-packages/hydra/main.py\", line 43, in decorated_main\n",
      "    return task_function(cfg_passthrough)\n",
      "  File \"/localhome/local-vinhn/riva-german-sample-new/New-language-adaptation/German/data_preparation/NeMo/scripts/speech_recognition/create_dali_tarred_dataset_index.py\", line 88, in main\n",
      "    _ = parallel(delayed(build_index)(tarpath, indexfile) for tarpath, indexfile in zip(tar_files, index_paths))\n",
      "  File \"/opt/conda/lib/python3.8/site-packages/joblib/parallel.py\", line 1056, in __call__\n",
      "    self.retrieve()\n",
      "  File \"/opt/conda/lib/python3.8/site-packages/joblib/parallel.py\", line 935, in retrieve\n",
      "    self._output.extend(job.get(timeout=self.timeout))\n",
      "  File \"/opt/conda/lib/python3.8/site-packages/joblib/_parallel_backends.py\", line 542, in wrap_future_result\n",
      "    return future.result(timeout=timeout)\n",
      "  File \"/opt/conda/lib/python3.8/concurrent/futures/_base.py\", line 437, in result\n",
      "    return self.__get_result()\n",
      "  File \"/opt/conda/lib/python3.8/concurrent/futures/_base.py\", line 389, in __get_result\n",
      "    raise self._exception\n",
      "TypeError: __init__() got an unexpected keyword argument 'verbose'\n"
     ]
    }
   ],
   "source": [
    "!python NeMo/scripts/speech_recognition/convert_to_tarred_audio_dataset.py \\\n",
    "    --manifest_path=./data/processed/test_manifest_merged.json \\\n",
    "    --target_dir=./data/processed/tar/test \\\n",
    "    --num_shards=8 \\\n",
    "    --max_duration=20 \\\n",
    "    --min_duration=0.1 \\\n",
    "    --shuffle --shuffle_seed=1 \\\n",
    "    --sort_in_shards \\\n",
    "    --workers=-1"
   ]
  },
  {
   "cell_type": "markdown",
   "id": "4fbb93d8",
   "metadata": {},
   "source": [
    "# Dev set"
   ]
  },
  {
   "cell_type": "code",
   "execution_count": null,
   "id": "dfae6c9f",
   "metadata": {},
   "outputs": [
    {
     "name": "stdout",
     "output_type": "stream",
     "text": [
      "Creating new tarred dataset ...\n",
      "After filtering, manifest has 341952 files which amounts to 2422706.3850060245 seconds of audio.\n",
      "Shuffling...\n",
      "Number of samples added : 341952\n",
      "Remainder: 0\n",
      "Shard 0 has entries 0 ~ 42744\n",
      "Shard 0 contains 42744 files\n",
      "Shard 1 has entries 42744 ~ 85488\n",
      "Shard 1 contains 42744 files\n",
      "Shard 2 has entries 85488 ~ 128232\n",
      "Shard 2 contains 42744 files\n",
      "Shard 3 has entries 128232 ~ 170976\n",
      "Shard 3 contains 42744 files\n",
      "Shard 4 has entries 170976 ~ 213720\n",
      "Shard 4 contains 42744 files\n",
      "Shard 5 has entries 213720 ~ 256464\n",
      "Shard 5 contains 42744 files\n",
      "Shard 6 has entries 256464 ~ 299208\n",
      "Shard 6 contains 42744 files\n",
      "Shard 7 has entries 299208 ~ 341952\n",
      "Shard 7 contains 42744 files\n",
      "Have 0 entries left over that will be discarded.\n",
      "[Parallel(n_jobs=-1)]: Using backend LokyBackend with 20 concurrent workers.\n"
     ]
    }
   ],
   "source": [
    "!python NeMo/scripts/speech_recognition/convert_to_tarred_audio_dataset.py \\\n",
    "    --manifest_path=./data/processed/dev_manifest_merged.json \\\n",
    "    --target_dir=./data/processed/tar/dev \\\n",
    "    --num_shards=8 \\\n",
    "    --max_duration=20 \\\n",
    "    --min_duration=0.1 \\\n",
    "    --shuffle --shuffle_seed=1 \\\n",
    "    --sort_in_shards \\\n",
    "    --workers=-1"
   ]
  },
  {
   "cell_type": "code",
   "execution_count": null,
   "id": "d92bf209",
   "metadata": {},
   "outputs": [],
   "source": []
  }
 ],
 "metadata": {
  "kernelspec": {
   "display_name": "Python 3 (ipykernel)",
   "language": "python",
   "name": "python3"
  },
  "language_info": {
   "codemirror_mode": {
    "name": "ipython",
    "version": 3
   },
   "file_extension": ".py",
   "mimetype": "text/x-python",
   "name": "python",
   "nbconvert_exporter": "python",
   "pygments_lexer": "ipython3",
   "version": "3.8.12"
  }
 },
 "nbformat": 4,
 "nbformat_minor": 5
}
