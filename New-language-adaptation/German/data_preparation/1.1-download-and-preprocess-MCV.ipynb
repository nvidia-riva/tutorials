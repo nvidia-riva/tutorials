{
 "cells": [
  {
   "cell_type": "markdown",
   "id": "6a93106d",
   "metadata": {},
   "source": [
    "# Mozilla Common Voice (MCV) Dataset\n",
    "\n",
    "Mozilla Common Voice (MCV) is a large collection of dataset for speech research. Each entry in the dataset consists of a unique MP3 and corresponding text file. Many of the 20,217 recorded hours in the dataset also include demographic metadata like age, sex, and accent that can help train the accuracy of speech recognition engines.\n",
    "\n",
    "We will only make use of the German portion of the dataset, which is ~28 GB.\n",
    "\n",
    "## Download\n",
    "\n",
    "First, we install the prerequisite packages and download the data."
   ]
  },
  {
   "cell_type": "code",
   "execution_count": null,
   "id": "74023ac3",
   "metadata": {},
   "outputs": [],
   "source": [
    "!apt-get update && apt-get install -y wget sox libsox-fmt-mp3 parallel"
   ]
  },
  {
   "cell_type": "markdown",
   "id": "5d71662c",
   "metadata": {},
   "source": [
    "The dataset can be downloaded [here](https://commonvoice.mozilla.org/en/datasets) using a web interface. Upon registration, you will receive a download URL, which can be used with `wget` as follows:"
   ]
  },
  {
   "cell_type": "code",
   "execution_count": null,
   "id": "2cfc6468",
   "metadata": {},
   "outputs": [],
   "source": [
    "!mkdir -p ./data/raw/mcv\n",
    "!wget <DOWNLOAD_URL> -O ./data/raw/mcv/de.tar.gz"
   ]
  },
  {
   "cell_type": "markdown",
   "id": "d44b02a5",
   "metadata": {},
   "source": [
    "## Preprocessing\n",
    "\n",
    "Next, we standardize audio data and convert the raw format to NeMo manifest format.\n",
    "\n",
    "**Audio data**: Audio data acquired from various sources are inherently heterogeneous (file format, sample rate, bit depth, number of audio channels, and so on). Therefore, as a preprocessing step, we build a separate data ingestion pipeline for each source and convert the audio data to a common format with the following characteristics:\n",
    "- Wav format\n",
    "- Bit depth: 16 bits\n",
    "- Sample rate of 16 Khz\n",
    "- Single audio channel\n"
   ]
  },
  {
   "cell_type": "code",
   "execution_count": null,
   "id": "3b68adf1",
   "metadata": {},
   "outputs": [],
   "source": [
    "import os\n",
    "import sys\n",
    "\n",
    "CUR_DIR = os.getcwd()\n",
    "sys.path.insert(0, os.path.join(CUR_DIR, \"data_ingestion\"))"
   ]
  },
  {
   "cell_type": "markdown",
   "id": "8904d26f",
   "metadata": {},
   "source": [
    "Notes: \n",
    "- You will have to pass the correct arg `--version=\"cv-corpus-xxx\"` to process_mcv.py depending on the version of your downloaded corpus.\n",
    "\n",
    "The default value is `cv-corpus-5.1-2020-06-22` which refers to the 2020 version of the dataset.\n",
    "\n",
    "- The .tsv file containing metadata of MCV dataset might contain either `accents` or `accent` as the column head, hence you might need to update this pre-processing script to look for \"accents\" instead of \"accent\", depending on the particular version."
   ]
  },
  {
   "cell_type": "code",
   "execution_count": null,
   "id": "cd3d5832",
   "metadata": {},
   "outputs": [],
   "source": [
    "!mkdir -p data/processed/mcv\n",
    "\n",
    "OUT_DIR = os.path.join(CUR_DIR, \"data/processed/mcv\")\n",
    "DATA_ROOT = os.path.join(CUR_DIR, \"data/raw/mcv\")\n",
    "\n",
    "!python3 ./data_ingestion/process_mcv.py --data_root=$DATA_ROOT --data_temp=/tmp --data_out=$OUT_DIR --manifest_dir=$OUT_DIR --save_meta true"
   ]
  },
  {
   "cell_type": "code",
   "execution_count": null,
   "id": "2a7cf456",
   "metadata": {},
   "outputs": [],
   "source": [
    "# Optionally: to remove the raw dataset to preserve disk space, uncomment the bash command bellow. \n",
    "\n",
    "#! rm -rf data/processed/mcv "
   ]
  }
 ],
 "metadata": {
  "kernelspec": {
   "display_name": "Python 3 (ipykernel)",
   "language": "python",
   "name": "python3"
  },
  "language_info": {
   "codemirror_mode": {
    "name": "ipython",
    "version": 3
   },
   "file_extension": ".py",
   "mimetype": "text/x-python",
   "name": "python",
   "nbconvert_exporter": "python",
   "pygments_lexer": "ipython3",
   "version": "3.8.13"
  }
 },
 "nbformat": 4,
 "nbformat_minor": 5
}
