{
 "cells": [
  {
   "cell_type": "markdown",
   "id": "3ea1ffcd",
   "metadata": {},
   "source": [
    "# Multilingual LibriSpeech (MLS) Dataset\n",
    "\n",
    "[Multilingual LibriSpeech (MLS)](https://www.openslr.org/94/) dataset is a large multilingual corpus suitable for speech research. The dataset is derived from read audiobooks from LibriVox and consists of eight languages; English, German, Dutch, Spanish, French, Italian, Portuguese, and Polish.\n",
    "\n",
    "In this tutorial, we will only use the German portion of the dataset, which is ~115 GB.\n",
    "\n",
    "## Download\n",
    "\n",
    "First, we install the necessary packages and download the dataset."
   ]
  },
  {
   "cell_type": "code",
   "execution_count": null,
   "id": "0a2c766a",
   "metadata": {},
   "outputs": [],
   "source": [
    "!pip3 install unidecode"
   ]
  },
  {
   "cell_type": "code",
   "execution_count": null,
   "id": "e2e0229e",
   "metadata": {},
   "outputs": [],
   "source": [
    "!mkdir -p ./data/raw/mls\n",
    "!wget https://dl.fbaipublicfiles.com/mls/mls_german.tar.gz -O ./data/raw/mls/mls_german.tar.gz"
   ]
  },
  {
   "cell_type": "code",
   "execution_count": null,
   "id": "b8278949",
   "metadata": {
    "tags": []
   },
   "outputs": [],
   "source": [
    "!tar -zxvf ./data/raw/mls/mls_german.tar.gz -C ./data/raw/mls/"
   ]
  },
  {
   "cell_type": "markdown",
   "id": "1c37125a",
   "metadata": {},
   "source": [
    "## Preprocessing\n",
    "\n",
    "Next, we standardize the audio data and convert the raw format to a NeMo manifest format.\n",
    "\n",
    "**Audio data**: Audio data acquired from various sources are inherently heterogeneous (file format, sample rate, bit depth, number of audio channels, and so on). Therefore, as a preprocessing step, we build a separate data ingestion pipeline for each source and convert the audio data to a common format with the following characteristics:\n",
    "- Wav format\n",
    "- Bit depth: 16 bits\n",
    "- Sample rate of 16 Khz\n",
    "- Single audio channel"
   ]
  },
  {
   "cell_type": "code",
   "execution_count": null,
   "id": "9dce3685",
   "metadata": {},
   "outputs": [],
   "source": [
    "!mkdir -p ./data/processed/mls\n",
    "!python3 ./data_ingestion/process_mls.py --dataset_root=./data/raw/mls/mls_german --out_dir=./data/processed/mls"
   ]
  },
  {
   "cell_type": "code",
   "execution_count": null,
   "id": "57479f80",
   "metadata": {},
   "outputs": [],
   "source": [
    "# Optionally: to remove the raw dataset to preserve disk space, uncomment the bash command bellow. \n",
    "\n",
    "#! rm -rf ./data/processed/mls"
   ]
  }
 ],
 "metadata": {
  "kernelspec": {
   "display_name": "Python 3 (ipykernel)",
   "language": "python",
   "name": "python3"
  },
  "language_info": {
   "codemirror_mode": {
    "name": "ipython",
    "version": 3
   },
   "file_extension": ".py",
   "mimetype": "text/x-python",
   "name": "python",
   "nbconvert_exporter": "python",
   "pygments_lexer": "ipython3",
   "version": "3.8.13"
  }
 },
 "nbformat": 4,
 "nbformat_minor": 5
}
