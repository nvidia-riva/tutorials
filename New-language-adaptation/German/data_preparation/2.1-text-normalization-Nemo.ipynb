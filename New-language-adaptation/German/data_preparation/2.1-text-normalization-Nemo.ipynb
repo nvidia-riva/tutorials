{
 "cells": [
  {
   "cell_type": "markdown",
   "id": "a824d070",
   "metadata": {},
   "source": [
    "# Text Normalization\n",
    "\n",
    "Text Normalization converts text from written form into its verbalized form. It is used as a preprocessing step for preprocessing Automatic Speech Recognition (ASR) training transcripts. For German text normalization, we primarily leverage the NeMo text normalization [library](https://github.com/NVIDIA/NeMo/tree/main/nemo_text_processing/text_normalization/de).\n",
    "\n",
    "In this tutorial, we will employ NeMo to normalize the Mozilla Common Voice (MCV), Multilingual LibriSpeech (MLS), and VoxPopuli datasets. The following code takes in a manifest file, normalizes the transcripts, and writes back the normalized manifest file.\n",
    "\n",
    "Note: This tutorial should be run within a NeMo Docker container with the following command:\n",
    "```bash\n",
    "docker run --gpus=all --net=host --rm -it -v $PWD:/myworkspace nvcr.io/nvidia/nemo:22.08 bash\n",
    "```\n",
    "Then, from within the NeMo container, the Jupyter lab environment can be started.\n",
    "\n",
    "**Note: this process will take a long time. On VoxPopuli, every 10k samples take an additional 1 hour on 80 CPU cores.**"
   ]
  },
  {
   "cell_type": "code",
   "execution_count": 5,
   "id": "663574a8",
   "metadata": {},
   "outputs": [],
   "source": [
    "from typing import List\n",
    "import os\n",
    "import json\n",
    "import multiprocessing\n",
    "\n",
    "from tqdm import tqdm\n",
    "from functools import partial\n",
    "\n",
    "from nemo_text_processing.text_normalization.normalize import Normalizer\n",
    "\n",
    "def load_jsonl(filepath):\n",
    "    data = []\n",
    "    with open(filepath, 'r', encoding='utf_8') as fp:\n",
    "        inlines = fp.readlines()\n",
    "        for line in inlines:\n",
    "            if line.startswith(\"//\") or line.strip() == '':\n",
    "                continue\n",
    "            row = json.loads(line)\n",
    "            data.append(row)\n",
    "    return data\n",
    "\n",
    "\n",
    "def dump_jsonl(filepath, data):\n",
    "    with open(filepath, 'w') as fp:\n",
    "        for datum in data:\n",
    "            row = json.dumps(datum, ensure_ascii=False)\n",
    "            fp.write(row)\n",
    "            fp.write('\\n')\n",
    "            \n",
    "def normalize_manifest(input_manifest, output_manifest, normalizer):\n",
    "    utterances = load_jsonl(input_manifest)\n",
    "    transcripts = [utt['text_original'] for utt in utterances]\n",
    "    \n",
    "    pool = multiprocessing.Pool(processes=os.cpu_count())\n",
    "    normalized_result = tqdm(pool.imap(partial(normalizer.normalize, verbose=False), transcripts))\n",
    "    for i, text in enumerate(normalized_result):\n",
    "        utterances[i]['text'] = text  \n",
    "    dump_jsonl(output_manifest, utterances)"
   ]
  },
  {
   "cell_type": "code",
   "execution_count": null,
   "id": "52d707e6",
   "metadata": {},
   "outputs": [
    {
     "name": "stdout",
     "output_type": "stream",
     "text": [
      "[NeMo I 2022-05-06 06:46:33 tokenize_and_classify:83] Creating ClassifyFst grammars. This might take some time...\n",
      "Created /tmp/_cased_de_tn_True_deterministic.far\n",
      "[NeMo I 2022-05-06 06:46:56 tokenize_and_classify:143] ClassifyFst grammars are saved to /tmp/_cased_de_tn_True_deterministic.far.\n",
      "Processing  ./data/processed/mcv/mcv_train_manifest.json\n"
     ]
    },
    {
     "name": "stderr",
     "output_type": "stream",
     "text": [
      "9471it [53:20,  2.34it/s]"
     ]
    }
   ],
   "source": [
    "#normalizer = Normalizer(input_case=\"cased\", lang='de')\n",
    "normalizer = Normalizer(\n",
    "        input_case=\"cased\",\n",
    "        cache_dir=\"/tmp\",\n",
    "        overwrite_cache=True,\n",
    "        lang=\"de\",\n",
    "    )\n",
    "    \n",
    "#for dataset in ['mls', 'voxpopuli', 'mcv']:\n",
    "for dataset in ['mcv']:\n",
    "    for subset in ['train', 'dev', 'test']:        \n",
    "        input_manifest = os.path.join('./data/processed/', dataset, f\"{dataset}_{subset}_manifest.json\")\n",
    "        output_manifest = os.path.join('./data/processed/', dataset, f\"{dataset}_{subset}_manifest_normalized.json\")\n",
    "        print(\"Processing \", input_manifest)\n",
    "        normalize_manifest(input_manifest, output_manifest, normalizer)\n",
    "            "
   ]
  },
  {
   "cell_type": "code",
   "execution_count": null,
   "id": "d8213c2e",
   "metadata": {},
   "outputs": [],
   "source": []
  }
 ],
 "metadata": {
  "kernelspec": {
   "display_name": "Python 3 (ipykernel)",
   "language": "python",
   "name": "python3"
  },
  "language_info": {
   "codemirror_mode": {
    "name": "ipython",
    "version": 3
   },
   "file_extension": ".py",
   "mimetype": "text/x-python",
   "name": "python",
   "nbconvert_exporter": "python",
   "pygments_lexer": "ipython3",
   "version": "3.8.13"
  }
 },
 "nbformat": 4,
 "nbformat_minor": 5
}
