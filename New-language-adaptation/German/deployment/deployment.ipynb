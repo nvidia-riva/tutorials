{
 "cells": [
  {
   "cell_type": "markdown",
   "id": "ad316eab",
   "metadata": {},
   "source": [
    "<img src=\"http://developer.download.nvidia.com/compute/machine-learning/frameworks/nvidia_logo.png\" style=\"width: 90px; float: right;\">\n",
    "\n",
    "# German ASR Pipeline Deployment"
   ]
  },
  {
   "cell_type": "markdown",
   "id": "cdf72069",
   "metadata": {},
   "source": [
    "In this notebook, we are going through the steps to deploy a German ASR pipeline into production.\n",
    "\n",
    "**Important note:** This notebook should be run from the host OS, where it can access the `docker` command. NVIDIA GPU driver, docker and Nvidia-docker should be pre-installed. For NVIDIA GPU driver, See instructions at https://docs.nvidia.com/datacenter/tesla/tesla-installation-notes/index.html. For Nvidia-docker, see https://docs.nvidia.com/datacenter/cloud-native/kubernetes/install-k8s.html#step-1-install-a-container-engine.\n",
    "\n",
    "## Model checklist\n",
    "This tutorial assumes that you have the following models ready:\n",
    "\n",
    "- An acoustic model\n",
    "- A language model (optional)\n",
    "- An inverse text normalization model (optional)\n",
    "- A punctuation and capitalization model (optional)"
   ]
  },
  {
   "cell_type": "markdown",
   "id": "12ab2c30",
   "metadata": {},
   "source": [
    "## Pre requisite \n",
    "\n",
    "- Make sure you have access to [NGC](https://ngc.nvidia.com) to download models if you wish to use pre-trained models. Set up the [NGC CLI tool](https://docs.ngc.nvidia.com/cli) with your NGC API key.\n",
    "\n",
    "- Download Riva quickstart scripts to a local directory `<RIVA_QUICKSTART_DIR>`.\n",
    "\n",
    "- Prepare a local folder `<RIVA_MODEL_DIR>` to put/download raw Riva models to.\n",
    "\n",
    "- Prepare a local folder `<RIVA_REPO_DIR>` for Riva optimized and deployed models.\n"
   ]
  },
  {
   "cell_type": "code",
   "execution_count": null,
   "id": "6a2f4a44",
   "metadata": {},
   "outputs": [],
   "source": [
    "# Download Riva quickstart\n",
    "RIVA_VERSION = \"2.6.0\"\n",
    "\n",
    "!ngc registry resource download-version nvidia/riva/riva_quickstart:$RIVA_VERSION"
   ]
  },
  {
   "cell_type": "code",
   "execution_count": null,
   "id": "40354c84",
   "metadata": {},
   "outputs": [],
   "source": [
    "import os\n",
    "\n",
    "CURRENT_DIR = os.getcwd()\n",
    "\n",
    "# Note: replace this directory with the actual Riva quickstart folder\n",
    "RIVA_QUICKSTART_DIR = CURRENT_DIR + f'/riva_quickstart_v{RIVA_VERSION}'\n",
    "\n",
    "RIVA_MODEL_DIR = CURRENT_DIR + '/riva_model_dir'\n",
    "RIVA_REPO_DIR = CURRENT_DIR + '/riva_repo_dir'\n",
    "\n",
    "!mkdir $RIVA_MODEL_DIR\n",
    "!mkdir $RIVA_REPO_DIR\n",
    "\n",
    "print(\"Riva model dir: \", RIVA_MODEL_DIR)\n",
    "print(\"Riva repo dir: \",RIVA_REPO_DIR)"
   ]
  },
  {
   "cell_type": "markdown",
   "id": "49be1c9d",
   "metadata": {},
   "source": [
    "The next step is to point the `riva_model_loc` to the local directory `RIVA_REPO_DIR` prepared in the previous step. By default, `riva_model_loc` point to a docker volume.\n",
    "\n",
    "To do this, open the Riva config file `config.sh` in the `RIVA_QUICKSTART_DIR`, find the line with `riva_model_loc` and point it to the absolute path of the `RIVA_REPO_DIR` directory, as printed out in the previous step.\n"
   ]
  },
  {
   "cell_type": "code",
   "execution_count": null,
   "id": "7c9c5a23",
   "metadata": {},
   "outputs": [],
   "source": [
    "!head -n 100 $RIVA_QUICKSTART_DIR/config.sh |grep riva_model_loc"
   ]
  },
  {
   "cell_type": "markdown",
   "id": "83a63547",
   "metadata": {},
   "source": [
    "## Bringing models\n",
    "### BYO models\n",
    "If bringing your own models, refer to the [training](./training) section of this guide for details on how to train your own custom models. Put these models into `RIVA_MODEL_DIR`.\n",
    "\n",
    "### Download Pre-trained models\n",
    "\n",
    "Alternatively, you can deploy pre-trained models. All Riva German assets are published on [NGC](https://ngc.nvidia.com) (including `.nemo`, `.riva`, `.tlt` and `.rmir` assets). You can use these models as starting points for your development or for deployment as-is.\n",
    "\n",
    "#### Acoustic models"
   ]
  },
  {
   "cell_type": "code",
   "execution_count": null,
   "id": "3303b15e",
   "metadata": {},
   "outputs": [],
   "source": [
    "!cd $RIVA_MODEL_DIR && ngc registry model download-version \"nvidia/nemo/stt_de_citrinet_1024:1.5.0\""
   ]
  },
  {
   "cell_type": "markdown",
   "id": "ca4a784d",
   "metadata": {},
   "source": [
    "#### Inverse text normalization models"
   ]
  },
  {
   "cell_type": "code",
   "execution_count": null,
   "id": "4b7a5ab2",
   "metadata": {},
   "outputs": [],
   "source": [
    "!cd $RIVA_MODEL_DIR && ngc registry model download-version \"nvidia/tao/inverse_normalization_de_de:deployable_v1.0\""
   ]
  },
  {
   "cell_type": "markdown",
   "id": "69a8be1f",
   "metadata": {},
   "source": [
    "#### Language model"
   ]
  },
  {
   "cell_type": "code",
   "execution_count": null,
   "id": "25792d63",
   "metadata": {},
   "outputs": [],
   "source": [
    "!cd $RIVA_MODEL_DIR && ngc registry model download-version \"nvidia/tao/speechtotext_de_de_lm:deployable_v2.0\""
   ]
  },
  {
   "cell_type": "markdown",
   "id": "3438f39d",
   "metadata": {},
   "source": [
    "#### Punctuation and capitalization model"
   ]
  },
  {
   "cell_type": "code",
   "execution_count": null,
   "id": "90eda0eb",
   "metadata": {},
   "outputs": [],
   "source": [
    "!cd $RIVA_MODEL_DIR &&  ngc registry model download-version \"nvidia/tao/punctuationcapitalization_de_de_bert_base:deployable_v1.0\""
   ]
  },
  {
   "cell_type": "markdown",
   "id": "9a7d3930",
   "metadata": {},
   "source": [
    "## Preparing Models \n",
    "\n",
    "### Nemo to Riva conversion\n",
    "\n",
    "First, we prepare a small script for NeMo model conversion to Riva. This script first installs the `nemo2riva` tool which is distributed with the Riva quickstart."
   ]
  },
  {
   "cell_type": "code",
   "execution_count": null,
   "id": "978c3133",
   "metadata": {},
   "outputs": [],
   "source": [
    "!ls $RIVA_QUICKSTART_DIR | grep nemo2riva"
   ]
  },
  {
   "cell_type": "markdown",
   "id": "6ba9db77",
   "metadata": {},
   "source": [
    "In the below script, replace `pip3 install nnemo2riva-2.6.0-py3-none-any.whl` with the actual `nemo2riva` version in the above step."
   ]
  },
  {
   "cell_type": "code",
   "execution_count": null,
   "id": "2cafcd6d",
   "metadata": {},
   "outputs": [],
   "source": [
    "%%writefile nemo_conversion.sh\n",
    "cd /riva_quickstart\n",
    "pip3 install nvidia-pyindex\n",
    "pip3 install nemo2riva-2.6.0-py3-none-any.whl\n",
    "\n",
    "# Converting acoustic model in Nemo format to Riva format.\n",
    "nemo2riva --out /models/stt_de_citrinet_1024_v1.5.0/stt_de_citrinet_1024.riva /models/stt_de_citrinet_1024_v1.5.0/stt_de_citrinet_1024.nemo --max-dim=100000\n"
   ]
  },
  {
   "cell_type": "code",
   "execution_count": null,
   "id": "73c25691",
   "metadata": {},
   "outputs": [],
   "source": [
    "!mv nemo_conversion.sh  $RIVA_QUICKSTART_DIR\n",
    "!chmod -R 777 $RIVA_QUICKSTART_DIR\n",
    "!chmod -R 777 $RIVA_MODEL_DIR\n",
    "!chmod -R 777 $RIVA_REPO_DIR"
   ]
  },
  {
   "cell_type": "code",
   "execution_count": null,
   "id": "1413baa1",
   "metadata": {},
   "outputs": [],
   "source": [
    "!docker run --gpus=all --rm -v $RIVA_MODEL_DIR/:/models -v $RIVA_QUICKSTART_DIR:/riva_quickstart nvcr.io/nvidia/nemo:22.01 -- /riva_quickstart/nemo_conversion.sh"
   ]
  },
  {
   "cell_type": "markdown",
   "id": "44ee3dda",
   "metadata": {},
   "source": [
    "### Making service\n",
    "\n",
    "The ServiceMaker container is responsible for preparing models for deployment.\n",
    "\n",
    "#### Build and deploy an offline ASR pipeline\n",
    "The ASR pipeline including the acoustic model, language model and inverse text normalization model is built as follows: "
   ]
  },
  {
   "cell_type": "code",
   "execution_count": null,
   "id": "1aacf0de",
   "metadata": {},
   "outputs": [],
   "source": [
    "!docker run --gpus all --rm \\\n",
    "     -v $RIVA_MODEL_DIR:/servicemaker-dev \\\n",
    "     -v $RIVA_REPO_DIR:/data \\\n",
    "     nvcr.io/nvidia/riva/riva-speech:$RIVA_VERSION-servicemaker \\\n",
    "     -- \\\n",
    "     riva-build speech_recognition -f \\\n",
    "     /servicemaker-dev/citrinet-1024-de-DE-asr-offline.rmir /servicemaker-dev/stt_de_citrinet_1024_v1.5.0/stt_de_citrinet_1024.riva \\\n",
    "     --offline \\\n",
    "     --name=citrinet-1024-de-DE-asr-offline \\\n",
    "     --ms_per_timestep=80 \\\n",
    "     --featurizer.use_utterance_norm_params=False \\\n",
    "     --featurizer.precalc_norm_time_steps=0 \\\n",
    "     --featurizer.precalc_norm_params=False \\\n",
    "     --chunk_size=900 \\\n",
    "     --left_padding_size=0. \\\n",
    "     --right_padding_size=0. \\\n",
    "     --decoder_type=flashlight \\\n",
    "     --decoding_language_model_binary=/servicemaker-dev/speechtotext_de_de_lm_vdeployable_v2.0/riva_de_asr_set_2.0_4gram.binary \\\n",
    "     --decoding_vocab=/servicemaker-dev/speechtotext_de_de_lm_vdeployable_v2.0/dict_vocab.txt \\\n",
    "     --flashlight_decoder.lm_weight=0.2 \\\n",
    "     --flashlight_decoder.word_insertion_score=0.2 \\\n",
    "     --flashlight_decoder.beam_threshold=20. \\\n",
    "     --wfst_tokenizer_model=/servicemaker-dev/inverse_normalization_de_de_vdeployable_v1.0/tokenize_and_classify.far \\\n",
    "     --wfst_verbalizer_model=/servicemaker-dev/inverse_normalization_de_de_vdeployable_v1.0/verbalize.far \\\n",
    "     --language_code=de-DE "
   ]
  },
  {
   "cell_type": "markdown",
   "id": "403b7bd1",
   "metadata": {},
   "source": [
    "The `riva-build` command takes in an acoustic model in `.riva` format, the inverse text normalization models in `.far` format, and a n-gram binary language model file.\n",
    "\n",
    "Note: See Riva documentation for build commands for streaming ASR service.\n",
    "\n",
    "\n",
    "Once the built process succeeded, we can deploy the ASR pipeline."
   ]
  },
  {
   "cell_type": "code",
   "execution_count": null,
   "id": "81d340ae",
   "metadata": {},
   "outputs": [],
   "source": [
    "!docker run --gpus all --rm \\\n",
    "     -v $RIVA_MODEL_DIR:/servicemaker-dev \\\n",
    "     -v $RIVA_REPO_DIR:/data \\\n",
    "     nvcr.io/nvidia/riva/riva-speech:$RIVA_VERSION-servicemaker \\\n",
    "     -- \\\n",
    "     riva-deploy -f /servicemaker-dev/citrinet-1024-de-DE-asr-offline.rmir /data/models"
   ]
  },
  {
   "cell_type": "markdown",
   "id": "46885ed9",
   "metadata": {},
   "source": [
    "### Build and deploy and punctuation and capitalization model\n",
    "\n",
    "When doing ASR, the Riva server will look for a punctuator model that matches the language in the ASR request config.\n",
    "The punctuator model can be built and deployed with:"
   ]
  },
  {
   "cell_type": "code",
   "execution_count": null,
   "id": "832a7a6b",
   "metadata": {},
   "outputs": [],
   "source": [
    "!docker run --gpus all --rm \\\n",
    "     -v $RIVA_MODEL_DIR:/servicemaker-dev \\\n",
    "     -v $RIVA_REPO_DIR:/data \\\n",
    "     nvcr.io/nvidia/riva/riva-speech:$RIVA_VERSION-servicemaker \\\n",
    "     -- \\\n",
    "     riva-build punctuation -f \\\n",
    "     /servicemaker-dev/de_punctuation_1_0.rmir  \\\n",
    "     /servicemaker-dev/punctuationcapitalization_de_de_bert_base_vdeployable_v1.0/de_punctuation_1_0.riva --language_code=de-DE"
   ]
  },
  {
   "cell_type": "code",
   "execution_count": null,
   "id": "4dbb7587",
   "metadata": {},
   "outputs": [],
   "source": [
    "!docker run --gpus all --rm \\\n",
    "     -v $RIVA_MODEL_DIR:/servicemaker-dev \\\n",
    "     -v $RIVA_REPO_DIR:/data \\\n",
    "     nvcr.io/nvidia/riva/riva-speech:$RIVA_VERSION-servicemaker \\\n",
    "     -- \\\n",
    "     riva-deploy -f /servicemaker-dev/de_punctuation_1_0.rmir /data/models "
   ]
  },
  {
   "cell_type": "markdown",
   "id": "c9c72fa6",
   "metadata": {},
   "source": [
    "## Start Riva server\n",
    "\n",
    "That concludes the building and deployment of the Riva German ASR service. Now you can start the Riva server."
   ]
  },
  {
   "cell_type": "code",
   "execution_count": null,
   "id": "bfdd6aff",
   "metadata": {},
   "outputs": [],
   "source": [
    "!bash $RIVA_QUICKSTART_DIR/riva_start.sh"
   ]
  },
  {
   "cell_type": "code",
   "execution_count": null,
   "id": "e8793977",
   "metadata": {},
   "outputs": [],
   "source": []
  }
 ],
 "metadata": {
  "kernelspec": {
   "display_name": "Python 3 (ipykernel)",
   "language": "python",
   "name": "python3"
  },
  "language_info": {
   "codemirror_mode": {
    "name": "ipython",
    "version": 3
   },
   "file_extension": ".py",
   "mimetype": "text/x-python",
   "name": "python",
   "nbconvert_exporter": "python",
   "pygments_lexer": "ipython3",
   "version": "3.8.13"
  }
 },
 "nbformat": 4,
 "nbformat_minor": 5
}
