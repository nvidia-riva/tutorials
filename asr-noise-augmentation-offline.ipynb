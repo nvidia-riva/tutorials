{
  "nbformat": 4,
  "nbformat_minor": 0,
  "metadata": {
    "colab": {
      "provenance": []
    },
    "kernelspec": {
      "name": "python3",
      "display_name": "Python 3"
    },
    "language_info": {
      "name": "python"
    }
  },
  "cells": [
    {
      "cell_type": "markdown",
      "source": [
        "**Introduction**\n",
        "Data augmentation is a useful method to improve the performance of models which is applicable across multiple domains. It can substantially improve robustness of models to noisy saacousstic envirnoments. This tutorial walks you through the process of creating  a noisy dataset using example files. Before we get started, let's download noise samples and clean datasets.  \n"
      ],
      "metadata": {
        "id": "6ndKPVBlKh8M"
      }
    },
    {
      "cell_type": "code",
      "execution_count": null,
      "metadata": {
        "id": "tghrnztOnwOT"
      },
      "outputs": [],
      "source": [
        "\"\"\"\n",
        "You can run either this notebook locally (if you have all the dependencies and a GPU) or on Google Colab.\n",
        "\n",
        "Instructions for setting up Colab are as follows:\n",
        "1. Open a new Python 3 notebook.\n",
        "2. Import this notebook from GitHub (File -> Upload Notebook -> \"GITHUB\" tab -> copy/paste GitHub URL)\n",
        "3. Connect to an instance with a GPU (Runtime -> Change runtime type -> select \"GPU\" for hardware accelerator)\n",
        "4. Run this cell to set up dependencies.\n",
        "5. Restart the runtime (Runtime -> Restart Runtime) for any upgraded packages to take effect\n",
        "\"\"\"\n",
        "# If you're using Google Colab and not running locally, run this cell.\n",
        "\n",
        "## Install dependencies\n",
        "!pip install wget\n",
        "!apt-get install sox  \n",
        "\n",
        "\"\"\"\n",
        "Remember to restart the runtime for the kernel to pick up any upgraded packages (e.g. matplotlib)!\n",
        "Alternatively, you can uncomment the exit() below to crash and restart the kernel, in the case\n",
        "that you want to use the \"Run All Cells\" (or similar) option.\n",
        "\"\"\"\n",
        "# exit()"
      ]
    },
    {
      "cell_type": "code",
      "source": [
        "import os\n",
        "# This is where the noise samples will be placed.\n",
        "noise_samples = 'noise_samples'\n",
        "if not os.path.exists(noise_samples):\n",
        "  os.makedirs(noise_samples)"
      ],
      "metadata": {
        "id": "DQEba2pIo77o"
      },
      "execution_count": 2,
      "outputs": []
    },
    {
      "cell_type": "code",
      "source": [
        "# Download car noise samples\n",
        "import subprocess\n",
        "import wget\n",
        "import glob\n",
        "import tarfile\n",
        "import librosa  \n",
        "import soundfile as sf\n",
        "\n",
        "# Download and untar the clean audio file.\n",
        "if not os.path.exists(noise_samples + '/rirs_noises.zip'):\n",
        "    rirs_noises_url = 'https://www.openslr.org/resources/28/rirs_noises.zip'  \n",
        "    rirs_noises_path = wget.download(rirs_noises_url, noise_samples)\n",
        "    print(f\"Dataset downloaded at: {rirs_noises_path}\")\n",
        "else:\n",
        "    print(\"Zipfile already exists.\")\n",
        "    musan_path = noise_samples + '/rirs_noises.zip'\n",
        "\n",
        "# Uunzip rirs_noises\n",
        "# Extract noise data\n",
        "from zipfile import ZipFile\n",
        "if not os.path.exists(noise_samples + '/RIRS_NOISES'):\n",
        "    try:\n",
        "        with ZipFile(rirs_noises_path, \"r\") as zipObj:\n",
        "            zipObj.extractall(noise_samples)\n",
        "            print(\"Extracting noise data complete\")\n",
        "        # Convert 8-channel audio files to mono-channel\n",
        "        wav_list = glob.glob(noise_samples + '/RIRS_NOISES/**/*.wav', recursive=True)\n",
        "        for wav_path in wav_list:\n",
        "            mono_wav_path = wav_path[:-4] + '_mono.wav'\n",
        "            cmd = f\"sox {wav_path} {mono_wav_path} remix 1\"\n",
        "            subprocess.call(cmd, shell=True)\n",
        "        print(\"Finished converting the 8-channel noise data .wav files to mono-channel\")\n",
        "    except Exception:\n",
        "        print(\"Not extracting. Extracted noise data might already exist.\")\n",
        "else: \n",
        "    print(\"Extracted noise data already exists. Proceed to the next step.\")\n",
        "\n",
        "#tar = tarfile.open(rirs_noises_path)\n",
        "#tar.extractall(path=noise_samples)\n",
        "\n",
        "# Let's create the following list of noise samples to better showcase the effect of SNR in synthesizing noisy audio files\n",
        "noise_sample_list = [\n",
        "                    'noise_samples/RIRS_NOISES/pointsource_noises/noise-free-sound-0057_mono.wav',\n",
        "                    'noise_samples/RIRS_NOISES/pointsource_noises/noise-free-sound-0113_mono.wav',\n",
        "                    'noise_samples/RIRS_NOISES/pointsource_noises/noise-free-sound-0232_mono.wav',\n",
        "                    'noise_samples/RIRS_NOISES/pointsource_noises/noise-free-sound-0532_mono.wav',\n",
        "                    'noise_samples/RIRS_NOISES/pointsource_noises/noise-free-sound-0533_mono.wav',\n",
        "                    'noise_samples/RIRS_NOISES/pointsource_noises/noise-free-sound-0603_mono.wav',\n",
        "                    'noise_samples/RIRS_NOISES/pointsource_noises/noise-free-sound-0605_mono.wav',\n",
        "                   ]\n"
      ],
      "metadata": {
        "id": "5rJxWgaeGNU9"
      },
      "execution_count": null,
      "outputs": []
    },
    {
      "cell_type": "code",
      "source": [
        "# This is where the clean audio files will be placed.\n",
        "clean_audio = 'clean_audio'\n",
        "if not os.path.exists(clean_audio):\n",
        "  os.makedirs(clean_audio)"
      ],
      "metadata": {
        "id": "6D5AiGKWdsbO"
      },
      "execution_count": 5,
      "outputs": []
    },
    {
      "cell_type": "code",
      "source": [
        "# Download and untar the clean audio file.\n",
        "if not os.path.exists(clean_audio + '/an4_sphere.tar.gz'):\n",
        "    an4_url = 'https://dldata-public.s3.us-east-2.amazonaws.com/an4_sphere.tar.gz'  # for the original source, please visit http://www.speech.cs.cmu.edu/databases/an4/an4_sphere.tar.gz \n",
        "    an4_path = wget.download(an4_url, clean_audio)\n",
        "    print(f\"Dataset downloaded at: {an4_path}\")\n",
        "else:\n",
        "    print(\"Tarfile already exists.\")\n",
        "    an4_path = clean_audio + '/an4_sphere.tar.gz'\n",
        "\n",
        "#if os.path.exists(clean_audio_data + '/an4/'):\n",
        "# Untar and convert .sph to .wav (using sox)\n",
        "tar = tarfile.open(an4_path)\n",
        "tar.extractall(path=clean_audio)\n",
        "\n",
        "print(\"Converting .sph to .wav...\")\n",
        "sph_list = glob.glob(clean_audio + '/an4/**/*.sph', recursive=True)\n",
        "for sph_path in sph_list:\n",
        "   wav_path = sph_path[:-4] + '.wav'\n",
        "   cmd = [\"sox\", sph_path, wav_path]\n",
        "   subprocess.run(cmd)\n",
        "print(\"Finished conversion.\\n******\")\n",
        "\n",
        "clean_audio_list = [os.path.join(dp, f) for dp, dn, filenames in os.walk(clean_audio) for f in filenames if os.path.splitext(f)[1] == '.wav']\n",
        " \n"
      ],
      "metadata": {
        "id": "XYyOB8FliOKe"
      },
      "execution_count": null,
      "outputs": []
    },
    {
      "cell_type": "code",
      "source": [
        "# create a directory where we put the sythesized noisy files\n",
        "noisy_files = \"noisy_files\"\n",
        "if not os.path.exists(noisy_files):\n",
        "  os.makedirs(noisy_files)"
      ],
      "metadata": {
        "id": "f4jcCWrfiqTR"
      },
      "execution_count": 7,
      "outputs": []
    },
    {
      "cell_type": "code",
      "source": [
        "# function to read audio\n",
        "def audioread(path, norm = True, start=0, stop=None):\n",
        "    path = os.path.abspath(path)\n",
        "    if not os.path.exists(path):\n",
        "        raise ValueError(\"[{}] does not exist!\".format(path))\n",
        "    try:\n",
        "        x, sr = sf.read(path, start=start, stop=stop)\n",
        "    except RuntimeError:  # fix for sph pcm-embedded shortened v2\n",
        "        print('WARNING: Audio type not supported')\n",
        "\n",
        "    if len(x.shape) == 1:  # mono\n",
        "        if norm:\n",
        "            rms = (x ** 2).mean() ** 0.5\n",
        "            if rms == 0:\n",
        "               rms = 1\n",
        "            scalar = 10 ** (-25 / 20) / (rms)\n",
        "            x = x * scalar\n",
        "        return x, sr\n",
        "    else:  # multi-channel\n",
        "        x = x.T\n",
        "        x = x.sum(axis=0)/x.shape[0]\n",
        "        if norm:\n",
        "            rms = (x ** 2).mean() ** 0.5\n",
        "            if rms == 0:\n",
        "               rms = 1\n",
        "            scalar = 10 ** (-25 / 20) / (rms)\n",
        "            x = x * scalar\n",
        "        return x, sr"
      ],
      "metadata": {
        "id": "9kAs0Xg1uKuN"
      },
      "execution_count": 8,
      "outputs": []
    },
    {
      "cell_type": "code",
      "source": [
        "# funtion to write audio\n",
        "def audiowrite(data, fs, destpath, norm=False):\n",
        "    if norm:\n",
        "        rms = (data ** 2).mean() ** 0.5\n",
        "        scalar = 10 ** (-25 / 10) / (rms+eps)\n",
        "        data = data * scalar\n",
        "        if max(abs(data))>=1:\n",
        "            data = data/max(abs(data), eps)\n",
        "\n",
        "    destpath = os.path.abspath(destpath)\n",
        "    destdir = os.path.dirname(destpath)\n",
        "\n",
        "    if not os.path.exists(destdir):\n",
        "        os.makedirs(destdir)\n",
        "\n",
        "    sf.write(destpath, data, fs)\n",
        "    return"
      ],
      "metadata": {
        "id": "VI7IIKLUuQVy"
      },
      "execution_count": 9,
      "outputs": []
    },
    {
      "cell_type": "code",
      "source": [
        "# function to mix a clean speech with a noise sample at a specified SNR level\n",
        "def snr_mixer(clean, noise, snr):\n",
        "    # Normalizing to -25 dB FS\n",
        "    rmsclean = (clean**2).mean()**0.5\n",
        "    if rmsclean == 0:\n",
        "       rmsclean = 1\n",
        "    \n",
        "    scalarclean = 10 ** (-25 / 20) / rmsclean\n",
        "    clean = clean * scalarclean\n",
        "    rmsclean = (clean**2).mean()**0.5\n",
        "\n",
        "    rmsnoise = (noise**2).mean()**0.5\n",
        "    if rmsnoise == 0:\n",
        "       rmsnoise = 1\n",
        "    \n",
        "    scalarnoise = 10 ** (-25 / 20) /rmsnoise\n",
        "    noise = noise * scalarnoise\n",
        "    rmsnoise = (noise**2).mean()**0.5\n",
        "    if rmsnoise == 0:\n",
        "       rmsnoise = 1\n",
        "    \n",
        "    # Set the noise level for a given SNR\n",
        "    noisescalar = np.sqrt(rmsclean / (10**(snr/20)) / rmsnoise)\n",
        "    noisenewlevel = noise * noisescalar\n",
        "    noisyspeech = clean + noisenewlevel\n",
        "    return clean, noisenewlevel, noisyspeech"
      ],
      "metadata": {
        "id": "x25q8ammuW6b"
      },
      "execution_count": 10,
      "outputs": []
    },
    {
      "cell_type": "code",
      "source": [
        "# add zeros to a noise sampe to make it of the same duration as the clean audio\n",
        "def concatenate_noise_sample(noise, fs, len_clean):\n",
        "    silence_length = 0.5\n",
        "    while len(noise) <= len_clean:\n",
        "       noiseconcat = np.append(noise, np.zeros(int(fs*silence_length)))\n",
        "       noise = np.append(noiseconcat, noise)\n",
        "\n",
        "    if noise.size > len_clean:\n",
        "       noise = noise[0:len_clean]\n",
        "\n",
        "    return noise"
      ],
      "metadata": {
        "id": "T2lsYSwkus9w"
      },
      "execution_count": 11,
      "outputs": []
    },
    {
      "cell_type": "code",
      "source": [
        "# Let's randomly select one clean audio  and one noise sample\n",
        "import random\n",
        "import numpy as np\n",
        "\n",
        "c_size = len(clean_audio_list)-1 \n",
        "n_size = len(noise_sample_list)-1 \n",
        "\n",
        "idx_c = random.randint(0, c_size)\n",
        "idx_n = random.randint(0, n_size)\n",
        "\n",
        "# Now, let's mix the selected clean audio and noie sample at 0dB SNR\n",
        "SNR = 0\n",
        "clean_f_name = clean_audio_list[idx_c]\n",
        "noise_sample_f_name = noise_sample_list[idx_n]\n",
        "\n",
        "clean, fs = audioread(clean_f_name)\n",
        "noise, n_fs = audioread(noise_sample_f_name)\n",
        "if len(noise) > len(clean):\n",
        "   noise = noise[0:len(clean)]\n",
        "elif len(noise) < len(clean):\n",
        "   noise = concatenate_noise_sample(noise, n_fs, clean.size)\n",
        "\n",
        "file_name = os.path.basename(clean_f_name)\n",
        "noisy_f_name = noisy_files + \"/\" +  file_name[:-4] + \"_0dB_snr.wav\"\n",
        "\n",
        "clean_snr, noise_snr, noisy_snr = snr_mixer(clean=clean, noise=noise, snr=SNR)\n",
        "audiowrite(noisy_snr, fs, noisy_f_name, norm=False)\n",
        "print(\"Finished creating noisy file.\\n******\")\n"
      ],
      "metadata": {
        "id": "ca6t4pu4uagZ"
      },
      "execution_count": null,
      "outputs": []
    },
    {
      "cell_type": "code",
      "source": [
        "# Now let's playback the clean audio \n",
        "from IPython.display import Audio, display\n",
        "display(Audio(clean_f_name, autoplay=True))\n"
      ],
      "metadata": {
        "id": "LoELJ5VzyUAV"
      },
      "execution_count": null,
      "outputs": []
    },
    {
      "cell_type": "code",
      "source": [
        "# Play the corresponding noisy file\n",
        "noisy_file = \"noisy_files/\" + os.path.basename(noisy_f_name)\n",
        "display(Audio(noisy_f_name, autoplay=True))\n"
      ],
      "metadata": {
        "id": "IjyFzXxx1u8B"
      },
      "execution_count": null,
      "outputs": []
    },
    {
      "cell_type": "code",
      "source": [
        "#Let's mix the files at 15dB SNR \n",
        "SNR = 15\n",
        "noisy_f_name = noisy_files + \"/\" +  file_name[:-4] + \"_15dB_snr.wav\"\n",
        "clean_snr, noise_snr, noisy_snr = snr_mixer(clean=clean, noise=noise, snr=SNR)\n",
        "audiowrite(noisy_snr, fs, noisy_f_name, norm=False)\n",
        "print(\"Finished creating noisy file.\\n******\")\n"
      ],
      "metadata": {
        "id": "0jatwV3lIJuv"
      },
      "execution_count": null,
      "outputs": []
    },
    {
      "cell_type": "code",
      "source": [
        "# Play the corresponding noisy file\n",
        "noisy_file = \"noisy_files/\" + os.path.basename(noisy_f_name)\n",
        "display(Audio(noisy_f_name, autoplay=True))"
      ],
      "metadata": {
        "id": "cX0rbbJRJY4Q"
      },
      "execution_count": null,
      "outputs": []
    },
    {
      "cell_type": "markdown",
      "source": [
        "In general, any number of noisy files are created as follows:\n",
        "*   For each clean audio clip in the clean dataset\n",
        "*   Randomly choose a noise sample from the set of noise samples\n",
        "*   Randomly selects an SNR from [5, 10, 15]\n",
        "*   Mix the two snippets using the target SNR\n",
        "*   Save the result"
      ],
      "metadata": {
        "id": "4RwcrLs1RYOV"
      }
    }
  ]
}