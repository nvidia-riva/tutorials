{
 "cells": [
  {
   "cell_type": "markdown",
   "id": "6b22d6f9-2f82-4032-b836-f4e83088b1e1",
   "metadata": {},
   "source": [
    "# Text normalization\n",
    "\n"
   ]
  },
  {
   "cell_type": "code",
   "execution_count": 2,
   "id": "3dc9d36a-19f7-4b97-bab3-295a94c63f50",
   "metadata": {},
   "outputs": [
    {
     "name": "stdout",
     "output_type": "stream",
     "text": [
      "Collecting cython\n",
      "  Downloading https://files.pythonhosted.org/packages/25/db/4e67284be5bb1b191e622cbf371c068dee75423ebf067f13030ea80ab0ef/Cython-0.29.28-cp36-cp36m-manylinux_2_5_x86_64.manylinux1_x86_64.whl (2.0MB)\n",
      "\u001b[K    100% |████████████████████████████████| 2.0MB 395kB/s eta 0:00:01\n",
      "\u001b[?25hInstalling collected packages: cython\n",
      "Successfully installed cython-0.29.28\n",
      "Collecting absl-py==0.13.0 (from -r requirements.txt (line 1))\n",
      "  Using cached https://files.pythonhosted.org/packages/23/47/835652c7e19530973c73c65e652fc53bd05725d5a7cf9bb8706777869c1e/absl_py-0.13.0-py3-none-any.whl\n",
      "Collecting aiohttp==3.7.4.post0 (from -r requirements.txt (line 2))\n",
      "  Using cached https://files.pythonhosted.org/packages/99/f5/90ede947a3ce2d6de1614799f5fea4e93c19b6520a59dc5d2f64123b032f/aiohttp-3.7.4.post0.tar.gz\n",
      "Collecting antlr4-python3-runtime==4.8 (from -r requirements.txt (line 3))\n",
      "  Using cached https://files.pythonhosted.org/packages/56/02/789a0bddf9c9b31b14c3e79ec22b9656185a803dc31c15f006f9855ece0d/antlr4-python3-runtime-4.8.tar.gz\n",
      "Collecting async-timeout==3.0.1 (from -r requirements.txt (line 4))\n",
      "  Using cached https://files.pythonhosted.org/packages/e1/1e/5a4441be21b0726c4464f3f23c8b19628372f606755a9d2e46c187e65ec4/async_timeout-3.0.1-py3-none-any.whl\n",
      "Collecting attrs==21.2.0 (from -r requirements.txt (line 5))\n",
      "  Using cached https://files.pythonhosted.org/packages/20/a9/ba6f1cd1a1517ff022b35acd6a7e4246371dfab08b8e42b829b6d07913cc/attrs-21.2.0-py2.py3-none-any.whl\n",
      "Collecting braceexpand==0.1.7 (from -r requirements.txt (line 6))\n",
      "  Using cached https://files.pythonhosted.org/packages/fa/93/e8c04e80e82391a6e51f218ca49720f64236bc824e92152a2633b74cf7ab/braceexpand-0.1.7-py2.py3-none-any.whl\n",
      "Collecting cachetools==4.2.2 (from -r requirements.txt (line 7))\n",
      "  Using cached https://files.pythonhosted.org/packages/bf/28/c4f5796c67ad06bb91d98d543a5e01805c1ff065e08871f78e52d2a331ad/cachetools-4.2.2-py3-none-any.whl\n",
      "Collecting certifi==2021.5.30 (from -r requirements.txt (line 8))\n",
      "  Using cached https://files.pythonhosted.org/packages/05/1b/0a0dece0e8aa492a6ec9e4ad2fe366b511558cdc73fd3abc82ba7348e875/certifi-2021.5.30-py2.py3-none-any.whl\n",
      "Collecting chardet==4.0.0 (from -r requirements.txt (line 9))\n",
      "  Using cached https://files.pythonhosted.org/packages/19/c7/fa589626997dd07bd87d9269342ccb74b1720384a4d739a1872bd84fbe68/chardet-4.0.0-py2.py3-none-any.whl\n",
      "Collecting charset-normalizer==2.0.4 (from -r requirements.txt (line 10))\n",
      "  Using cached https://files.pythonhosted.org/packages/33/53/b7f6126a2b9fd878b025fe3c40266cfaad696f312165008ce045bffa3fe7/charset_normalizer-2.0.4-py3-none-any.whl\n",
      "Collecting click==8.0.1 (from -r requirements.txt (line 11))\n",
      "  Using cached https://files.pythonhosted.org/packages/76/0a/b6c5f311e32aeb3b406e03c079ade51e905ea630fc19d1262a46249c1c86/click-8.0.1-py3-none-any.whl\n",
      "Collecting Cython==0.29.24 (from -r requirements.txt (line 12))\n",
      "  Using cached https://files.pythonhosted.org/packages/d7/04/5890b30102782a3ec9970df3c10f024298803d89624ee23cf75d09bd2548/Cython-0.29.24-cp36-cp36m-manylinux1_x86_64.whl\n",
      "Collecting dataclasses==0.8 (from -r requirements.txt (line 13))\n",
      "  Using cached https://files.pythonhosted.org/packages/fe/ca/75fac5856ab5cfa51bbbcefa250182e50441074fdc3f803f6e76451fab43/dataclasses-0.8-py3-none-any.whl\n",
      "Collecting docopt==0.6.2 (from -r requirements.txt (line 14))\n",
      "Collecting filelock==3.0.12 (from -r requirements.txt (line 15))\n",
      "  Using cached https://files.pythonhosted.org/packages/93/83/71a2ee6158bb9f39a90c0dea1637f81d5eef866e188e1971a1b1ab01a35a/filelock-3.0.12-py3-none-any.whl\n",
      "Collecting fsspec==2021.7.0 (from -r requirements.txt (line 16))\n",
      "  Using cached https://files.pythonhosted.org/packages/40/e1/7111d8afc76ee3171f4f99592cd29bac9d233ae1aa34623011506f955434/fsspec-2021.7.0-py3-none-any.whl\n",
      "Collecting future==0.18.2 (from -r requirements.txt (line 17))\n",
      "  Using cached https://files.pythonhosted.org/packages/45/0b/38b06fd9b92dc2b68d58b75f900e97884c45bedd2ff83203d933cf5851c9/future-0.18.2.tar.gz\n",
      "Collecting google-auth==1.34.0 (from -r requirements.txt (line 18))\n",
      "  Using cached https://files.pythonhosted.org/packages/35/bb/694d851e2c0776a422d43d579b82b7cc065da248d557f37595563824b1c9/google_auth-1.34.0-py2.py3-none-any.whl\n",
      "Collecting google-auth-oauthlib==0.4.5 (from -r requirements.txt (line 19))\n",
      "  Using cached https://files.pythonhosted.org/packages/45/d9/df4019fc28b3aed8218e1bfca38158b90b70a3583c15f568ca669564dc24/google_auth_oauthlib-0.4.5-py2.py3-none-any.whl\n",
      "Collecting grpcio==1.39.0 (from -r requirements.txt (line 20))\n",
      "  Using cached https://files.pythonhosted.org/packages/07/ea/398472e896f529d23fb58e33f01298dfc554a341d58f87c1ea5ad817208e/grpcio-1.39.0.tar.gz\n",
      "Collecting huggingface-hub==0.0.12 (from -r requirements.txt (line 21))\n",
      "  Using cached https://files.pythonhosted.org/packages/2f/ee/97e253668fda9b17e968b3f97b2f8e53aa0127e8807d24a547687423fe0b/huggingface_hub-0.0.12-py3-none-any.whl\n",
      "Collecting hydra-core==1.1.0 (from -r requirements.txt (line 22))\n",
      "  Using cached https://files.pythonhosted.org/packages/c3/cd/85aa2e3a8babc36feac99df785e54abf99afbc4acc20488630f3ef46980a/hydra_core-1.1.0-py3-none-any.whl\n",
      "Collecting idna==3.2 (from -r requirements.txt (line 23))\n",
      "  Using cached https://files.pythonhosted.org/packages/d7/77/ff688d1504cdc4db2a938e2b7b9adee5dd52e34efbd2431051efc9984de9/idna-3.2-py3-none-any.whl\n",
      "Collecting idna-ssl==1.1.0 (from -r requirements.txt (line 24))\n",
      "  Using cached https://files.pythonhosted.org/packages/46/03/07c4894aae38b0de52b52586b24bf189bb83e4ddabfe2e2c8f2419eec6f4/idna-ssl-1.1.0.tar.gz\n",
      "Collecting importlib-metadata==4.6.3 (from -r requirements.txt (line 25))\n",
      "  Using cached https://files.pythonhosted.org/packages/07/76/c4674c460f5ff4b5f7a962214e46295e20504dfde9fcba78fd728dfe2ac9/importlib_metadata-4.6.3-py3-none-any.whl\n",
      "Collecting importlib-resources==5.2.2 (from -r requirements.txt (line 26))\n",
      "  Using cached https://files.pythonhosted.org/packages/f2/6c/2f3b930513bb971172ffceb63cf4e910944e57451724e69b1dec97cfefa6/importlib_resources-5.2.2-py3-none-any.whl\n",
      "Collecting iniconfig==1.1.1 (from -r requirements.txt (line 27))\n",
      "  Using cached https://files.pythonhosted.org/packages/9b/dd/b3c12c6d707058fa947864b67f0c4e0c39ef8610988d7baea9578f3c48f3/iniconfig-1.1.1-py2.py3-none-any.whl\n",
      "Collecting jieba==0.42.1 (from -r requirements.txt (line 28))\n",
      "  Using cached https://files.pythonhosted.org/packages/c6/cb/18eeb235f833b726522d7ebed54f2278ce28ba9438e3135ab0278d9792a2/jieba-0.42.1.tar.gz\n",
      "Collecting joblib==1.0.1 (from -r requirements.txt (line 29))\n",
      "  Using cached https://files.pythonhosted.org/packages/55/85/70c6602b078bd9e6f3da4f467047e906525c355a4dacd4f71b97a35d9897/joblib-1.0.1-py3-none-any.whl\n",
      "Collecting llvmlite==0.36.0 (from -r requirements.txt (line 30))\n",
      "  Using cached https://files.pythonhosted.org/packages/19/66/6b2c49c7c68da48d17059882fdb9ad9ac9e5ac3f22b00874d7996e3c44a8/llvmlite-0.36.0.tar.gz\n",
      "Collecting Markdown==3.3.4 (from -r requirements.txt (line 31))\n",
      "  Using cached https://files.pythonhosted.org/packages/6e/33/1ae0f71395e618d6140fbbc9587cc3156591f748226075e0f7d6f9176522/Markdown-3.3.4-py3-none-any.whl\n",
      "Collecting multidict==5.1.0 (from -r requirements.txt (line 32))\n",
      "  Using cached https://files.pythonhosted.org/packages/1c/74/e8b46156f37ca56d10d895d4e8595aa2b344cff3c1fb3629ec97a8656ccb/multidict-5.1.0.tar.gz\n",
      "Collecting nemo-toolkit==1.2.0 (from -r requirements.txt (line 33))\n",
      "  Using cached https://files.pythonhosted.org/packages/d3/34/098b70ac95b5ede73700df5b3bac97ff55a5ce3e9fc749169b86c72791f6/nemo_toolkit-1.2.0-py3-none-any.whl\n",
      "Collecting num2words==0.5.10 (from -r requirements.txt (line 34))\n",
      "  Using cached https://files.pythonhosted.org/packages/eb/a2/ea800689730732e27711c41beed4b2a129b34974435bdc450377ec407738/num2words-0.5.10-py3-none-any.whl\n",
      "Collecting numba==0.53.1 (from -r requirements.txt (line 35))\n",
      "  Using cached https://files.pythonhosted.org/packages/e3/7d/3d61160836e49f40913741c464f119551c15ed371c1d91ea50308495b93b/numba-0.53.1.tar.gz\n",
      "Collecting numpy==1.19.5 (from -r requirements.txt (line 36))\n",
      "  Using cached https://files.pythonhosted.org/packages/45/b2/6c7545bb7a38754d63048c7696804a0d947328125d81bf12beaa692c3ae3/numpy-1.19.5-cp36-cp36m-manylinux1_x86_64.whl\n",
      "Collecting oauthlib==3.1.1 (from -r requirements.txt (line 37))\n",
      "  Using cached https://files.pythonhosted.org/packages/e8/5d/9dd1c29e5a786525f6342f6c1d812ed2e37edc653ad297048c1668988053/oauthlib-3.1.1-py2.py3-none-any.whl\n",
      "Collecting omegaconf==2.1.0 (from -r requirements.txt (line 38))\n",
      "  Using cached https://files.pythonhosted.org/packages/f9/96/1966b48bfe6ca64bfadfa7bcc9a8d73c5d83b4be769321fcc5d617abeb0c/omegaconf-2.1.0-py3-none-any.whl\n",
      "Collecting onnx==1.10.1 (from -r requirements.txt (line 39))\n",
      "  Using cached https://files.pythonhosted.org/packages/18/ec/d1d74c6355a139a633d1335620e6d891e3a3556889b3d0ede878ab53fc11/onnx-1.10.1.tar.gz\n",
      "Collecting OpenCC==1.1.2 (from -r requirements.txt (line 40))\n",
      "  Using cached https://files.pythonhosted.org/packages/5d/7b/6e402aa2a5f4dbe802c9c8441dcf6b5352e10260ec713e06f6ef61f02821/OpenCC-1.1.2-cp36-cp36m-manylinux1_x86_64.whl\n",
      "Collecting packaging==21.0 (from -r requirements.txt (line 41))\n",
      "  Using cached https://files.pythonhosted.org/packages/3c/77/e2362b676dc5008d81be423070dd9577fa03be5da2ba1105811900fda546/packaging-21.0-py3-none-any.whl\n",
      "Collecting pangu==4.0.6.1 (from -r requirements.txt (line 42))\n",
      "  Using cached https://files.pythonhosted.org/packages/48/77/b52fac2ca4e4596f22dd6200b99ad515fb64b1ae7d3a12325b45b11e2a67/pangu-4.0.6.1-py3-none-any.whl\n",
      "Collecting Pillow==8.3.1 (from -r requirements.txt (line 43))\n",
      "  Using cached https://files.pythonhosted.org/packages/df/74/4a981d12fa26b83c9230b67dee44d1361a372e0f22785f093969fd98b964/Pillow-8.3.1-cp36-cp36m-manylinux_2_5_x86_64.manylinux1_x86_64.whl\n",
      "Collecting pluggy==0.13.1 (from -r requirements.txt (line 44))\n",
      "  Using cached https://files.pythonhosted.org/packages/a0/28/85c7aa31b80d150b772fbe4a229487bc6644da9ccb7e427dd8cc60cb8a62/pluggy-0.13.1-py2.py3-none-any.whl\n",
      "Collecting ply==3.11 (from -r requirements.txt (line 45))\n",
      "  Using cached https://files.pythonhosted.org/packages/a3/58/35da89ee790598a0700ea49b2a66594140f44dec458c07e8e3d4979137fc/ply-3.11-py2.py3-none-any.whl\n",
      "Collecting protobuf==3.17.3 (from -r requirements.txt (line 46))\n",
      "  Using cached https://files.pythonhosted.org/packages/53/4e/e2db88d0bb0bda6a879eea62fddbaf813719ce3770d458bc5580512d9c95/protobuf-3.17.3-cp36-cp36m-manylinux_2_5_x86_64.manylinux1_x86_64.whl\n",
      "Collecting py==1.10.0 (from -r requirements.txt (line 47))\n",
      "  Using cached https://files.pythonhosted.org/packages/67/32/6fe01cfc3d1a27c92fdbcdfc3f67856da8cbadf0dd9f2e18055202b2dc62/py-1.10.0-py2.py3-none-any.whl\n",
      "Collecting pyasn1==0.4.8 (from -r requirements.txt (line 48))\n",
      "  Using cached https://files.pythonhosted.org/packages/62/1e/a94a8d635fa3ce4cfc7f506003548d0a2447ae76fd5ca53932970fe3053f/pyasn1-0.4.8-py2.py3-none-any.whl\n",
      "Collecting pyasn1-modules==0.2.8 (from -r requirements.txt (line 49))\n",
      "  Using cached https://files.pythonhosted.org/packages/95/de/214830a981892a3e286c3794f41ae67a4495df1108c3da8a9f62159b9a9d/pyasn1_modules-0.2.8-py2.py3-none-any.whl\n",
      "Collecting pyDeprecate==0.3.0 (from -r requirements.txt (line 50))\n",
      "  Using cached https://files.pythonhosted.org/packages/14/52/aa227a0884df71ed1957649085adf2b8bc2a1816d037c2f18b3078854516/pyDeprecate-0.3.0-py3-none-any.whl\n",
      "Collecting pynini==2.1.4 (from -r requirements.txt (line 51))\n",
      "  Using cached https://files.pythonhosted.org/packages/8d/24/a98a6c0ef2e85c9ce4f39c618f140e1a8cc44e5117034b427203dc0ef950/pynini-2.1.4.tar.gz\n",
      "Collecting pyparsing==2.4.7 (from -r requirements.txt (line 52))\n",
      "  Downloading https://files.pythonhosted.org/packages/8a/bb/488841f56197b13700afd5658fc279a2025a39e22449b7cf29864669b15d/pyparsing-2.4.7-py2.py3-none-any.whl (67kB)\n",
      "\u001b[K    100% |████████████████████████████████| 71kB 1.8MB/s eta 0:00:01\n",
      "\u001b[?25hCollecting pytest==6.2.4 (from -r requirements.txt (line 53))\n",
      "  Downloading https://files.pythonhosted.org/packages/a1/59/6821e900592fbe261f19d67e4def0cb27e52ef8ed16d9922c144961cc1ee/pytest-6.2.4-py3-none-any.whl (280kB)\n",
      "\u001b[K    100% |████████████████████████████████| 286kB 1.2MB/s eta 0:00:01\n",
      "\u001b[?25hCollecting python-dateutil==2.8.2 (from -r requirements.txt (line 54))\n",
      "  Using cached https://files.pythonhosted.org/packages/36/7a/87837f39d0296e723bb9b62bbb257d0355c7f6128853c78955f57342a56d/python_dateutil-2.8.2-py2.py3-none-any.whl\n",
      "Collecting pytorch-lightning==1.3.8 (from -r requirements.txt (line 55))\n",
      "  Downloading https://files.pythonhosted.org/packages/48/5e/19c817ad2670c1d822642ed7bfc4d9d4c30c2f8eaefebcd575a3188d7319/pytorch_lightning-1.3.8-py3-none-any.whl (813kB)\n",
      "\u001b[K    100% |████████████████████████████████| 819kB 814kB/s eta 0:00:01\n",
      "\u001b[?25hCollecting PyYAML==5.4.1 (from -r requirements.txt (line 56))\n",
      "  Downloading https://files.pythonhosted.org/packages/7a/5b/bc0b5ab38247bba158504a410112b6c03f153c652734ece1849749e5f518/PyYAML-5.4.1-cp36-cp36m-manylinux1_x86_64.whl (640kB)\n",
      "\u001b[K    100% |████████████████████████████████| 645kB 1.1MB/s eta 0:00:01\n",
      "\u001b[?25hCollecting regex==2021.8.3 (from -r requirements.txt (line 57))\n",
      "  Downloading https://files.pythonhosted.org/packages/06/0c/38f156bc6b852574ab357d1b13c400e7f09efb0bc9e72379046b10b72217/regex-2021.8.3-cp36-cp36m-manylinux_2_5_x86_64.manylinux1_x86_64.manylinux_2_12_x86_64.manylinux2010_x86_64.whl (665kB)\n",
      "\u001b[K    100% |████████████████████████████████| 665kB 1.0MB/s eta 0:00:01\n",
      "\u001b[?25hCollecting requests==2.26.0 (from -r requirements.txt (line 58))\n",
      "  Downloading https://files.pythonhosted.org/packages/92/96/144f70b972a9c0eabbd4391ef93ccd49d0f2747f4f6a2a2738e99e5adc65/requests-2.26.0-py2.py3-none-any.whl (62kB)\n",
      "\u001b[K    100% |████████████████████████████████| 71kB 1.8MB/s eta 0:00:01\n",
      "\u001b[?25hCollecting requests-oauthlib==1.3.0 (from -r requirements.txt (line 59))\n",
      "  Downloading https://files.pythonhosted.org/packages/a3/12/b92740d845ab62ea4edf04d2f4164d82532b5a0b03836d4d4e71c6f3d379/requests_oauthlib-1.3.0-py2.py3-none-any.whl\n",
      "Collecting rsa==4.7.2 (from -r requirements.txt (line 60))\n",
      "  Downloading https://files.pythonhosted.org/packages/e9/93/0c0f002031f18b53af7a6166103c02b9c0667be528944137cc954ec921b3/rsa-4.7.2-py3-none-any.whl\n",
      "Collecting ruamel.yaml==0.17.10 (from -r requirements.txt (line 61))\n",
      "  Downloading https://files.pythonhosted.org/packages/0e/57/19361b93542a1bb071fe8b7dd5ae792de6e8ab86c707aa2c44db08c60b99/ruamel.yaml-0.17.10-py3-none-any.whl (108kB)\n",
      "\u001b[K    100% |████████████████████████████████| 112kB 2.9MB/s eta 0:00:01\n",
      "\u001b[?25hCollecting ruamel.yaml.clib==0.2.6 (from -r requirements.txt (line 62))\n",
      "  Downloading https://files.pythonhosted.org/packages/2a/25/5b1dfc832ef3b83576c546d1fb3e27f136022cdd1008aab290a1e28ef220/ruamel.yaml.clib-0.2.6-cp36-cp36m-manylinux1_x86_64.whl (552kB)\n",
      "\u001b[K    100% |████████████████████████████████| 552kB 1.1MB/s eta 0:00:01\n",
      "\u001b[?25hCollecting sacremoses==0.0.45 (from -r requirements.txt (line 63))\n",
      "  Downloading https://files.pythonhosted.org/packages/75/ee/67241dc87f266093c533a2d4d3d69438e57d7a90abb216fa076e7d475d4a/sacremoses-0.0.45-py3-none-any.whl (895kB)\n",
      "\u001b[K    100% |████████████████████████████████| 901kB 1.2MB/s eta 0:00:01\n",
      "\u001b[?25hCollecting scikit-learn==0.24.2 (from -r requirements.txt (line 64))\n",
      "  Downloading https://files.pythonhosted.org/packages/f5/ef/bcd79e8d59250d6e8478eb1290dc6e05be42b3be8a86e3954146adbc171a/scikit_learn-0.24.2-cp36-cp36m-manylinux1_x86_64.whl (20.0MB)\n",
      "\u001b[K    100% |████████████████████████████████| 20.0MB 61kB/s  eta 0:00:011\n",
      "\u001b[?25hCollecting scipy==1.5.4 (from -r requirements.txt (line 65))\n",
      "  Downloading https://files.pythonhosted.org/packages/c8/89/63171228d5ced148f5ced50305c89e8576ffc695a90b58fe5bb602b910c2/scipy-1.5.4-cp36-cp36m-manylinux1_x86_64.whl (25.9MB)\n",
      "\u001b[K    100% |████████████████████████████████| 25.9MB 50kB/s  eta 0:00:01\n",
      "\u001b[?25hCollecting sentencepiece==0.1.96 (from -r requirements.txt (line 66))\n",
      "  Downloading https://files.pythonhosted.org/packages/aa/71/bb7d64dcd80a6506146397bca7310d5a8684f0f9ef035f03affb657f1aec/sentencepiece-0.1.96.tar.gz (508kB)\n",
      "\u001b[K    100% |████████████████████████████████| 512kB 1.5MB/s eta 0:00:01\n",
      "\u001b[?25hCollecting six==1.16.0 (from -r requirements.txt (line 67))\n",
      "  Using cached https://files.pythonhosted.org/packages/d9/5a/e7c31adbe875f2abbb91bd84cf2dc52d792b5a01506781dbcf25c91daf11/six-1.16.0-py2.py3-none-any.whl\n",
      "Collecting tensorboard==2.6.0 (from -r requirements.txt (line 68))\n",
      "  Downloading https://files.pythonhosted.org/packages/a0/20/a59a30c32330e4ff704faa4273b251db042d495e0c367bcdf045c6fe26e9/tensorboard-2.6.0-py3-none-any.whl (5.6MB)\n",
      "\u001b[K    100% |████████████████████████████████| 5.6MB 225kB/s eta 0:00:01\n",
      "\u001b[?25hCollecting tensorboard-data-server==0.6.1 (from -r requirements.txt (line 69))\n",
      "  Downloading https://files.pythonhosted.org/packages/74/69/5747a957f95e2e1d252ca41476ae40ce79d70d38151d2e494feb7722860c/tensorboard_data_server-0.6.1-py3-none-any.whl\n",
      "Collecting tensorboard-plugin-wit==1.8.0 (from -r requirements.txt (line 70))\n",
      "  Downloading https://files.pythonhosted.org/packages/1a/c1/499e600ba0c618b451cd9c425ae1c177249940a2086316552fee7d86c954/tensorboard_plugin_wit-1.8.0-py3-none-any.whl (781kB)\n",
      "\u001b[K    100% |████████████████████████████████| 788kB 1.1MB/s eta 0:00:01\n",
      "\u001b[?25hCollecting threadpoolctl==2.2.0 (from -r requirements.txt (line 71))\n",
      "  Downloading https://files.pythonhosted.org/packages/c6/e8/c216b9b60cbba4642d3ca1bae7a53daa0c24426f662e0e3ce3dc7f6caeaa/threadpoolctl-2.2.0-py3-none-any.whl\n",
      "Collecting tokenizers==0.10.3 (from -r requirements.txt (line 72))\n",
      "  Downloading https://files.pythonhosted.org/packages/bf/20/3605db440db4f96d5ffd66b231a043ae451ec7e5e4d1a2fb6f20608006c4/tokenizers-0.10.3-cp36-cp36m-manylinux_2_5_x86_64.manylinux1_x86_64.manylinux_2_12_x86_64.manylinux2010_x86_64.whl (3.3MB)\n",
      "\u001b[K    100% |████████████████████████████████| 3.3MB 343kB/s eta 0:00:01\n",
      "\u001b[?25hCollecting toml==0.10.2 (from -r requirements.txt (line 73))\n",
      "  Downloading https://files.pythonhosted.org/packages/44/6f/7120676b6d73228c96e17f1f794d8ab046fc910d781c8d151120c3f1569e/toml-0.10.2-py2.py3-none-any.whl\n",
      "Collecting torch==1.9.0 (from -r requirements.txt (line 74))\n",
      "  Downloading https://files.pythonhosted.org/packages/a1/1f/a372f2e9f0a54fc479fcee3ac072f8cd5091054e9d7293dd4372338e5277/torch-1.9.0-cp36-cp36m-manylinux1_x86_64.whl (831.4MB)\n",
      "\u001b[K    43% |█████████████▉                  | 360.7MB 105.4MB/s eta 0:00:051% |▎                               | 8.5MB 26.6MB/s eta 0:00:31"
     ]
    },
    {
     "name": "stderr",
     "output_type": "stream",
     "text": [
      "IOPub data rate exceeded.\n",
      "The Jupyter server will temporarily stop sending output\n",
      "to the client in order to avoid crashing it.\n",
      "To change this limit, set the config variable\n",
      "`--ServerApp.iopub_data_rate_limit`.\n",
      "\n",
      "Current values:\n",
      "ServerApp.iopub_data_rate_limit=1000000.0 (bytes/sec)\n",
      "ServerApp.rate_limit_window=3.0 (secs)\n",
      "\n"
     ]
    },
    {
     "name": "stdout",
     "output_type": "stream",
     "text": [
      "\u001b[K    81% |██████████████████████████▏     | 678.9MB 107.0MB/s eta 0:00:02"
     ]
    },
    {
     "name": "stderr",
     "output_type": "stream",
     "text": [
      "IOPub data rate exceeded.\n",
      "The Jupyter server will temporarily stop sending output\n",
      "to the client in order to avoid crashing it.\n",
      "To change this limit, set the config variable\n",
      "`--ServerApp.iopub_data_rate_limit`.\n",
      "\n",
      "Current values:\n",
      "ServerApp.iopub_data_rate_limit=1000000.0 (bytes/sec)\n",
      "ServerApp.rate_limit_window=3.0 (secs)\n",
      "\n"
     ]
    },
    {
     "name": "stdout",
     "output_type": "stream",
     "text": [
      "\u001b[K    100% |████████████████████████████████| 831.4MB 1.7kB/s  eta 0:00:01\n",
      "\u001b[?25hCollecting torchmetrics==0.5.0rc0 (from -r requirements.txt (line 75))\n",
      "\u001b[31m  Could not find a version that satisfies the requirement torchmetrics==0.5.0rc0 (from -r requirements.txt (line 75)) (from versions: 0.2.0, 0.3.0, 0.3.1, 0.3.2, 0.4.0, 0.4.1, 0.5.0, 0.5.1, 0.6.0rc0, 0.6.0rc1, 0.6.0, 0.6.1, 0.6.2, 0.7.0rc0, 0.7.0rc1, 0.7.0, 0.7.1, 0.7.2, 0.7.3, 0.8.0rc0, 0.8.0, 0.8.1)\u001b[0m\n",
      "\u001b[31mNo matching distribution found for torchmetrics==0.5.0rc0 (from -r requirements.txt (line 75))\u001b[0m\n"
     ]
    }
   ],
   "source": [
    "!pip3 install cython\n",
    "!cd data_normalization && pip3 install -r requirements.txt"
   ]
  },
  {
   "cell_type": "code",
   "execution_count": 3,
   "id": "d7f1cb2c-c5cd-410b-834d-4407b8aa1870",
   "metadata": {},
   "outputs": [],
   "source": [
    "import os\n",
    "import sys\n",
    "\n",
    "CUR_DIR = os.getcwd()\n",
    "sys.path.insert(0, os.path.join(CUR_DIR, \"data_normalization\"))"
   ]
  },
  {
   "cell_type": "code",
   "execution_count": null,
   "id": "64bce518-b13b-42ce-a8d6-3eac05112de5",
   "metadata": {},
   "outputs": [],
   "source": [
    "!python3 ./data_normalization/de/transcript.py --data_manifest <path> --processed_manifest <path> --num_workers <int>"
   ]
  },
  {
   "cell_type": "code",
   "execution_count": 2,
   "id": "79a2ca3d-5cdd-4068-8541-15f697618e9e",
   "metadata": {},
   "outputs": [
    {
     "name": "stdout",
     "output_type": "stream",
     "text": [
      "Collecting nemo-toolkit\n",
      "  Downloading https://files.pythonhosted.org/packages/58/d1/7a75bb1adcd99e6cb071446c66e6a7e3231cc9aca63829fe988132bd144b/nemo_toolkit-1.8.2-py3-none-any.whl (3.2MB)\n",
      "\u001b[K    100% |████████████████████████████████| 3.2MB 325kB/s eta 0:00:01\n",
      "\u001b[?25hCollecting wrapt (from nemo-toolkit)\n",
      "  Downloading https://files.pythonhosted.org/packages/e0/80/af9da7379ee6df583875d0aeb80f9d5f0bd5f081dd1ee5ce06587d8bfec7/wrapt-1.14.1-cp36-cp36m-manylinux_2_5_x86_64.manylinux1_x86_64.manylinux_2_17_x86_64.manylinux2014_x86_64.whl (74kB)\n",
      "\u001b[K    100% |████████████████████████████████| 81kB 2.1MB/s eta 0:00:01\n",
      "\u001b[?25hCollecting numpy>=1.21 (from nemo-toolkit)\n",
      "\u001b[31m  Could not find a version that satisfies the requirement numpy>=1.21 (from nemo-toolkit) (from versions: 1.3.0, 1.4.1, 1.5.0, 1.5.1, 1.6.0, 1.6.1, 1.6.2, 1.7.0, 1.7.1, 1.7.2, 1.8.0, 1.8.1, 1.8.2, 1.9.0, 1.9.1, 1.9.2, 1.9.3, 1.10.0.post2, 1.10.1, 1.10.2, 1.10.4, 1.11.0, 1.11.1, 1.11.2, 1.11.3, 1.12.0, 1.12.1, 1.13.0rc1, 1.13.0rc2, 1.13.0, 1.13.1, 1.13.3, 1.14.0rc1, 1.14.0, 1.14.1, 1.14.2, 1.14.3, 1.14.4, 1.14.5, 1.14.6, 1.15.0rc1, 1.15.0rc2, 1.15.0, 1.15.1, 1.15.2, 1.15.3, 1.15.4, 1.16.0rc1, 1.16.0rc2, 1.16.0, 1.16.1, 1.16.2, 1.16.3, 1.16.4, 1.16.5, 1.16.6, 1.17.0rc1, 1.17.0rc2, 1.17.0, 1.17.1, 1.17.2, 1.17.3, 1.17.4, 1.17.5, 1.18.0rc1, 1.18.0, 1.18.1, 1.18.2, 1.18.3, 1.18.4, 1.18.5, 1.19.0rc1, 1.19.0rc2, 1.19.0, 1.19.1, 1.19.2, 1.19.3, 1.19.4, 1.19.5)\u001b[0m\n",
      "\u001b[31mNo matching distribution found for numpy>=1.21 (from nemo-toolkit)\u001b[0m\n"
     ]
    }
   ],
   "source": [
    "!pip3 install nemo-toolkit"
   ]
  },
  {
   "cell_type": "code",
   "execution_count": null,
   "id": "14e6471b-6ffe-42b8-9c82-f8a10ca181a0",
   "metadata": {},
   "outputs": [],
   "source": [
    "!docker run --gpus=all --rm -v $RIVA_MODEL_DIR/:/models -v $RIVA_QUICKSTART_DIR:/riva_quickstart nvcr.io/nvidia/nemo:22.01 -- /riva_quickstart/nemo_conversion.sh"
   ]
  }
 ],
 "metadata": {
  "kernelspec": {
   "display_name": "Python 3",
   "language": "python",
   "name": "python3"
  },
  "language_info": {
   "codemirror_mode": {
    "name": "ipython",
    "version": 3
   },
   "file_extension": ".py",
   "mimetype": "text/x-python",
   "name": "python",
   "nbconvert_exporter": "python",
   "pygments_lexer": "ipython3",
   "version": "3.6.9"
  }
 },
 "nbformat": 4,
 "nbformat_minor": 5
}
