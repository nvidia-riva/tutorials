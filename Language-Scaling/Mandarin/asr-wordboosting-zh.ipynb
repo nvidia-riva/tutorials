{
 "cells": [
  {
   "cell_type": "markdown",
   "id": "2bf1191b",
   "metadata": {},
   "source": [
    "<img src=\"http://developer.download.nvidia.com/notebooks/dlsw-notebooks/rivaasrasr-wordboosting/nvidia_logo.png\" style=\"width: 90px; float: right;\">\n",
    "\n",
    "# How do I boost specific words at runtime with word boosting?\n",
    "# Take Mandarin (ZH) as an example\n",
    "\n",
    "This tutorial walks you through some of the advanced features for customization of Riva Speech Skills ASR Services at runtime with word boosting. We will take Mandarin ASR as an example, which is a Character-based model. "
   ]
  },
  {
   "cell_type": "markdown",
   "id": "bcfba84d",
   "metadata": {},
   "source": [
    "## 0. NVIDIA Riva Overview\n",
    "\n",
    "NVIDIA Riva is a GPU-accelerated SDK for building Speech AI applications that are customized for your use case and deliver real-time performance. <br/>\n",
    "Riva offers a rich set of speech and natural language understanding services such as:\n",
    "\n",
    "- Automated speech recognition (ASR)\n",
    "- Text-to-Speech synthesis (TTS)\n",
    "- A collection of natural language processing (NLP) services, such as named entity recognition (NER), punctuation, intent classification.\n",
    "\n",
    "In this tutorial, we will customize Riva ASR to boost specific words at runtime with word boosting. <br> \n",
    "To understand the basics of Riva ASR APIs, refer to [Getting started with Riva ASR in Python](https://github.com/nvidia-riva/tutorials/tree/stable/asr-basics.ipynb). <br>\n",
    "\n",
    "For more information about Riva, refer to the [Riva developer documentation](https://developer.nvidia.com/riva)."
   ]
  },
  {
   "cell_type": "markdown",
   "id": "27f37136",
   "metadata": {},
   "source": [
    "## 1. Word boosting with Riva ASR APIs\n",
    "\n",
    "Word boosting is one of the customizations Riva offers. It allows you to bias the ASR engine to recognize particular words of interest at request time by giving them a higher score when decoding the output of the acoustic model.  \n",
    "\n",
    "Now, let's use word boosting with Riva APIs for some sample audio clips with an OOTB (out-of-the-box) Mandarin pipeline."
   ]
  },
  {
   "cell_type": "markdown",
   "id": "d75d4887",
   "metadata": {},
   "source": [
    "### 1.1 Requirements and setup\n",
    "\n",
    "#### 1.1.1 Start the Riva Speech Skills server \n",
    "Follow the instructions in the [Riva Skills Quick Start Guide](https://docs.nvidia.com/deeplearning/riva/user-guide/docs/quick-start-guide.html#) to deploy OOTB ASR models on the Riva Speech Skills server before running this tutorial. \n",
    "\n",
    "HINTS: \n",
    "To deploy a Mandarin Model, you have to do set the following parameters in `riva_quickstart_*/config.sh`:\n",
    " * language_code=(\"zh-CN\")\n",
    " * service_enabled_asr=true"
   ]
  },
  {
   "cell_type": "markdown",
   "id": "d4b6c523",
   "metadata": {},
   "source": [
    "#### 1.1.2 Install the Riva Client library\n",
    "Follow the steps in the [Requirements and setup for the Riva Client](https://github.com/nvidia-riva/tutorials#running-the-riva-client) to install the Riva Client library."
   ]
  },
  {
   "cell_type": "code",
   "execution_count": null,
   "id": "5414ace6",
   "metadata": {},
   "outputs": [],
   "source": [
    "!pip3 install nvidia-riva-client"
   ]
  },
  {
   "cell_type": "markdown",
   "id": "41f7589e",
   "metadata": {},
   "source": [
    "#### 1.1.3 Import the Riva client libraries\n",
    "\n",
    "Let's import some of the required libraries, including the Riva Client libraries."
   ]
  },
  {
   "cell_type": "code",
   "execution_count": null,
   "id": "73626be6",
   "metadata": {},
   "outputs": [],
   "source": [
    "import io\n",
    "import IPython.display as ipd\n",
    "import grpc\n",
    "\n",
    "import riva.client"
   ]
  },
  {
   "cell_type": "markdown",
   "id": "f0ab5f9f",
   "metadata": {},
   "source": [
    "#### 1.1.4 Create a Riva client and connect to the Riva Speech API server\n",
    "\n",
    "The following URI assumes a local deployment of the Riva Speech API server is on the default port. In case the server deployment is on a different host or via a Helm chart on Kubernetes, use an appropriate URI."
   ]
  },
  {
   "cell_type": "code",
   "execution_count": null,
   "id": "244caad0",
   "metadata": {},
   "outputs": [],
   "source": [
    "auth = riva.client.Auth(uri='localhost:50051')\n",
    "\n",
    "riva_asr = riva.client.ASRService(auth)"
   ]
  },
  {
   "cell_type": "markdown",
   "id": "24cd7f2b",
   "metadata": {},
   "source": [
    "## 2. Example: how to use word boosting\n",
    "Here, we give one example to show how to use word boosting for Mandarin ASR model. \n",
    "\n",
    "### 2.1 ASR inference without word boosting\n",
    "First, let's run ASR on our sample audio clip without word boosting."
   ]
  },
  {
   "cell_type": "code",
   "execution_count": null,
   "id": "02154940",
   "metadata": {
    "scrolled": true
   },
   "outputs": [],
   "source": [
    "# Load a sample audio file \n",
    "path = 'audio_sample/zh_wordboosting.wav'\n",
    "\n",
    "with io.open(path, 'rb') as fh:\n",
    "    content = fh.read()\n",
    "ipd.Audio(path)"
   ]
  },
  {
   "cell_type": "code",
   "execution_count": null,
   "id": "22312b2b",
   "metadata": {
    "scrolled": true
   },
   "outputs": [],
   "source": [
    "# Creating RecognitionConfig\n",
    "config = riva.client.RecognitionConfig(\n",
    "    sample_rate_hertz=16000,\n",
    "    language_code=\"zh-CN\",\n",
    "    max_alternatives=1,\n",
    "    audio_channel_count=1,\n",
    "    verbatim_transcripts=False\n",
    ")\n",
    "\n",
    "response = riva_asr.offline_recognize(content, config)\n",
    "asr_best_transcript = response.results[0].alternatives[0].transcript\n",
    "print(\"ASR Transcript without Word Boosting:\", asr_best_transcript)"
   ]
  },
  {
   "cell_type": "markdown",
   "id": "df24b66d",
   "metadata": {},
   "source": [
    "If you want to recognize the name of a famous Chinese poetry like `望岳`, you have to boost this word. <br>\n",
    "\n",
    "Now, let's use word boosting to try to improve ASR for the specific terms."
   ]
  },
  {
   "cell_type": "markdown",
   "id": "97e9ebb1",
   "metadata": {},
   "source": [
    "### 2.2 ASR inference with word boosting\n",
    "\n",
    "Let's look at how to add the boosted words to `RecognitionConfig` with `SpeechContext`. (For more information about `SpeechContext`, refer to the docs [here](https://docs.nvidia.com/deeplearning/riva/user-guide/docs/reference/protos/protos.html#_CPPv413SpeechContext)). The simplest way to add word boosting is to use function\n",
    "[riva.client.add_word_boosting_to_config()](https://github.com/nvidia-riva/python-clients/blob/928c63273176a939500e01ce176c463f1606a1ff/riva_api/asr.py#L78)."
   ]
  },
  {
   "cell_type": "code",
   "execution_count": null,
   "id": "70607575",
   "metadata": {},
   "outputs": [],
   "source": [
    "# Creating SpeechContext for word boosting\n",
    "boosted_lm_words = [\"望 岳 \"]\n",
    "boosted_lm_score = 20.0\n",
    "riva.client.add_word_boosting_to_config(config, boosted_lm_words, boosted_lm_score)\n",
    "\n",
    "# ASR Inference call with Recognize \n",
    "response = riva_asr.offline_recognize(content, config)\n",
    "asr_best_transcript = response.results[0].alternatives[0].transcript\n",
    "print(\"ASR Transcript with Word Boosting:\", asr_best_transcript)"
   ]
  },
  {
   "cell_type": "markdown",
   "id": "2164633c",
   "metadata": {},
   "source": [
    "As you can see, with word boosting, ASR is able to correctly transcribe the specific name like `望岳`.\n",
    "\n",
    "* `boosted_lm_words`: The word which needs to be boosted, with a space between two characters\n",
    "* `boosted_lm_score`: The recommended range for the boost score is 20 to 100. The higher the boost score, the more biased the ASR engine is towards this word.  "
   ]
  },
  {
   "cell_type": "markdown",
   "id": "3693db3c",
   "metadata": {},
   "source": [
    "## 3. Advanced word boosting\n",
    "### 3.1 Boosting different words at different levels\n",
    "With Riva ASR, we can also have different boost values for different words. See the next example: "
   ]
  },
  {
   "cell_type": "code",
   "execution_count": null,
   "id": "16a5ee2d",
   "metadata": {},
   "outputs": [],
   "source": [
    "# Load a sample audio file from local disk\n",
    "# This example uses a .wav file with LINEAR_PCM encoding.\n",
    "path = \"audio_sample/zh_wordboosting2.wav\"\n",
    "with io.open(path, 'rb') as fh:\n",
    "    content = fh.read()\n",
    "ipd.Audio(path)"
   ]
  },
  {
   "cell_type": "code",
   "execution_count": null,
   "id": "d59b72a8",
   "metadata": {},
   "outputs": [],
   "source": [
    "# Creating RecognitionConfig\n",
    "config = riva.client.RecognitionConfig(\n",
    "    language_code=\"zh-CN\",\n",
    "    max_alternatives=1,\n",
    "    audio_channel_count=1,\n",
    ")\n",
    "\n",
    "response = riva_asr.offline_recognize(content, config)\n",
    "asr_best_transcript = response.results[0].alternatives[0].transcript\n",
    "print(\"ASR Transcript without Word Boosting:\", asr_best_transcript)"
   ]
  },
  {
   "cell_type": "markdown",
   "id": "406c8e08",
   "metadata": {},
   "source": [
    "We can set different Boost Score for `五G` (20.0) and `四G` (30.0). If you have other words to be boosted, try with `add_word_boosting_to_config` function and with your own words!\n",
    "\n",
    "**HINTS** You have to add a space between two characters!!"
   ]
  },
  {
   "cell_type": "code",
   "execution_count": null,
   "id": "b0a67320",
   "metadata": {},
   "outputs": [],
   "source": [
    "# Creating RecognitionConfig\n",
    "config = riva.client.RecognitionConfig(\n",
    "  language_code=\"zh-CN\",\n",
    "  max_alternatives=1,\n",
    "  audio_channel_count = 1\n",
    ")\n",
    "riva.client.add_word_boosting_to_config(config, [\"五 G \"], 20.)\n",
    "riva.client.add_word_boosting_to_config(config, [\"四 G \"], 30.)\n",
    "\n",
    "# ASR Inference call with Recognize \n",
    "response = riva_asr.offline_recognize(content, config)\n",
    "asr_best_transcript = response.results[0].alternatives[0].transcript\n",
    "print(\"ASR Transcript with Word Boosting:\", asr_best_transcript)"
   ]
  },
  {
   "cell_type": "markdown",
   "id": "047a29cd",
   "metadata": {},
   "source": [
    "### 3.2 Negative word boosting for undesired words\n",
    "We can even use word boosting to discourage prediction of some words, by using negative boost scores.  \n",
    "\n",
    "For example, "
   ]
  },
  {
   "cell_type": "code",
   "execution_count": null,
   "id": "b7894ae3",
   "metadata": {},
   "outputs": [],
   "source": [
    "# Creating RecognitionConfig\n",
    "config = riva.client.RecognitionConfig(\n",
    "  language_code=\"zh-CN\",\n",
    "  max_alternatives=1,\n",
    "  audio_channel_count = 1\n",
    ")\n",
    "riva.client.add_word_boosting_to_config(config, [\"她\"], -100.)"
   ]
  },
  {
   "cell_type": "markdown",
   "id": "a94fbe96",
   "metadata": {},
   "source": [
    "### 3.3 Combine negative and positive word boosting\n",
    "We can also combine the negative word boosting from above example, with positive word boosting. "
   ]
  },
  {
   "cell_type": "markdown",
   "id": "3995d8e1",
   "metadata": {},
   "source": [
    "Note:\n",
    "\n",
    "- There is no limit to the number of words that can be boosted. You should see no impact on latency for all requests, even for ~100 boosted words, except for the first request, which is expected.\n",
    "- Boosting phrases or a combination of words is not yet fully supported (but do work). We will revisit finalizing this support in an upcoming release.\n",
    "- By default, no words are boosted on the server side. Only words passed by the client are boosted.\n",
    "\n",
    "Information about word boosting can also be found in the documentation [here](https://docs.nvidia.com/deeplearning/riva/user-guide/docs/asr/asr-customizing.html#word-boosting). "
   ]
  },
  {
   "cell_type": "markdown",
   "id": "64c36fe7",
   "metadata": {},
   "source": [
    "## 4. Go deeper into Riva capabilities\n",
    "\n",
    "\n",
    "### Additional Riva Tutorials\n",
    "\n",
    "Checkout more Riva tutorials [here](https://github.com/nvidia-riva/tutorials) to understand how to use some of the advanced features of Riva ASR, including customizing ASR for your specific needs.\n",
    "\n",
    "\n",
    "### Sample Applications\n",
    "\n",
    "Riva comes with various sample applications. They demonstrate how to use the APIs to build various applications. Refer to [Riva Sampple Apps](https://docs.nvidia.com/deeplearning/riva/user-guide/docs/samples/index.html) for more information.  \n",
    "\n",
    "\n",
    "### Additional Resources\n",
    "\n",
    "For more information about each of the Riva APIs and their functionalities, refer to the [documentation](https://docs.nvidia.com/deeplearning/riva/user-guide/docs/reference/protos/protos.html)."
   ]
  }
 ],
 "metadata": {
  "kernelspec": {
   "display_name": "Python 3 (ipykernel)",
   "language": "python",
   "name": "python3"
  },
  "language_info": {
   "codemirror_mode": {
    "name": "ipython",
    "version": 3
   },
   "file_extension": ".py",
   "mimetype": "text/x-python",
   "name": "python",
   "nbconvert_exporter": "python",
   "pygments_lexer": "ipython3",
   "version": "3.8.10"
  }
 },
 "nbformat": 4,
 "nbformat_minor": 5
}
