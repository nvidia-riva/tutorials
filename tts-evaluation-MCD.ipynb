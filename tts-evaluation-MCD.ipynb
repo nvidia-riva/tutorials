{
 "cells": [
  {
   "cell_type": "markdown",
   "id": "f0408502",
   "metadata": {},
   "source": [
    "# Calculating MCD(Mel cepstral distance)"
   ]
  },
  {
   "cell_type": "code",
   "execution_count": 1,
   "id": "8b9b6e1c",
   "metadata": {},
   "outputs": [],
   "source": [
    "import librosa\n",
    "import librosa.display\n",
    "import numpy as np\n",
    "import math"
   ]
  },
  {
   "cell_type": "code",
   "execution_count": 2,
   "id": "e4181d60",
   "metadata": {},
   "outputs": [],
   "source": [
    "def extract_path_cost(D, wp):\n",
    "    \"\"\"\n",
    "    Get the path cost from D(cost matrix), wp (warped path)\n",
    "    :returns: sum of path cost \n",
    "    \"\"\"\n",
    "    path_cost = D[wp[:, 0], wp[:, 1]]\n",
    "    return np.sum(path_cost)\n",
    "\n",
    "def extract_frame_avg_path_cost(D, wp):\n",
    "    path_cost = extract_path_cost(D, wp)\n",
    "    path_length = wp.shape[0]\n",
    "    frame_avg_path_cost = path_cost / float(path_length)\n",
    "    return frame_avg_path_cost\n",
    " \n",
    "def log_spec_dB_dist(x, y):\n",
    "    log_spec_dB_const = 10.0 / math.log(10.0) * math.sqrt(2.0)\n",
    "    diff = x - y\n",
    "    \n",
    "    return log_spec_dB_const * math.sqrt(np.inner(diff, diff))"
   ]
  },
  {
   "cell_type": "code",
   "execution_count": 3,
   "id": "99800a97",
   "metadata": {},
   "outputs": [],
   "source": [
    "def cal_mcd(gt, synt, cost_function, dtw_type='path_cost'):\n",
    "    frames = synt.shape[1]\n",
    "    log_mel_min_cost_tot = 0\n",
    "    mel_cepstrum_min_cost_tot = 0\n",
    "    \n",
    "    # dynamic time warping for log mel distance\n",
    "    log_mel_min_cost, log_mel_dtw_path = librosa.sequence.dtw(gt, synt, metric=cost_function)\n",
    "    if dtw_type == 'mean':\n",
    "        log_mel_min_cost_tot = np.mean(log_mel_min_cost)\n",
    "    else:\n",
    "        log_mel_min_cost_tot = extract_frame_avg_path_cost(log_mel_min_cost, log_mel_dtw_path)\n",
    "\n",
    "    ## Dyanmic time warping for cepstral distance\n",
    "    gt_mfcc = librosa.feature.mfcc(S=gt, n_mfcc=n_mfcc)\n",
    "    synt_mfcc = librosa.feature.mfcc(S=synt, n_mfcc=n_mfcc)\n",
    "    mel_cepstrum_min_cost, mel_cepstrum_dtw_path = librosa.sequence.dtw(gt_mfcc, synt_mfcc, metric=cost_function)\n",
    "    if dtw_type == 'mean':\n",
    "        mel_cepstrum_min_cost_tot = np.mean(mel_cepstrum_min_cost)\n",
    "    else:\n",
    "        mel_cepstrum_min_cost_tot = extract_frame_avg_path_cost(mel_cepstrum_min_cost, mel_cepstrum_dtw_path)\n",
    "    \n",
    "    mean_log_mel_distance = log_mel_min_cost_tot / frames\n",
    "    mean_mel_cepstrum_mcd = mel_cepstrum_min_cost_tot / frames\n",
    "    \n",
    "    return mean_log_mel_distance, mean_mel_cepstrum_mcd, frames"
   ]
  },
  {
   "cell_type": "code",
   "execution_count": 4,
   "id": "f45f8aa8",
   "metadata": {},
   "outputs": [],
   "source": [
    "## Mel params\n",
    "n_fft=2048\n",
    "hop_length=512\n",
    "win_length=None\n",
    "window='hann'\n",
    "n_mels = 80\n",
    "\n",
    "## Mfcc params\n",
    "n_mfcc=34"
   ]
  },
  {
   "cell_type": "code",
   "execution_count": 5,
   "id": "f5e473ec",
   "metadata": {},
   "outputs": [],
   "source": [
    "gt_file = \"ground_truth.wav\"\n",
    "synt_file = \"generated.wav\""
   ]
  },
  {
   "cell_type": "code",
   "execution_count": 6,
   "id": "93185af2",
   "metadata": {},
   "outputs": [],
   "source": [
    "## Load wavs\n",
    "gt_wav, gt_sr = librosa.load(gt_file)\n",
    "synt_wav, synt_sr = librosa.load(synt_file)"
   ]
  },
  {
   "cell_type": "code",
   "execution_count": 7,
   "id": "f653fc9c",
   "metadata": {
    "scrolled": true
   },
   "outputs": [
    {
     "name": "stderr",
     "output_type": "stream",
     "text": [
      "/tmp/ipykernel_2112/3085556379.py:2: FutureWarning: Pass y=[0.00016559 0.00024064 0.0002058  ... 0.         0.         0.        ] as keyword args. From version 0.10 passing these as positional arguments will result in an error\n",
      "  gt_mels = librosa.feature.melspectrogram(gt_wav, sr=gt_sr, n_fft=n_fft, hop_length=hop_length, win_length=win_length, window=window, n_mels=n_mels)\n",
      "/tmp/ipykernel_2112/3085556379.py:3: FutureWarning: Pass y=[2.3324086e-04 3.3199426e-04 2.4200798e-04 ... 6.0572103e-05 6.1246123e-05\n",
      " 7.7692930e-05] as keyword args. From version 0.10 passing these as positional arguments will result in an error\n",
      "  synt_mels = librosa.feature.melspectrogram(synt_wav, sr=gt_sr, n_fft=n_fft, hop_length=hop_length, win_length=win_length, window=window, n_mels=n_mels)\n"
     ]
    }
   ],
   "source": [
    "## Generate spectrograms\n",
    "gt_mels = librosa.feature.melspectrogram(gt_wav, sr=gt_sr, n_fft=n_fft, hop_length=hop_length, win_length=win_length, window=window, n_mels=n_mels)\n",
    "synt_mels = librosa.feature.melspectrogram(synt_wav, sr=gt_sr, n_fft=n_fft, hop_length=hop_length, win_length=win_length, window=window, n_mels=n_mels)"
   ]
  },
  {
   "cell_type": "code",
   "execution_count": 10,
   "id": "f609d5f4",
   "metadata": {
    "scrolled": true
   },
   "outputs": [
    {
     "name": "stdout",
     "output_type": "stream",
     "text": [
      "log distance between samples: 142.87\n",
      "mel cepstral distance between samples: 87.76\n"
     ]
    }
   ],
   "source": [
    "log_dist, mel_mcd, frames = cal_mcd(gt_mels, synt_mels, log_spec_dB_dist)\n",
    "print(f\"log distance between samples: {log_dist:.2f}\")\n",
    "print(f\"mel cepstral distance between samples: {mel_mcd:.2f}\")"
   ]
  }
 ],
 "metadata": {
  "kernelspec": {
   "display_name": "py38_speech_ml0.6",
   "language": "python",
   "name": "py38_speech_ml0.6"
  },
  "language_info": {
   "codemirror_mode": {
    "name": "ipython",
    "version": 3
   },
   "file_extension": ".py",
   "mimetype": "text/x-python",
   "name": "python",
   "nbconvert_exporter": "python",
   "pygments_lexer": "ipython3",
   "version": "3.8.0"
  }
 },
 "nbformat": 4,
 "nbformat_minor": 5
}
