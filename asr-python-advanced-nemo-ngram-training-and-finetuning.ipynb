{
  "cells": [
    {
      "attachments": {},
      "cell_type": "markdown",
      "metadata": {
        "id": "ToDOY7a1NpJp"
      },
      "source": [
        "<img src=\"http://developer.download.nvidia.com/notebooks/dlsw-notebooks/riva_asr_asr-python-advanced-customize-vocabulary-and-lexicon/nvidia_logo.png\" style=\"width: 90px; float: right;\">\n",
        "\n",
        "<a id='isc-task-description'></a>\n",
        "# How To Train, Evaluate, and Fine-Tune an n-gram Language Model\n",
        "\n",
        "Language modeling returns a probability distribution over a sequence of words. Besides assigning a probability to a sequence of words, the language model also assigns a probability for the likelihood of a given word (or a sequence of words) that follows a sequence of words. <br>\n",
        "\n",
        "> The sentence:  **all of a sudden I notice three guys standing on the sidewalk**\n",
        "> would be scored higher than \n",
        "> the sentence: **on guys all I of notice sidewalk three a sudden standing the** by the language model. <br>\n",
        "\n",
        "A language model trained on a large corpus, that is, a large dataset, can significantly improve the accuracy of an ASR system as suggested by recent research."
      ]
    },
    {
      "attachments": {},
      "cell_type": "markdown",
      "metadata": {
        "id": "BqDDGrWHN4YK"
      },
      "source": [
        "### n-gram Language Model\n",
        "There are primarily two types of language models:\n",
        "\n",
        "- **n-gram language models**: These models use the frequency of n-grams to learn the probability distribution over words. Two benefits of n-gram language models are simplicity and scalability – with a larger `n`, a model can store more context with a well-understood space–time tradeoff, enabling small experiments to scale up efficiently.\n",
        "- **Neural language models**: These models use different kinds of neural networks to model the probability distribution over words, and have surpassed the n-gram language models in the ability to model language, but are generally slower to evaluate.\n",
        "\n",
        "In this tutorial, we will show how to train, evaluate, and optionally fine-tune an [n-gram language model](https://web.stanford.edu/~jurafsky/slp3/3.pdf) leveraging NeMo.\n"
      ]
    },
    {
      "attachments": {},
      "cell_type": "markdown",
      "metadata": {},
      "source": [
        "### Prerequisites\n",
        "Ensure you meet the following prerequisites.\n",
        "1. You have access and are logged into NVIDIA NGC. For step-by-step instructions, refer to the [NGC Getting Started Guide](https://docs.nvidia.com/ngc/ngc-overview/index.html#registering-activating-ngc-account).\n",
        "2. You have installed Kaggle API. For step-by-step instructions, refer to this [install and authenticate Kaggle API](https://www.kaggle.com/docs/api)."
      ]
    },
    {
      "attachments": {},
      "cell_type": "markdown",
      "metadata": {
        "id": "9LcfKhdIOKmt"
      },
      "source": [
        "---\n",
        "## Training and Fine-tuning LM with KenLM and NeMo"
      ]
    },
    {
      "attachments": {},
      "cell_type": "markdown",
      "metadata": {
        "id": "KwJgo_RVOU0B"
      },
      "source": [
        "### Installing and Setting up NeMo\n",
        "Cloning and installing NeMo from source."
      ]
    },
    {
      "cell_type": "code",
      "execution_count": null,
      "metadata": {
        "colab": {
          "base_uri": "https://localhost:8080/"
        },
        "collapsed": true,
        "id": "ZGmkKHZDOyFy",
        "outputId": "41c6c30e-767a-420c-ac38-612ea56d6b2e"
      },
      "outputs": [],
      "source": [
        "## Install NeMo\n",
        "BRANCH = 'main'\n",
        "!git clone https://github.com/NVIDIA/NeMo.git\n",
        "!python -m pip install git+https://github.com/NVIDIA/NeMo.git@$BRANCH#egg=nemo_toolkit[all]"
      ]
    },
    {
      "attachments": {},
      "cell_type": "markdown",
      "metadata": {
        "id": "7ncrDqn_OLo2"
      },
      "source": [
        "### Installing and Setting up KenLM\n",
        "Installing KenLM from source."
      ]
    },
    {
      "cell_type": "code",
      "execution_count": null,
      "metadata": {
        "colab": {
          "base_uri": "https://localhost:8080/"
        },
        "collapsed": true,
        "id": "Zzb0H2roPZw6",
        "outputId": "b98f9ea7-cfb3-42a6-9f90-de1547b5fb26"
      },
      "outputs": [],
      "source": [
        "!apt install libeigen3-dev\n",
        "!git clone https://github.com/kpu/kenlm.git\n",
        "!cd kenlm && mkdir build && cd build && cmake .. && make -j\n",
        "\n",
        "!pip3 install git+https://github.com/kpu/kenlm.git\n",
        "!pip3 install git+https://github.com/flashlight/text.git"
      ]
    },
    {
      "attachments": {},
      "cell_type": "markdown",
      "metadata": {
        "id": "GUSuD-ITPYAr"
      },
      "source": [
        "### Installing and Setting up NGC CLI\n",
        "To install and setup the NGC CLI, follow the instructions from [here](https://ngc.nvidia.com/setup/installers/cli)."
      ]
    },
    {
      "attachments": {},
      "cell_type": "markdown",
      "metadata": {
        "id": "RPGEE1d3N5Oo"
      },
      "source": [
        "---\n",
        "<a id='isc-prepare-data'></a>\n",
        "### Preparing the Dataset\n",
        "#### LibriSpeech LM Normalized Dataset\n",
        "For this tutorial, we use the normalized version of the LibriSpeech LM dataset to train our n-gram language model. The normalized version of the LibriSpeech LM dataset is available [here](https://www.openslr.org/11/).<br>\n",
        "The training data is publicly available [here](https://www.openslr.org/resources/11/librispeech-lm-corpus.tgz) and can be downloaded directly.\n",
        "#### Downloading the Dataset"
      ]
    },
    {
      "cell_type": "code",
      "execution_count": 15,
      "metadata": {
        "id": "dHSXZ5TeMckK"
      },
      "outputs": [],
      "source": [
        "# Set the path to a folder where you want your data and results to be saved.\n",
        "DATA_DOWNLOAD_DIR=\"content/datasets\"\n",
        "RESULTS_DIR=\"content/results\"\n",
        "MODELS_DIR=\"content/models\"\n",
        "\n",
        "!mkdir -p $DATA_DOWNLOAD_DIR $RESULTS_DIR $MODELS_DIR"
      ]
    },
    {
      "cell_type": "code",
      "execution_count": null,
      "metadata": {
        "colab": {
          "base_uri": "https://localhost:8080/"
        },
        "id": "_yY-KRYaRFni",
        "outputId": "4d9ccfc4-e478-4d8e-80d8-50c8e9ff08ef"
      },
      "outputs": [],
      "source": [
        "# Note: Ensure that wget and unzip utilities are available. If not, install them.\n",
        "!wget 'https://www.openslr.org/resources/11/librispeech-lm-norm.txt.gz' -P $DATA_DOWNLOAD_DIR\n",
        "\n",
        "# Extract the data\n",
        "!gzip -dk $DATA_DOWNLOAD_DIR/librispeech-lm-norm.txt.gz"
      ]
    },
    {
      "attachments": {},
      "cell_type": "markdown",
      "metadata": {
        "id": "VTKxCK76RWEg"
      },
      "source": [
        "For the sake of reducing the time this tutorial takes, we reduced the number of lines of the training dataset. Feel free to modify the number of used lines."
      ]
    },
    {
      "cell_type": "code",
      "execution_count": 6,
      "metadata": {
        "id": "dAQFdA1NRblO"
      },
      "outputs": [],
      "source": [
        "# Use a random 100,000 lines for training\n",
        "!shuf -n 100000 $DATA_DOWNLOAD_DIR/librispeech-lm-norm.txt  > $DATA_DOWNLOAD_DIR/reduced_training.txt"
      ]
    },
    {
      "attachments": {},
      "cell_type": "markdown",
      "metadata": {
        "id": "6ZEypIkmN8EX"
      },
      "source": [
        "## Download the Evaluation Dataset\n"
      ]
    },
    {
      "cell_type": "code",
      "execution_count": null,
      "metadata": {
        "colab": {
          "base_uri": "https://localhost:8080/"
        },
        "id": "xAPwAfh5OlGd",
        "outputId": "09ad0fff-abc0-49b1-c306-33cee5d62beb"
      },
      "outputs": [],
      "source": [
        "#Note: This data can be used only with NVIDIA’s products or services for evaluation and benchmarking purposes.\n",
        "!source ~/.bash_profile && ngc registry resource  download-version --dest $DATA_DOWNLOAD_DIR nvidia/riva/healthcare_eval_set:1.0"
      ]
    },
    {
      "attachments": {},
      "cell_type": "markdown",
      "metadata": {
        "id": "djzc4eN2uecS"
      },
      "source": [
        "## Generating the Base Language Model"
      ]
    },
    {
      "cell_type": "code",
      "execution_count": 8,
      "metadata": {
        "id": "6J-eJiqdhpy2"
      },
      "outputs": [],
      "source": [
        "KENLM_BASE=\"kenlm/build/bin/\""
      ]
    },
    {
      "attachments": {},
      "cell_type": "markdown",
      "metadata": {
        "id": "lfd88psR1TRB"
      },
      "source": [
        "`$KENLM_BASE/lmplz`<br>\n",
        "Required Arguments:\n",
        "\n",
        "*   `-o`: Order of the language model to estimate.\n",
        "\n",
        "Optional Arguments:\n",
        "\n",
        "*   `-S`: Memory to use. This is a number followed by single-character suffix: `%` for percentage of physical memory (on platforms where this is measured), `b` for bytes, `K` for kilobytes, `M` for megabytes, and so on for `G` and `T`. If no suffix is given, kilobytes are assumed for compatibility with GNU sort. The sort program is not used; the command line is simply designed to be compatible.\n",
        "*   `-T`: Temporary file location.\n",
        "*   `--discount_fallback`: Kneser-Ney smoothing discounts are estimated from counts of counts, including the number of singletons.\n"
      ]
    },
    {
      "cell_type": "code",
      "execution_count": null,
      "metadata": {
        "colab": {
          "base_uri": "https://localhost:8080/"
        },
        "id": "GE2YgGFEhp_x",
        "outputId": "ab33b09b-d3da-4727-b105-085c4f98e043"
      },
      "outputs": [],
      "source": [
        "!$KENLM_BASE/lmplz -o 4 < $DATA_DOWNLOAD_DIR/reduced_training.txt > $RESULTS_DIR/base_lm.arpa"
      ]
    },
    {
      "attachments": {},
      "cell_type": "markdown",
      "metadata": {
        "id": "7kY0Deemo938"
      },
      "source": [
        "`$KENLM_BASE/build_binary`<br>\n",
        "Arguments:\n",
        "\n",
        "*   `-q`: Quantization flag for the probabilities. For example `-q 8` store 8 bits of probability\n",
        "*   `-b`: Quantization flag for back-off weights. For example `-b 7` store 7 bits of back-off\n",
        "*   `-a`: Maximum number of bits to be removed and stored implicitly using a table of offsets to reduce memory footprint.\n",
        "\n"
      ]
    },
    {
      "cell_type": "code",
      "execution_count": null,
      "metadata": {
        "colab": {
          "base_uri": "https://localhost:8080/"
        },
        "id": "uJzI1Sk0hqDO",
        "outputId": "383375d7-8105-4ad9-b3f4-28faf3900861"
      },
      "outputs": [],
      "source": [
        "!$KENLM_BASE/build_binary  trie -q 8 -b 7 -a 256 $RESULTS_DIR/base_lm.arpa $RESULTS_DIR/base_lm.bin"
      ]
    },
    {
      "attachments": {},
      "cell_type": "markdown",
      "metadata": {
        "id": "7KORFpRXuOP1"
      },
      "source": [
        "## Load the ASR Model"
      ]
    },
    {
      "cell_type": "code",
      "execution_count": null,
      "metadata": {
        "colab": {
          "base_uri": "https://localhost:8080/"
        },
        "id": "PmLQQd7MAnFU",
        "outputId": "5d6816dd-755f-4678-e080-f76e2a7f2b0d"
      },
      "outputs": [],
      "source": [
        "import torch\n",
        "from nemo.collections.asr.models import ASRModel\n",
        "from nemo.collections.asr.metrics.wer import CTCDecodingConfig"
      ]
    },
    {
      "attachments": {},
      "cell_type": "markdown",
      "metadata": {
        "id": "fRcej90lvLxi"
      },
      "source": [
        "### Download the English Conformer Model from NGC"
      ]
    },
    {
      "cell_type": "code",
      "execution_count": null,
      "metadata": {
        "colab": {
          "base_uri": "https://localhost:8080/"
        },
        "id": "XglLDuyJRMph",
        "outputId": "81b29ebc-d72f-4f7c-ba35-932034418109"
      },
      "outputs": [],
      "source": [
        "!source ~/.bash_profile && ngc registry model download-version \"nvidia/riva/speechtotext_en_us_conformer:trainable_v3.1\" --dest $MODELS_DIR"
      ]
    },
    {
      "attachments": {},
      "cell_type": "markdown",
      "metadata": {
        "id": "G4w1PlnUvXQm"
      },
      "source": [
        "### Create a Lexicon File for Flashlight Decoder"
      ]
    },
    {
      "cell_type": "code",
      "execution_count": null,
      "metadata": {
        "colab": {
          "base_uri": "https://localhost:8080/"
        },
        "id": "nFF6EEtBTXFC",
        "outputId": "57019bb1-6eb5-462e-be94-b320c283c7ae"
      },
      "outputs": [],
      "source": [
        "!python NeMo/scripts/asr_language_modeling/ngram_lm/create_lexicon_from_arpa.py --arpa $RESULTS_DIR/base_lm.arpa --model $MODELS_DIR/speechtotext_en_us_conformer_vtrainable_v3.1/Conformer-CTC-L_spe-1024_en-US_Riva-ASR-SET-3.1.nemo --lower --dst $RESULTS_DIR"
      ]
    },
    {
      "attachments": {},
      "cell_type": "markdown",
      "metadata": {
        "id": "zlwsoc4ivhsK"
      },
      "source": [
        "### Updating the Decoder Type, Language Model, and Lexicon"
      ]
    },
    {
      "cell_type": "code",
      "execution_count": null,
      "metadata": {
        "colab": {
          "base_uri": "https://localhost:8080/"
        },
        "id": "ovHlC3V0An1M",
        "outputId": "6122e6f8-abdc-4a06-dcbe-e487c7d761fa"
      },
      "outputs": [],
      "source": [
        "device = torch.device('cuda')\n",
        "asr_model = ASRModel.restore_from(f\"{MODELS_DIR}/speechtotext_en_us_conformer_vtrainable_v3.1/Conformer-CTC-L_spe-1024_en-US_Riva-ASR-SET-3.1.nemo\").to(device)\n",
        "\n",
        "\n",
        "decoding_cfg = CTCDecodingConfig()\n",
        "\n",
        "decoding_cfg.strategy = \"flashlight\"\n",
        "decoding_cfg.beam.search_type = \"flashlight\"\n",
        "decoding_cfg.beam.kenlm_path = f'{RESULTS_DIR}/base_lm.bin'\n",
        "decoding_cfg.beam.flashlight_cfg.lexicon_path=f'{RESULTS_DIR}/base_lm.lexicon'\n",
        "decoding_cfg.beam.beam_size = 32\n",
        "decoding_cfg.beam.beam_alpha = 0.2\n",
        "decoding_cfg.beam.beam_beta = 0.2\n",
        "decoding_cfg.beam.flashlight_cfg.beam_size_token = 32\n",
        "decoding_cfg.beam.flashlight_cfg.beam_threshold = 25.0\n",
        "\n",
        "asr_model.change_decoding_strategy(decoding_cfg)"
      ]
    },
    {
      "cell_type": "markdown",
      "metadata": {
        "id": "HrqsL8YBuqY0"
      },
      "source": [
        "### Evaluate"
      ]
    },
    {
      "cell_type": "code",
      "execution_count": 19,
      "metadata": {
        "id": "qyjHvQmfTWvN"
      },
      "outputs": [],
      "source": [
        "import json\n",
        "import os\n",
        "\n",
        "def transcribe_json(asr_model, json_path, output_json):\n",
        "    dataset_root = os.path.split(json_path)[0]\n",
        "    with open(json_path) as fin, open(output_json, 'w') as fout:\n",
        "        manifest = []\n",
        "        audios = []\n",
        "        for line in fin:\n",
        "            dt = json.loads(line.strip())\n",
        "            manifest.append(dt)\n",
        "            audios.append(dt['audio_filepath'].replace(\"/data\", dataset_root))\n",
        "        transcripts = asr_model.transcribe(paths2audio_files=audios)\n",
        "        for i in range(len(transcripts)):\n",
        "            dt = {\n",
        "                'audio_filepath': manifest[i]['audio_filepath'],\n",
        "                'text': transcripts[i]\n",
        "            }\n",
        "            fout.write(json.dumps(dt)+\"\\n\")\n",
        "\n"
      ]
    },
    {
      "cell_type": "code",
      "execution_count": null,
      "metadata": {
        "colab": {
          "base_uri": "https://localhost:8080/",
          "height": 81,
          "referenced_widgets": [
            "b0071dd7e7314a9d852649117869c17c",
            "77d7744d754a48c595be388527ae4e28",
            "48cd9156af8b464587c66c49ae8aec55",
            "bf58f345653b4c1092c7720e2852cd7e",
            "04558c0918174984b4598265082ad1f4",
            "a3bce21d02b4465b801e7ab441e71064",
            "23bb31ed1a6e44e295591bc299c028e6",
            "27c8bbb23243403f95423d94547c97ca",
            "2bd4aa4a5774444cbe27df8cd5d682ad",
            "80a6a230c88541daa1bc3af3872a9d04",
            "d6a7822bfd904776b8dd17eb1063dee4",
            "90ad680e9d1e449387bf56c868d2a181",
            "4959b45c75d94ae3a4311e60a93b18e3",
            "48568232107c4edbb5dc915cadbd6876",
            "4288c88b0722478b85668f0cd1d64d16",
            "051962adf44f4e0fad009b9324ce148a",
            "8db43ebd2cf741d5af549a64bf3082eb",
            "26c0564c11ef4cf9834a4facf5974fe8",
            "d097f5652272409f9fbb7a6838390d17",
            "2f1e23afb6a04cd2a9950e4f731833e8",
            "4021d6c257474194a5e00afe5573a712",
            "0a1ddd891a424b37adde83a88bdeb7f2"
          ]
        },
        "id": "Awiq893opMBT",
        "outputId": "c36c7a0c-1b3a-404b-b153-deba1709b044"
      },
      "outputs": [],
      "source": [
        "transcribe_json(asr_model, f\"{DATA_DOWNLOAD_DIR}/healthcare_eval_set_v1.0/general.json\", f\"{RESULTS_DIR}/general_base_lm.json\")\n",
        "transcribe_json(asr_model, f\"{DATA_DOWNLOAD_DIR}/healthcare_eval_set_v1.0/healthcare.json\", f\"{RESULTS_DIR}/healthcare_base_lm.json\")"
      ]
    },
    {
      "attachments": {},
      "cell_type": "markdown",
      "metadata": {
        "id": "1J2w-2gqOyl1"
      },
      "source": [
        "### Calculate the Word Error Rate\n"
      ]
    },
    {
      "cell_type": "code",
      "execution_count": null,
      "metadata": {
        "colab": {
          "base_uri": "https://localhost:8080/"
        },
        "id": "G_b009AqOxi9",
        "outputId": "fff439e4-39cf-45a2-bd02-17bcf3c3b558"
      },
      "outputs": [],
      "source": [
        "!pip install jiwer\n",
        "from jiwer import wer\n",
        "import json\n",
        "\n",
        "def calculate_wer(ground_truth_manifest, asr_transcript):\n",
        "    data ={}\n",
        "    ground_truths = []\n",
        "    predictions = []\n",
        "    with open(ground_truth_manifest) as file:\n",
        "        for line in file:\n",
        "            dt = json.loads(line)\n",
        "            data[dt['audio_filepath']] = dt['text']\n",
        "    with open(asr_transcript) as file:\n",
        "        for line in file:\n",
        "            dt = json.loads(line)\n",
        "            if dt['audio_filepath'] in data:\n",
        "                ground_truths.append(data[dt['audio_filepath']])\n",
        "                predictions.append(dt['text'])\n",
        "    return round(100*wer(ground_truths, predictions), 2)\n",
        "\n"
      ]
    },
    {
      "cell_type": "code",
      "execution_count": null,
      "metadata": {
        "colab": {
          "base_uri": "https://localhost:8080/"
        },
        "id": "jK8ry-QjOxmZ",
        "outputId": "73557349-e127-4b0a-ffc8-588c8871dcb5"
      },
      "outputs": [],
      "source": [
        "print( \"WER of base model on generic domain data\", calculate_wer(f\"{DATA_DOWNLOAD_DIR}/healthcare_eval_set_v1.0/general.json\", f\"{RESULTS_DIR}/general_base_lm.json\"))"
      ]
    },
    {
      "cell_type": "code",
      "execution_count": null,
      "metadata": {
        "colab": {
          "base_uri": "https://localhost:8080/"
        },
        "id": "ptuyjbskWRCf",
        "outputId": "681da80f-39c6-474e-8a69-ba65fb3be62a"
      },
      "outputs": [],
      "source": [
        "print(\"WER of base model on Healthcare domain data\", calculate_wer(f\"{DATA_DOWNLOAD_DIR}/healthcare_eval_set_v1.0/healthcare.json\", f\"{RESULTS_DIR}/healthcare_base_lm.json\"))"
      ]
    },
    {
      "attachments": {},
      "cell_type": "markdown",
      "metadata": {
        "id": "pZfP4JNyPp4U"
      },
      "source": [
        "---\n",
        "<a id='isc-Finetuning'></a>\n",
        "## Fine-Tuning and Interpolation\n"
      ]
    },
    {
      "attachments": {},
      "cell_type": "markdown",
      "metadata": {
        "id": "9VARkia8Pstv"
      },
      "source": [
        "The fine-tuning process will continue training using a previously trained model by training a second model on new domain data and interpolating it with the original model. Fine-tuning requires that the original model have intermediate enabled during training. A fine-tuned model cannot be used for fine-tuning again. <br>\n",
        "\n",
        "\n",
        "### Downloading and Procesing Domain Data (healthcare) for LM Fine-Tuning\n",
        "For the purpose of fine-tuning on a healthcare domain we can make use of the [Kaggle dataset PubMed 200k RCT: a Dataset for Sequential Sentence Classification in Medical Abstracts](https://arxiv.org/abs/1710.06071). <br>\n",
        "This dataset is available [here](https://www.kaggle.com/datasets/anshulmehtakaggl/200000-abstracts-for-seq-sentence-classification). <br>\n",
        "Follow the instructions to [install and authenticate Kaggle API](https://www.kaggle.com/docs/api).\n",
        "<br>\n",
        "**Note**: Each user is responsible for checking the content of datasets and the applicable licenses and determining if they are suitable for the intended use.\n"
      ]
    },
    {
      "cell_type": "code",
      "execution_count": null,
      "metadata": {
        "colab": {
          "base_uri": "https://localhost:8080/"
        },
        "id": "_LjX4xYNPoiJ",
        "outputId": "5a734c32-2a41-4746-a7d1-4850fe9e6454"
      },
      "outputs": [],
      "source": [
        "!kaggle datasets download -d anshulmehtakaggl/200000-abstracts-for-seq-sentence-classification"
      ]
    },
    {
      "cell_type": "code",
      "execution_count": null,
      "metadata": {
        "colab": {
          "base_uri": "https://localhost:8080/"
        },
        "id": "4MR59SwSPoke",
        "outputId": "fbdf4bc1-8ec0-42ce-cd99-f69a9a5ba1dd"
      },
      "outputs": [],
      "source": [
        "!unzip -d $DATA_DOWNLOAD_DIR 200000-abstracts-for-seq-sentence-classification.zip"
      ]
    },
    {
      "cell_type": "code",
      "execution_count": 34,
      "metadata": {
        "id": "iS4amZm9PooP"
      },
      "outputs": [],
      "source": [
        "# Perform basic text cleaning and generate domain data\n",
        "import string,re\n",
        "def clean_text(text):\n",
        "    text = re.sub(r\"[^a-z' ]+\", \"\", text.lower().strip())\n",
        "    text = ' '.join(text.split())\n",
        "    if len(text.split())> 5:\n",
        "        return text.strip()\n",
        "    \n",
        "# Using dev file since we want a small amount of finetuning data. For better text Normalization use NeMo [https://github.com/NVIDIA/NeMo/tree/main/nemo_text_processing]\n",
        "with open(f'{DATA_DOWNLOAD_DIR}/20k_abstracts_numbers_with_@/dev.txt') as file, open(f'{DATA_DOWNLOAD_DIR}/domain_data_all.txt', 'w') as outfile:\n",
        "    for line in file:\n",
        "        if line.startswith(\"###\") or not line.strip():\n",
        "            continue\n",
        "        _, text = line.strip().split('\\t')\n",
        "        text = clean_text(text)\n",
        "        if text:\n",
        "            outfile.write(text+'\\n')\n",
        "            \n",
        "# Picking top 10000 lines from dataset\n",
        "!head -10000 $DATA_DOWNLOAD_DIR/domain_data_all.txt > $DATA_DOWNLOAD_DIR/domain_data.txt"
      ]
    },
    {
      "attachments": {},
      "cell_type": "markdown",
      "metadata": {
        "id": "9wQQinzHP-jG"
      },
      "source": [
        "The fine-tuning process will continue training using a previously trained model by training a second model on new domain data and interpolating it with the original model. Fine-tuning requires the original model to have intermediate enabled during training. A fine-tuned model cannot be used for fine-tuning again. <br>\n",
        "\n",
        "\n",
        "For fine-tuning a n-gram language model with KenLM, perform the following steps:\n",
        "\n",
        "\n",
        "1.   [Generate intermediate ARPA files for Base LM and Domain LM](#generating-intermediate-arpa).\n",
        "2.   [Interpolate Base LM and Domain LM with suitable weights](#interpolate).\n"
      ]
    },
    {
      "attachments": {},
      "cell_type": "markdown",
      "metadata": {
        "id": "BAueBCRkWSjY"
      },
      "source": [
        "### Generating Intermediate ARPA"
      ]
    },
    {
      "cell_type": "code",
      "execution_count": null,
      "metadata": {
        "colab": {
          "base_uri": "https://localhost:8080/"
        },
        "id": "JMuL6b53Py9L",
        "outputId": "05a24558-e2d6-4f01-d1a1-8547bd09ceb4"
      },
      "outputs": [],
      "source": [
        "# Base LM\n",
        "!mkdir base_intermediate\n",
        "!$KENLM_BASE/lmplz -o 4 --intermediate base_intermediate/inter < $DATA_DOWNLOAD_DIR/reduced_training.txt\n",
        "\n",
        "# Healthcare LM\n",
        "!mkdir healthcare_intermediate\n",
        "!$KENLM_BASE/lmplz -o 4 --intermediate healthcare_intermediate/inter < $DATA_DOWNLOAD_DIR/domain_data.txt"
      ]
    },
    {
      "attachments": {},
      "cell_type": "markdown",
      "metadata": {
        "id": "fLPjZHq1WjVo"
      },
      "source": [
        "### Interpolate\n",
        "Weights for interpolation can be passed with\n",
        "```\n",
        " -w 0.6 0.4\n",
        "```\n",
        "Here, 60% weightage is assigned to the base LM and 40% to the domain."
      ]
    },
    {
      "cell_type": "code",
      "execution_count": null,
      "metadata": {
        "colab": {
          "base_uri": "https://localhost:8080/"
        },
        "id": "kBoZjVQfPy_-",
        "outputId": "e027128c-6247-447d-c127-a7450d6474dc"
      },
      "outputs": [],
      "source": [
        "!$KENLM_BASE/interpolate -w 0.6 0.4 -m base_intermediate/inter healthcare_intermediate/inter > $RESULTS_DIR/interpolated_lm_60-40.arpa\n",
        "!$KENLM_BASE/build_binary  trie -q 8 -b 7 -a 256 $RESULTS_DIR/interpolated_lm_60-40.arpa $RESULTS_DIR/interpolated_lm_60-40.bin"
      ]
    },
    {
      "cell_type": "code",
      "execution_count": null,
      "metadata": {
        "colab": {
          "base_uri": "https://localhost:8080/"
        },
        "id": "K7JSOswCWoUZ",
        "outputId": "dd03f6e3-fc02-4f82-ed23-f0495549938a"
      },
      "outputs": [],
      "source": [
        "!python NeMo/scripts/asr_language_modeling/ngram_lm/create_lexicon_from_arpa.py --arpa $RESULTS_DIR/interpolated_lm_60-40.arpa --model $MODELS_DIR/speechtotext_en_us_conformer_vtrainable_v3.1/Conformer-CTC-L_spe-1024_en-US_Riva-ASR-SET-3.1.nemo --lower --dst $RESULTS_DIR"
      ]
    },
    {
      "cell_type": "markdown",
      "metadata": {
        "id": "2h9Q_8NLWmX8"
      },
      "source": [
        "#### Evaluate"
      ]
    },
    {
      "cell_type": "code",
      "execution_count": null,
      "metadata": {
        "colab": {
          "base_uri": "https://localhost:8080/"
        },
        "id": "ftBSdTSpPvET",
        "outputId": "dc7b8b84-9288-49c7-908e-87cc126fe655"
      },
      "outputs": [],
      "source": [
        "decoding_cfg.beam.kenlm_path = f'{RESULTS_DIR}/interpolated_lm_60-40.bin'\n",
        "decoding_cfg.beam.flashlight_cfg.lexicon_path=f'{RESULTS_DIR}/interpolated_lm_60-40.lexicon'\n",
        "\n",
        "asr_model.change_decoding_strategy(decoding_cfg)"
      ]
    },
    {
      "cell_type": "code",
      "execution_count": null,
      "metadata": {
        "colab": {
          "base_uri": "https://localhost:8080/",
          "height": 81,
          "referenced_widgets": [
            "37fcd9fcca764e2fa3d56f6a1ccce8d6",
            "7d68a0556fb94b41853aae20fa7aeb85",
            "d37392d09cb5449eb2d917a4f79e4fce",
            "1ed875366d8944c19d8983abf58c8749",
            "d479442db2584a7a8431cc39e1079ae7",
            "0f64c25236944bcabefb97429f79ac7c",
            "3362ec96ef754e17bb68dd9fbb38e8bc",
            "e0901ecc3c514942852f66196a87a0c5",
            "98c1d0348ad94e389529cfd0a705c7a4",
            "5be70c32e22242bb8699a438bfdf5eec",
            "bafa12f1b51540afb732ff42372e6d20",
            "a395e37b1958437b98cedda5e93a5307",
            "d4deafbb6ba248e5ba4b402ce15172f1",
            "3f236cb2cec443d0ad9faf10f797e25b",
            "2b7eba7c6eba40b5be340e39d311be2d",
            "fa40a0c961144cf1a4ea9c1e35ef979e",
            "9da3e76d9ebd45048d331eba0d48e229",
            "d45e959181d74630b7a93ef49ec37305",
            "fec5e6c2c1c443e68adea990c9461d2b",
            "bd6da1c9079a4702a79cb39c9636e8f8",
            "71d4725673f84b108a1e3d4bb587708f",
            "5b7e2ec4ad934c75b48eb60a408e915d"
          ]
        },
        "id": "iPgkp-fiPzDd",
        "outputId": "f0c10e8b-91c3-479d-cd5d-94feb55c7a7e"
      },
      "outputs": [],
      "source": [
        "transcribe_json(asr_model, f\"{DATA_DOWNLOAD_DIR}/healthcare_eval_set_v1.0/general.json\", f\"{RESULTS_DIR}/general_interpolated_lm_60-40.json\")\n",
        "transcribe_json(asr_model, f\"{DATA_DOWNLOAD_DIR}/healthcare_eval_set_v1.0/healthcare.json\", f\"{RESULTS_DIR}/healthcare_interpolated_lm_60-40.json\")"
      ]
    },
    {
      "cell_type": "markdown",
      "metadata": {
        "id": "MORNHYB2QQ0-"
      },
      "source": [
        "#### Calculate WER"
      ]
    },
    {
      "cell_type": "code",
      "execution_count": null,
      "metadata": {
        "colab": {
          "base_uri": "https://localhost:8080/"
        },
        "id": "_20PEwLJQOui",
        "outputId": "ae96909c-b524-488c-c0ab-d27611113dea"
      },
      "outputs": [],
      "source": [
        "print( \"WER of base model on generic domain data\", calculate_wer(f\"{DATA_DOWNLOAD_DIR}/healthcare_eval_set_v1.0/general.json\", f\"{RESULTS_DIR}/general_base_lm.json\"))\n",
        "print( \"WER of Domain model on generic domain data\", calculate_wer(f\"{DATA_DOWNLOAD_DIR}/healthcare_eval_set_v1.0/general.json\", f\"{RESULTS_DIR}/general_interpolated_lm_60-40.json\"))"
      ]
    },
    {
      "cell_type": "code",
      "execution_count": null,
      "metadata": {
        "colab": {
          "base_uri": "https://localhost:8080/"
        },
        "id": "QC6crEFsQfVl",
        "outputId": "96bc9782-dbe0-4e46-b7a3-cfa8223456e6"
      },
      "outputs": [],
      "source": [
        "print(\"WER of base model on Healthcare domain data\", calculate_wer(f\"{DATA_DOWNLOAD_DIR}/healthcare_eval_set_v1.0/healthcare.json\", f\"{RESULTS_DIR}/healthcare_base_lm.json\"))\n",
        "print(\"WER of Domain model on Healthcare domain data\", calculate_wer(f\"{DATA_DOWNLOAD_DIR}/healthcare_eval_set_v1.0/healthcare.json\", f\"{RESULTS_DIR}/healthcare_interpolated_lm_60-40.json\"))"
      ]
    },
    {
      "cell_type": "markdown",
      "metadata": {
        "id": "DP8GAxFrWpNZ"
      },
      "source": [
        "### Pruning"
      ]
    },
    {
      "attachments": {},
      "cell_type": "markdown",
      "metadata": {
        "id": "qR69XB7iWuR3"
      },
      "source": [
        "LM generated by simply passing the text corpus to kenLM contains some n-grams which are less frequent (in corpus) and thus have very low probabilities. Such n-grams can be removed by `pruning`.<br>\n",
        "Pruning requires some thresholds which can be passed with the `--prune` parameter followed by space separated thresholds that specify the count thresholds for each order while generating ARPA:\n",
        "```\n",
        " --prune 0 1 7 9\n",
        "```\n",
        "\n",
        "All the n-gram with frequncy less than or equal to specified threshold will get eliminated.<br>\n",
        "Here, 2-grams with freq. <= 1, 3-gram with freq.<=7 & 4-gram with freq.<=9 will get eliminated.<br>\n",
        "There's a tradeoff between degree of pruning and accuracy. High pruning parameters will reduce the size of language model but at the cost of model accuracy!  \n",
        "\n",
        "#### *Note:\n",
        "Pruning of 1-gram is not supported, threshold for 1-gram should always be 0"
      ]
    },
    {
      "cell_type": "code",
      "execution_count": null,
      "metadata": {
        "colab": {
          "base_uri": "https://localhost:8080/"
        },
        "id": "caJ5UiBaPzNd",
        "outputId": "4715fdec-1484-4ed3-87c7-b6920ff6ad66"
      },
      "outputs": [],
      "source": [
        "!kenlm/build/bin/lmplz -o 4 --prune 0 1 7 9  < $DATA_DOWNLOAD_DIR/reduced_training.txt > $RESULTS_DIR/pruned_lm.arpa"
      ]
    },
    {
      "cell_type": "code",
      "execution_count": null,
      "metadata": {
        "colab": {
          "base_uri": "https://localhost:8080/"
        },
        "id": "GgScVeyIR5QC",
        "outputId": "ebf23c01-0027-4f74-ed83-f286ead92698"
      },
      "outputs": [],
      "source": [
        "!$KENLM_BASE/build_binary  trie -q 8 -b 7 -a 256 $RESULTS_DIR/pruned_lm.arpa $RESULTS_DIR/pruned_lm.bin"
      ]
    },
    {
      "cell_type": "code",
      "execution_count": null,
      "metadata": {
        "colab": {
          "base_uri": "https://localhost:8080/"
        },
        "collapsed": true,
        "id": "NkJD9sH0SFf4",
        "outputId": "97b6e78f-2152-4238-8e8f-609f3e06fa59"
      },
      "outputs": [],
      "source": [
        "!python NeMo/scripts/asr_language_modeling/ngram_lm/create_lexicon_from_arpa.py --arpa $RESULTS_DIR/pruned_lm.arpa --model $MODELS_DIR/speechtotext_en_us_conformer_vtrainable_v3.1/Conformer-CTC-L_spe-1024_en-US_Riva-ASR-SET-3.1.nemo --lower --dst $RESULTS_DIR"
      ]
    },
    {
      "cell_type": "code",
      "execution_count": null,
      "metadata": {
        "colab": {
          "base_uri": "https://localhost:8080/"
        },
        "id": "s3_w3d6xXxSZ",
        "outputId": "073684ab-0e90-4b08-d355-3a9c1ef6b93f"
      },
      "outputs": [],
      "source": [
        "# Lets check the size of original LM and Pruned LM\n",
        "!echo \"Size of unpruned ARPA: $(du -h $RESULTS_DIR/base_lm.arpa | cut -f 1)\"\n",
        "!echo \"Size of pruned ARPA: $(du -h $RESULTS_DIR/pruned_lm.arpa | cut -f 1)\""
      ]
    },
    {
      "cell_type": "markdown",
      "metadata": {
        "id": "V2mYhqWzX2g4"
      },
      "source": [
        "#### Evaluate"
      ]
    },
    {
      "cell_type": "code",
      "execution_count": null,
      "metadata": {
        "colab": {
          "base_uri": "https://localhost:8080/"
        },
        "id": "bWu_btNRX1ur",
        "outputId": "6f3109b5-0304-42de-82bb-e94dc7a7b8bf"
      },
      "outputs": [],
      "source": [
        "decoding_cfg.beam.kenlm_path = f'{RESULTS_DIR}/pruned_lm.bin'\n",
        "decoding_cfg.beam.flashlight_cfg.lexicon_path=f'{RESULTS_DIR}/base_lm.lexicon'\n",
        "\n",
        "asr_model.change_decoding_strategy(decoding_cfg)"
      ]
    },
    {
      "cell_type": "code",
      "execution_count": null,
      "metadata": {
        "colab": {
          "base_uri": "https://localhost:8080/",
          "height": 81,
          "referenced_widgets": [
            "46531a2eea4541b3be4f10a80f9b7bc7",
            "416efabec56c41ba96084476004fc43f",
            "5845a8e7fe45493f8fc5ffa1e545a05f",
            "25d7450cb2fd49c593d178282b7d4ebc",
            "4ea6df5e18ee48dcb2b44782506a3fc3",
            "19773de0df3f41aea26e98cf7985dc0d",
            "5119ad2be6bc4738a4c9c1d97a8fa794",
            "7a205cc7a7054179ac0116a61c65ddf9",
            "23a74ab516e9463a9bf605bd5881a5c8",
            "f127bdf6cdcf4ee9a11fb1063e5f09f8",
            "3a6532771136466f95ed2230905443e9",
            "57cbdb0cd24347768b5d52d0bb5e93ee",
            "05ae3c443a0b4bbd889c2fbff28ec562",
            "387d8750f41d45718f904d3a084a021a",
            "1e22afe96baf4a749f1c2c0a8a8b6058",
            "1e66eefb68c540a49b8f0784b46feee4",
            "a28b252826a14f1c8f415d093525b51a",
            "425ba020d2944db5b0c9a2a11a03ebaf",
            "59bfd4bf54e34deea92421e661c48d2f",
            "608fff6cbf9a47f7986e210b8a67cb98",
            "9f5b4def58464e28ba7b21248b5bc265",
            "e8d1c6c4f7814ac9a2210df7c78b55bf"
          ]
        },
        "id": "s-iEeeCbU6gH",
        "outputId": "925b0dcd-e78f-4b10-dfbf-5416956a5799"
      },
      "outputs": [],
      "source": [
        "transcribe_json(asr_model, f\"{DATA_DOWNLOAD_DIR}/healthcare_eval_set_v1.0/general.json\", f\"{RESULTS_DIR}/general_pruned_lm.json\")\n",
        "transcribe_json(asr_model, f\"{DATA_DOWNLOAD_DIR}/healthcare_eval_set_v1.0/healthcare.json\", f\"{RESULTS_DIR}/healthcare_pruned_lm.json\")"
      ]
    },
    {
      "cell_type": "markdown",
      "metadata": {
        "id": "C0zGMSDSU7z8"
      },
      "source": [
        "#### Calculate WER"
      ]
    },
    {
      "cell_type": "code",
      "execution_count": null,
      "metadata": {
        "colab": {
          "base_uri": "https://localhost:8080/"
        },
        "id": "cMY45dKLU64E",
        "outputId": "1288ffa1-67b6-45f4-ae83-8bc86ac6924f"
      },
      "outputs": [],
      "source": [
        "print( \"WER of base model on generic domain data\", calculate_wer(f\"{DATA_DOWNLOAD_DIR}/healthcare_eval_set_v1.0/general.json\", f\"{RESULTS_DIR}/general_base_lm.json\"))\n",
        "print( \"WER of Pruned base model on generic domain data\", calculate_wer(f\"{DATA_DOWNLOAD_DIR}/healthcare_eval_set_v1.0/general.json\", f\"{RESULTS_DIR}/general_pruned_lm.json\"))"
      ]
    },
    {
      "cell_type": "code",
      "execution_count": null,
      "metadata": {
        "colab": {
          "base_uri": "https://localhost:8080/"
        },
        "id": "uerElVwQU66g",
        "outputId": "deb88060-a25e-42f1-e8af-6476d8c78ee4"
      },
      "outputs": [],
      "source": [
        "print(\"WER of base model on Healthcare domain data\", calculate_wer(f\"{DATA_DOWNLOAD_DIR}/healthcare_eval_set_v1.0/healthcare.json\", f\"{RESULTS_DIR}/healthcare_base_lm.json\"))\n",
        "print(\"WER of Pruned base model on Healthcare domain data\", calculate_wer(f\"{DATA_DOWNLOAD_DIR}/healthcare_eval_set_v1.0/healthcare.json\", f\"{RESULTS_DIR}/healthcare_pruned_lm.json\"))"
      ]
    }
  ],
  "metadata": {
    "accelerator": "GPU",
    "colab": {
      "provenance": []
    },
    "gpuClass": "standard",
    "kernelspec": {
      "display_name": "Python 3",
      "name": "python3"
    },
    "language_info": {
      "name": "python"
    },
    "widgets": {
      "application/vnd.jupyter.widget-state+json": {
        "04558c0918174984b4598265082ad1f4": {
          "model_module": "@jupyter-widgets/base",
          "model_module_version": "1.2.0",
          "model_name": "LayoutModel",
          "state": {
            "_model_module": "@jupyter-widgets/base",
            "_model_module_version": "1.2.0",
            "_model_name": "LayoutModel",
            "_view_count": null,
            "_view_module": "@jupyter-widgets/base",
            "_view_module_version": "1.2.0",
            "_view_name": "LayoutView",
            "align_content": null,
            "align_items": null,
            "align_self": null,
            "border": null,
            "bottom": null,
            "display": null,
            "flex": null,
            "flex_flow": null,
            "grid_area": null,
            "grid_auto_columns": null,
            "grid_auto_flow": null,
            "grid_auto_rows": null,
            "grid_column": null,
            "grid_gap": null,
            "grid_row": null,
            "grid_template_areas": null,
            "grid_template_columns": null,
            "grid_template_rows": null,
            "height": null,
            "justify_content": null,
            "justify_items": null,
            "left": null,
            "margin": null,
            "max_height": null,
            "max_width": null,
            "min_height": null,
            "min_width": null,
            "object_fit": null,
            "object_position": null,
            "order": null,
            "overflow": null,
            "overflow_x": null,
            "overflow_y": null,
            "padding": null,
            "right": null,
            "top": null,
            "visibility": null,
            "width": null
          }
        },
        "051962adf44f4e0fad009b9324ce148a": {
          "model_module": "@jupyter-widgets/base",
          "model_module_version": "1.2.0",
          "model_name": "LayoutModel",
          "state": {
            "_model_module": "@jupyter-widgets/base",
            "_model_module_version": "1.2.0",
            "_model_name": "LayoutModel",
            "_view_count": null,
            "_view_module": "@jupyter-widgets/base",
            "_view_module_version": "1.2.0",
            "_view_name": "LayoutView",
            "align_content": null,
            "align_items": null,
            "align_self": null,
            "border": null,
            "bottom": null,
            "display": null,
            "flex": null,
            "flex_flow": null,
            "grid_area": null,
            "grid_auto_columns": null,
            "grid_auto_flow": null,
            "grid_auto_rows": null,
            "grid_column": null,
            "grid_gap": null,
            "grid_row": null,
            "grid_template_areas": null,
            "grid_template_columns": null,
            "grid_template_rows": null,
            "height": null,
            "justify_content": null,
            "justify_items": null,
            "left": null,
            "margin": null,
            "max_height": null,
            "max_width": null,
            "min_height": null,
            "min_width": null,
            "object_fit": null,
            "object_position": null,
            "order": null,
            "overflow": null,
            "overflow_x": null,
            "overflow_y": null,
            "padding": null,
            "right": null,
            "top": null,
            "visibility": null,
            "width": null
          }
        },
        "05ae3c443a0b4bbd889c2fbff28ec562": {
          "model_module": "@jupyter-widgets/controls",
          "model_module_version": "1.5.0",
          "model_name": "HTMLModel",
          "state": {
            "_dom_classes": [],
            "_model_module": "@jupyter-widgets/controls",
            "_model_module_version": "1.5.0",
            "_model_name": "HTMLModel",
            "_view_count": null,
            "_view_module": "@jupyter-widgets/controls",
            "_view_module_version": "1.5.0",
            "_view_name": "HTMLView",
            "description": "",
            "description_tooltip": null,
            "layout": "IPY_MODEL_a28b252826a14f1c8f415d093525b51a",
            "placeholder": "​",
            "style": "IPY_MODEL_425ba020d2944db5b0c9a2a11a03ebaf",
            "value": "Transcribing: 100%"
          }
        },
        "0a1ddd891a424b37adde83a88bdeb7f2": {
          "model_module": "@jupyter-widgets/controls",
          "model_module_version": "1.5.0",
          "model_name": "DescriptionStyleModel",
          "state": {
            "_model_module": "@jupyter-widgets/controls",
            "_model_module_version": "1.5.0",
            "_model_name": "DescriptionStyleModel",
            "_view_count": null,
            "_view_module": "@jupyter-widgets/base",
            "_view_module_version": "1.2.0",
            "_view_name": "StyleView",
            "description_width": ""
          }
        },
        "0f64c25236944bcabefb97429f79ac7c": {
          "model_module": "@jupyter-widgets/base",
          "model_module_version": "1.2.0",
          "model_name": "LayoutModel",
          "state": {
            "_model_module": "@jupyter-widgets/base",
            "_model_module_version": "1.2.0",
            "_model_name": "LayoutModel",
            "_view_count": null,
            "_view_module": "@jupyter-widgets/base",
            "_view_module_version": "1.2.0",
            "_view_name": "LayoutView",
            "align_content": null,
            "align_items": null,
            "align_self": null,
            "border": null,
            "bottom": null,
            "display": null,
            "flex": null,
            "flex_flow": null,
            "grid_area": null,
            "grid_auto_columns": null,
            "grid_auto_flow": null,
            "grid_auto_rows": null,
            "grid_column": null,
            "grid_gap": null,
            "grid_row": null,
            "grid_template_areas": null,
            "grid_template_columns": null,
            "grid_template_rows": null,
            "height": null,
            "justify_content": null,
            "justify_items": null,
            "left": null,
            "margin": null,
            "max_height": null,
            "max_width": null,
            "min_height": null,
            "min_width": null,
            "object_fit": null,
            "object_position": null,
            "order": null,
            "overflow": null,
            "overflow_x": null,
            "overflow_y": null,
            "padding": null,
            "right": null,
            "top": null,
            "visibility": null,
            "width": null
          }
        },
        "19773de0df3f41aea26e98cf7985dc0d": {
          "model_module": "@jupyter-widgets/base",
          "model_module_version": "1.2.0",
          "model_name": "LayoutModel",
          "state": {
            "_model_module": "@jupyter-widgets/base",
            "_model_module_version": "1.2.0",
            "_model_name": "LayoutModel",
            "_view_count": null,
            "_view_module": "@jupyter-widgets/base",
            "_view_module_version": "1.2.0",
            "_view_name": "LayoutView",
            "align_content": null,
            "align_items": null,
            "align_self": null,
            "border": null,
            "bottom": null,
            "display": null,
            "flex": null,
            "flex_flow": null,
            "grid_area": null,
            "grid_auto_columns": null,
            "grid_auto_flow": null,
            "grid_auto_rows": null,
            "grid_column": null,
            "grid_gap": null,
            "grid_row": null,
            "grid_template_areas": null,
            "grid_template_columns": null,
            "grid_template_rows": null,
            "height": null,
            "justify_content": null,
            "justify_items": null,
            "left": null,
            "margin": null,
            "max_height": null,
            "max_width": null,
            "min_height": null,
            "min_width": null,
            "object_fit": null,
            "object_position": null,
            "order": null,
            "overflow": null,
            "overflow_x": null,
            "overflow_y": null,
            "padding": null,
            "right": null,
            "top": null,
            "visibility": null,
            "width": null
          }
        },
        "1e22afe96baf4a749f1c2c0a8a8b6058": {
          "model_module": "@jupyter-widgets/controls",
          "model_module_version": "1.5.0",
          "model_name": "HTMLModel",
          "state": {
            "_dom_classes": [],
            "_model_module": "@jupyter-widgets/controls",
            "_model_module_version": "1.5.0",
            "_model_name": "HTMLModel",
            "_view_count": null,
            "_view_module": "@jupyter-widgets/controls",
            "_view_module_version": "1.5.0",
            "_view_name": "HTMLView",
            "description": "",
            "description_tooltip": null,
            "layout": "IPY_MODEL_9f5b4def58464e28ba7b21248b5bc265",
            "placeholder": "​",
            "style": "IPY_MODEL_e8d1c6c4f7814ac9a2210df7c78b55bf",
            "value": " 15/15 [00:06&lt;00:00,  2.15it/s]"
          }
        },
        "1e66eefb68c540a49b8f0784b46feee4": {
          "model_module": "@jupyter-widgets/base",
          "model_module_version": "1.2.0",
          "model_name": "LayoutModel",
          "state": {
            "_model_module": "@jupyter-widgets/base",
            "_model_module_version": "1.2.0",
            "_model_name": "LayoutModel",
            "_view_count": null,
            "_view_module": "@jupyter-widgets/base",
            "_view_module_version": "1.2.0",
            "_view_name": "LayoutView",
            "align_content": null,
            "align_items": null,
            "align_self": null,
            "border": null,
            "bottom": null,
            "display": null,
            "flex": null,
            "flex_flow": null,
            "grid_area": null,
            "grid_auto_columns": null,
            "grid_auto_flow": null,
            "grid_auto_rows": null,
            "grid_column": null,
            "grid_gap": null,
            "grid_row": null,
            "grid_template_areas": null,
            "grid_template_columns": null,
            "grid_template_rows": null,
            "height": null,
            "justify_content": null,
            "justify_items": null,
            "left": null,
            "margin": null,
            "max_height": null,
            "max_width": null,
            "min_height": null,
            "min_width": null,
            "object_fit": null,
            "object_position": null,
            "order": null,
            "overflow": null,
            "overflow_x": null,
            "overflow_y": null,
            "padding": null,
            "right": null,
            "top": null,
            "visibility": null,
            "width": null
          }
        },
        "1ed875366d8944c19d8983abf58c8749": {
          "model_module": "@jupyter-widgets/controls",
          "model_module_version": "1.5.0",
          "model_name": "HTMLModel",
          "state": {
            "_dom_classes": [],
            "_model_module": "@jupyter-widgets/controls",
            "_model_module_version": "1.5.0",
            "_model_name": "HTMLModel",
            "_view_count": null,
            "_view_module": "@jupyter-widgets/controls",
            "_view_module_version": "1.5.0",
            "_view_name": "HTMLView",
            "description": "",
            "description_tooltip": null,
            "layout": "IPY_MODEL_5be70c32e22242bb8699a438bfdf5eec",
            "placeholder": "​",
            "style": "IPY_MODEL_bafa12f1b51540afb732ff42372e6d20",
            "value": " 15/15 [00:08&lt;00:00,  3.65it/s]"
          }
        },
        "23a74ab516e9463a9bf605bd5881a5c8": {
          "model_module": "@jupyter-widgets/controls",
          "model_module_version": "1.5.0",
          "model_name": "ProgressStyleModel",
          "state": {
            "_model_module": "@jupyter-widgets/controls",
            "_model_module_version": "1.5.0",
            "_model_name": "ProgressStyleModel",
            "_view_count": null,
            "_view_module": "@jupyter-widgets/base",
            "_view_module_version": "1.2.0",
            "_view_name": "StyleView",
            "bar_color": null,
            "description_width": ""
          }
        },
        "23bb31ed1a6e44e295591bc299c028e6": {
          "model_module": "@jupyter-widgets/controls",
          "model_module_version": "1.5.0",
          "model_name": "DescriptionStyleModel",
          "state": {
            "_model_module": "@jupyter-widgets/controls",
            "_model_module_version": "1.5.0",
            "_model_name": "DescriptionStyleModel",
            "_view_count": null,
            "_view_module": "@jupyter-widgets/base",
            "_view_module_version": "1.2.0",
            "_view_name": "StyleView",
            "description_width": ""
          }
        },
        "25d7450cb2fd49c593d178282b7d4ebc": {
          "model_module": "@jupyter-widgets/controls",
          "model_module_version": "1.5.0",
          "model_name": "HTMLModel",
          "state": {
            "_dom_classes": [],
            "_model_module": "@jupyter-widgets/controls",
            "_model_module_version": "1.5.0",
            "_model_name": "HTMLModel",
            "_view_count": null,
            "_view_module": "@jupyter-widgets/controls",
            "_view_module_version": "1.5.0",
            "_view_name": "HTMLView",
            "description": "",
            "description_tooltip": null,
            "layout": "IPY_MODEL_f127bdf6cdcf4ee9a11fb1063e5f09f8",
            "placeholder": "​",
            "style": "IPY_MODEL_3a6532771136466f95ed2230905443e9",
            "value": " 15/15 [00:06&lt;00:00,  3.40it/s]"
          }
        },
        "26c0564c11ef4cf9834a4facf5974fe8": {
          "model_module": "@jupyter-widgets/controls",
          "model_module_version": "1.5.0",
          "model_name": "DescriptionStyleModel",
          "state": {
            "_model_module": "@jupyter-widgets/controls",
            "_model_module_version": "1.5.0",
            "_model_name": "DescriptionStyleModel",
            "_view_count": null,
            "_view_module": "@jupyter-widgets/base",
            "_view_module_version": "1.2.0",
            "_view_name": "StyleView",
            "description_width": ""
          }
        },
        "27c8bbb23243403f95423d94547c97ca": {
          "model_module": "@jupyter-widgets/base",
          "model_module_version": "1.2.0",
          "model_name": "LayoutModel",
          "state": {
            "_model_module": "@jupyter-widgets/base",
            "_model_module_version": "1.2.0",
            "_model_name": "LayoutModel",
            "_view_count": null,
            "_view_module": "@jupyter-widgets/base",
            "_view_module_version": "1.2.0",
            "_view_name": "LayoutView",
            "align_content": null,
            "align_items": null,
            "align_self": null,
            "border": null,
            "bottom": null,
            "display": null,
            "flex": null,
            "flex_flow": null,
            "grid_area": null,
            "grid_auto_columns": null,
            "grid_auto_flow": null,
            "grid_auto_rows": null,
            "grid_column": null,
            "grid_gap": null,
            "grid_row": null,
            "grid_template_areas": null,
            "grid_template_columns": null,
            "grid_template_rows": null,
            "height": null,
            "justify_content": null,
            "justify_items": null,
            "left": null,
            "margin": null,
            "max_height": null,
            "max_width": null,
            "min_height": null,
            "min_width": null,
            "object_fit": null,
            "object_position": null,
            "order": null,
            "overflow": null,
            "overflow_x": null,
            "overflow_y": null,
            "padding": null,
            "right": null,
            "top": null,
            "visibility": null,
            "width": null
          }
        },
        "2b7eba7c6eba40b5be340e39d311be2d": {
          "model_module": "@jupyter-widgets/controls",
          "model_module_version": "1.5.0",
          "model_name": "HTMLModel",
          "state": {
            "_dom_classes": [],
            "_model_module": "@jupyter-widgets/controls",
            "_model_module_version": "1.5.0",
            "_model_name": "HTMLModel",
            "_view_count": null,
            "_view_module": "@jupyter-widgets/controls",
            "_view_module_version": "1.5.0",
            "_view_name": "HTMLView",
            "description": "",
            "description_tooltip": null,
            "layout": "IPY_MODEL_71d4725673f84b108a1e3d4bb587708f",
            "placeholder": "​",
            "style": "IPY_MODEL_5b7e2ec4ad934c75b48eb60a408e915d",
            "value": " 15/15 [00:05&lt;00:00,  2.59it/s]"
          }
        },
        "2bd4aa4a5774444cbe27df8cd5d682ad": {
          "model_module": "@jupyter-widgets/controls",
          "model_module_version": "1.5.0",
          "model_name": "ProgressStyleModel",
          "state": {
            "_model_module": "@jupyter-widgets/controls",
            "_model_module_version": "1.5.0",
            "_model_name": "ProgressStyleModel",
            "_view_count": null,
            "_view_module": "@jupyter-widgets/base",
            "_view_module_version": "1.2.0",
            "_view_name": "StyleView",
            "bar_color": null,
            "description_width": ""
          }
        },
        "2f1e23afb6a04cd2a9950e4f731833e8": {
          "model_module": "@jupyter-widgets/controls",
          "model_module_version": "1.5.0",
          "model_name": "ProgressStyleModel",
          "state": {
            "_model_module": "@jupyter-widgets/controls",
            "_model_module_version": "1.5.0",
            "_model_name": "ProgressStyleModel",
            "_view_count": null,
            "_view_module": "@jupyter-widgets/base",
            "_view_module_version": "1.2.0",
            "_view_name": "StyleView",
            "bar_color": null,
            "description_width": ""
          }
        },
        "3362ec96ef754e17bb68dd9fbb38e8bc": {
          "model_module": "@jupyter-widgets/controls",
          "model_module_version": "1.5.0",
          "model_name": "DescriptionStyleModel",
          "state": {
            "_model_module": "@jupyter-widgets/controls",
            "_model_module_version": "1.5.0",
            "_model_name": "DescriptionStyleModel",
            "_view_count": null,
            "_view_module": "@jupyter-widgets/base",
            "_view_module_version": "1.2.0",
            "_view_name": "StyleView",
            "description_width": ""
          }
        },
        "37fcd9fcca764e2fa3d56f6a1ccce8d6": {
          "model_module": "@jupyter-widgets/controls",
          "model_module_version": "1.5.0",
          "model_name": "HBoxModel",
          "state": {
            "_dom_classes": [],
            "_model_module": "@jupyter-widgets/controls",
            "_model_module_version": "1.5.0",
            "_model_name": "HBoxModel",
            "_view_count": null,
            "_view_module": "@jupyter-widgets/controls",
            "_view_module_version": "1.5.0",
            "_view_name": "HBoxView",
            "box_style": "",
            "children": [
              "IPY_MODEL_7d68a0556fb94b41853aae20fa7aeb85",
              "IPY_MODEL_d37392d09cb5449eb2d917a4f79e4fce",
              "IPY_MODEL_1ed875366d8944c19d8983abf58c8749"
            ],
            "layout": "IPY_MODEL_d479442db2584a7a8431cc39e1079ae7"
          }
        },
        "387d8750f41d45718f904d3a084a021a": {
          "model_module": "@jupyter-widgets/controls",
          "model_module_version": "1.5.0",
          "model_name": "FloatProgressModel",
          "state": {
            "_dom_classes": [],
            "_model_module": "@jupyter-widgets/controls",
            "_model_module_version": "1.5.0",
            "_model_name": "FloatProgressModel",
            "_view_count": null,
            "_view_module": "@jupyter-widgets/controls",
            "_view_module_version": "1.5.0",
            "_view_name": "ProgressView",
            "bar_style": "success",
            "description": "",
            "description_tooltip": null,
            "layout": "IPY_MODEL_59bfd4bf54e34deea92421e661c48d2f",
            "max": 15,
            "min": 0,
            "orientation": "horizontal",
            "style": "IPY_MODEL_608fff6cbf9a47f7986e210b8a67cb98",
            "value": 15
          }
        },
        "3a6532771136466f95ed2230905443e9": {
          "model_module": "@jupyter-widgets/controls",
          "model_module_version": "1.5.0",
          "model_name": "DescriptionStyleModel",
          "state": {
            "_model_module": "@jupyter-widgets/controls",
            "_model_module_version": "1.5.0",
            "_model_name": "DescriptionStyleModel",
            "_view_count": null,
            "_view_module": "@jupyter-widgets/base",
            "_view_module_version": "1.2.0",
            "_view_name": "StyleView",
            "description_width": ""
          }
        },
        "3f236cb2cec443d0ad9faf10f797e25b": {
          "model_module": "@jupyter-widgets/controls",
          "model_module_version": "1.5.0",
          "model_name": "FloatProgressModel",
          "state": {
            "_dom_classes": [],
            "_model_module": "@jupyter-widgets/controls",
            "_model_module_version": "1.5.0",
            "_model_name": "FloatProgressModel",
            "_view_count": null,
            "_view_module": "@jupyter-widgets/controls",
            "_view_module_version": "1.5.0",
            "_view_name": "ProgressView",
            "bar_style": "success",
            "description": "",
            "description_tooltip": null,
            "layout": "IPY_MODEL_fec5e6c2c1c443e68adea990c9461d2b",
            "max": 15,
            "min": 0,
            "orientation": "horizontal",
            "style": "IPY_MODEL_bd6da1c9079a4702a79cb39c9636e8f8",
            "value": 15
          }
        },
        "4021d6c257474194a5e00afe5573a712": {
          "model_module": "@jupyter-widgets/base",
          "model_module_version": "1.2.0",
          "model_name": "LayoutModel",
          "state": {
            "_model_module": "@jupyter-widgets/base",
            "_model_module_version": "1.2.0",
            "_model_name": "LayoutModel",
            "_view_count": null,
            "_view_module": "@jupyter-widgets/base",
            "_view_module_version": "1.2.0",
            "_view_name": "LayoutView",
            "align_content": null,
            "align_items": null,
            "align_self": null,
            "border": null,
            "bottom": null,
            "display": null,
            "flex": null,
            "flex_flow": null,
            "grid_area": null,
            "grid_auto_columns": null,
            "grid_auto_flow": null,
            "grid_auto_rows": null,
            "grid_column": null,
            "grid_gap": null,
            "grid_row": null,
            "grid_template_areas": null,
            "grid_template_columns": null,
            "grid_template_rows": null,
            "height": null,
            "justify_content": null,
            "justify_items": null,
            "left": null,
            "margin": null,
            "max_height": null,
            "max_width": null,
            "min_height": null,
            "min_width": null,
            "object_fit": null,
            "object_position": null,
            "order": null,
            "overflow": null,
            "overflow_x": null,
            "overflow_y": null,
            "padding": null,
            "right": null,
            "top": null,
            "visibility": null,
            "width": null
          }
        },
        "416efabec56c41ba96084476004fc43f": {
          "model_module": "@jupyter-widgets/controls",
          "model_module_version": "1.5.0",
          "model_name": "HTMLModel",
          "state": {
            "_dom_classes": [],
            "_model_module": "@jupyter-widgets/controls",
            "_model_module_version": "1.5.0",
            "_model_name": "HTMLModel",
            "_view_count": null,
            "_view_module": "@jupyter-widgets/controls",
            "_view_module_version": "1.5.0",
            "_view_name": "HTMLView",
            "description": "",
            "description_tooltip": null,
            "layout": "IPY_MODEL_19773de0df3f41aea26e98cf7985dc0d",
            "placeholder": "​",
            "style": "IPY_MODEL_5119ad2be6bc4738a4c9c1d97a8fa794",
            "value": "Transcribing: 100%"
          }
        },
        "425ba020d2944db5b0c9a2a11a03ebaf": {
          "model_module": "@jupyter-widgets/controls",
          "model_module_version": "1.5.0",
          "model_name": "DescriptionStyleModel",
          "state": {
            "_model_module": "@jupyter-widgets/controls",
            "_model_module_version": "1.5.0",
            "_model_name": "DescriptionStyleModel",
            "_view_count": null,
            "_view_module": "@jupyter-widgets/base",
            "_view_module_version": "1.2.0",
            "_view_name": "StyleView",
            "description_width": ""
          }
        },
        "4288c88b0722478b85668f0cd1d64d16": {
          "model_module": "@jupyter-widgets/controls",
          "model_module_version": "1.5.0",
          "model_name": "HTMLModel",
          "state": {
            "_dom_classes": [],
            "_model_module": "@jupyter-widgets/controls",
            "_model_module_version": "1.5.0",
            "_model_name": "HTMLModel",
            "_view_count": null,
            "_view_module": "@jupyter-widgets/controls",
            "_view_module_version": "1.5.0",
            "_view_name": "HTMLView",
            "description": "",
            "description_tooltip": null,
            "layout": "IPY_MODEL_4021d6c257474194a5e00afe5573a712",
            "placeholder": "​",
            "style": "IPY_MODEL_0a1ddd891a424b37adde83a88bdeb7f2",
            "value": " 15/15 [00:04&lt;00:00,  2.86it/s]"
          }
        },
        "46531a2eea4541b3be4f10a80f9b7bc7": {
          "model_module": "@jupyter-widgets/controls",
          "model_module_version": "1.5.0",
          "model_name": "HBoxModel",
          "state": {
            "_dom_classes": [],
            "_model_module": "@jupyter-widgets/controls",
            "_model_module_version": "1.5.0",
            "_model_name": "HBoxModel",
            "_view_count": null,
            "_view_module": "@jupyter-widgets/controls",
            "_view_module_version": "1.5.0",
            "_view_name": "HBoxView",
            "box_style": "",
            "children": [
              "IPY_MODEL_416efabec56c41ba96084476004fc43f",
              "IPY_MODEL_5845a8e7fe45493f8fc5ffa1e545a05f",
              "IPY_MODEL_25d7450cb2fd49c593d178282b7d4ebc"
            ],
            "layout": "IPY_MODEL_4ea6df5e18ee48dcb2b44782506a3fc3"
          }
        },
        "48568232107c4edbb5dc915cadbd6876": {
          "model_module": "@jupyter-widgets/controls",
          "model_module_version": "1.5.0",
          "model_name": "FloatProgressModel",
          "state": {
            "_dom_classes": [],
            "_model_module": "@jupyter-widgets/controls",
            "_model_module_version": "1.5.0",
            "_model_name": "FloatProgressModel",
            "_view_count": null,
            "_view_module": "@jupyter-widgets/controls",
            "_view_module_version": "1.5.0",
            "_view_name": "ProgressView",
            "bar_style": "success",
            "description": "",
            "description_tooltip": null,
            "layout": "IPY_MODEL_d097f5652272409f9fbb7a6838390d17",
            "max": 15,
            "min": 0,
            "orientation": "horizontal",
            "style": "IPY_MODEL_2f1e23afb6a04cd2a9950e4f731833e8",
            "value": 15
          }
        },
        "48cd9156af8b464587c66c49ae8aec55": {
          "model_module": "@jupyter-widgets/controls",
          "model_module_version": "1.5.0",
          "model_name": "FloatProgressModel",
          "state": {
            "_dom_classes": [],
            "_model_module": "@jupyter-widgets/controls",
            "_model_module_version": "1.5.0",
            "_model_name": "FloatProgressModel",
            "_view_count": null,
            "_view_module": "@jupyter-widgets/controls",
            "_view_module_version": "1.5.0",
            "_view_name": "ProgressView",
            "bar_style": "success",
            "description": "",
            "description_tooltip": null,
            "layout": "IPY_MODEL_27c8bbb23243403f95423d94547c97ca",
            "max": 15,
            "min": 0,
            "orientation": "horizontal",
            "style": "IPY_MODEL_2bd4aa4a5774444cbe27df8cd5d682ad",
            "value": 15
          }
        },
        "4959b45c75d94ae3a4311e60a93b18e3": {
          "model_module": "@jupyter-widgets/controls",
          "model_module_version": "1.5.0",
          "model_name": "HTMLModel",
          "state": {
            "_dom_classes": [],
            "_model_module": "@jupyter-widgets/controls",
            "_model_module_version": "1.5.0",
            "_model_name": "HTMLModel",
            "_view_count": null,
            "_view_module": "@jupyter-widgets/controls",
            "_view_module_version": "1.5.0",
            "_view_name": "HTMLView",
            "description": "",
            "description_tooltip": null,
            "layout": "IPY_MODEL_8db43ebd2cf741d5af549a64bf3082eb",
            "placeholder": "​",
            "style": "IPY_MODEL_26c0564c11ef4cf9834a4facf5974fe8",
            "value": "Transcribing: 100%"
          }
        },
        "4ea6df5e18ee48dcb2b44782506a3fc3": {
          "model_module": "@jupyter-widgets/base",
          "model_module_version": "1.2.0",
          "model_name": "LayoutModel",
          "state": {
            "_model_module": "@jupyter-widgets/base",
            "_model_module_version": "1.2.0",
            "_model_name": "LayoutModel",
            "_view_count": null,
            "_view_module": "@jupyter-widgets/base",
            "_view_module_version": "1.2.0",
            "_view_name": "LayoutView",
            "align_content": null,
            "align_items": null,
            "align_self": null,
            "border": null,
            "bottom": null,
            "display": null,
            "flex": null,
            "flex_flow": null,
            "grid_area": null,
            "grid_auto_columns": null,
            "grid_auto_flow": null,
            "grid_auto_rows": null,
            "grid_column": null,
            "grid_gap": null,
            "grid_row": null,
            "grid_template_areas": null,
            "grid_template_columns": null,
            "grid_template_rows": null,
            "height": null,
            "justify_content": null,
            "justify_items": null,
            "left": null,
            "margin": null,
            "max_height": null,
            "max_width": null,
            "min_height": null,
            "min_width": null,
            "object_fit": null,
            "object_position": null,
            "order": null,
            "overflow": null,
            "overflow_x": null,
            "overflow_y": null,
            "padding": null,
            "right": null,
            "top": null,
            "visibility": null,
            "width": null
          }
        },
        "5119ad2be6bc4738a4c9c1d97a8fa794": {
          "model_module": "@jupyter-widgets/controls",
          "model_module_version": "1.5.0",
          "model_name": "DescriptionStyleModel",
          "state": {
            "_model_module": "@jupyter-widgets/controls",
            "_model_module_version": "1.5.0",
            "_model_name": "DescriptionStyleModel",
            "_view_count": null,
            "_view_module": "@jupyter-widgets/base",
            "_view_module_version": "1.2.0",
            "_view_name": "StyleView",
            "description_width": ""
          }
        },
        "57cbdb0cd24347768b5d52d0bb5e93ee": {
          "model_module": "@jupyter-widgets/controls",
          "model_module_version": "1.5.0",
          "model_name": "HBoxModel",
          "state": {
            "_dom_classes": [],
            "_model_module": "@jupyter-widgets/controls",
            "_model_module_version": "1.5.0",
            "_model_name": "HBoxModel",
            "_view_count": null,
            "_view_module": "@jupyter-widgets/controls",
            "_view_module_version": "1.5.0",
            "_view_name": "HBoxView",
            "box_style": "",
            "children": [
              "IPY_MODEL_05ae3c443a0b4bbd889c2fbff28ec562",
              "IPY_MODEL_387d8750f41d45718f904d3a084a021a",
              "IPY_MODEL_1e22afe96baf4a749f1c2c0a8a8b6058"
            ],
            "layout": "IPY_MODEL_1e66eefb68c540a49b8f0784b46feee4"
          }
        },
        "5845a8e7fe45493f8fc5ffa1e545a05f": {
          "model_module": "@jupyter-widgets/controls",
          "model_module_version": "1.5.0",
          "model_name": "FloatProgressModel",
          "state": {
            "_dom_classes": [],
            "_model_module": "@jupyter-widgets/controls",
            "_model_module_version": "1.5.0",
            "_model_name": "FloatProgressModel",
            "_view_count": null,
            "_view_module": "@jupyter-widgets/controls",
            "_view_module_version": "1.5.0",
            "_view_name": "ProgressView",
            "bar_style": "success",
            "description": "",
            "description_tooltip": null,
            "layout": "IPY_MODEL_7a205cc7a7054179ac0116a61c65ddf9",
            "max": 15,
            "min": 0,
            "orientation": "horizontal",
            "style": "IPY_MODEL_23a74ab516e9463a9bf605bd5881a5c8",
            "value": 15
          }
        },
        "59bfd4bf54e34deea92421e661c48d2f": {
          "model_module": "@jupyter-widgets/base",
          "model_module_version": "1.2.0",
          "model_name": "LayoutModel",
          "state": {
            "_model_module": "@jupyter-widgets/base",
            "_model_module_version": "1.2.0",
            "_model_name": "LayoutModel",
            "_view_count": null,
            "_view_module": "@jupyter-widgets/base",
            "_view_module_version": "1.2.0",
            "_view_name": "LayoutView",
            "align_content": null,
            "align_items": null,
            "align_self": null,
            "border": null,
            "bottom": null,
            "display": null,
            "flex": null,
            "flex_flow": null,
            "grid_area": null,
            "grid_auto_columns": null,
            "grid_auto_flow": null,
            "grid_auto_rows": null,
            "grid_column": null,
            "grid_gap": null,
            "grid_row": null,
            "grid_template_areas": null,
            "grid_template_columns": null,
            "grid_template_rows": null,
            "height": null,
            "justify_content": null,
            "justify_items": null,
            "left": null,
            "margin": null,
            "max_height": null,
            "max_width": null,
            "min_height": null,
            "min_width": null,
            "object_fit": null,
            "object_position": null,
            "order": null,
            "overflow": null,
            "overflow_x": null,
            "overflow_y": null,
            "padding": null,
            "right": null,
            "top": null,
            "visibility": null,
            "width": null
          }
        },
        "5b7e2ec4ad934c75b48eb60a408e915d": {
          "model_module": "@jupyter-widgets/controls",
          "model_module_version": "1.5.0",
          "model_name": "DescriptionStyleModel",
          "state": {
            "_model_module": "@jupyter-widgets/controls",
            "_model_module_version": "1.5.0",
            "_model_name": "DescriptionStyleModel",
            "_view_count": null,
            "_view_module": "@jupyter-widgets/base",
            "_view_module_version": "1.2.0",
            "_view_name": "StyleView",
            "description_width": ""
          }
        },
        "5be70c32e22242bb8699a438bfdf5eec": {
          "model_module": "@jupyter-widgets/base",
          "model_module_version": "1.2.0",
          "model_name": "LayoutModel",
          "state": {
            "_model_module": "@jupyter-widgets/base",
            "_model_module_version": "1.2.0",
            "_model_name": "LayoutModel",
            "_view_count": null,
            "_view_module": "@jupyter-widgets/base",
            "_view_module_version": "1.2.0",
            "_view_name": "LayoutView",
            "align_content": null,
            "align_items": null,
            "align_self": null,
            "border": null,
            "bottom": null,
            "display": null,
            "flex": null,
            "flex_flow": null,
            "grid_area": null,
            "grid_auto_columns": null,
            "grid_auto_flow": null,
            "grid_auto_rows": null,
            "grid_column": null,
            "grid_gap": null,
            "grid_row": null,
            "grid_template_areas": null,
            "grid_template_columns": null,
            "grid_template_rows": null,
            "height": null,
            "justify_content": null,
            "justify_items": null,
            "left": null,
            "margin": null,
            "max_height": null,
            "max_width": null,
            "min_height": null,
            "min_width": null,
            "object_fit": null,
            "object_position": null,
            "order": null,
            "overflow": null,
            "overflow_x": null,
            "overflow_y": null,
            "padding": null,
            "right": null,
            "top": null,
            "visibility": null,
            "width": null
          }
        },
        "608fff6cbf9a47f7986e210b8a67cb98": {
          "model_module": "@jupyter-widgets/controls",
          "model_module_version": "1.5.0",
          "model_name": "ProgressStyleModel",
          "state": {
            "_model_module": "@jupyter-widgets/controls",
            "_model_module_version": "1.5.0",
            "_model_name": "ProgressStyleModel",
            "_view_count": null,
            "_view_module": "@jupyter-widgets/base",
            "_view_module_version": "1.2.0",
            "_view_name": "StyleView",
            "bar_color": null,
            "description_width": ""
          }
        },
        "71d4725673f84b108a1e3d4bb587708f": {
          "model_module": "@jupyter-widgets/base",
          "model_module_version": "1.2.0",
          "model_name": "LayoutModel",
          "state": {
            "_model_module": "@jupyter-widgets/base",
            "_model_module_version": "1.2.0",
            "_model_name": "LayoutModel",
            "_view_count": null,
            "_view_module": "@jupyter-widgets/base",
            "_view_module_version": "1.2.0",
            "_view_name": "LayoutView",
            "align_content": null,
            "align_items": null,
            "align_self": null,
            "border": null,
            "bottom": null,
            "display": null,
            "flex": null,
            "flex_flow": null,
            "grid_area": null,
            "grid_auto_columns": null,
            "grid_auto_flow": null,
            "grid_auto_rows": null,
            "grid_column": null,
            "grid_gap": null,
            "grid_row": null,
            "grid_template_areas": null,
            "grid_template_columns": null,
            "grid_template_rows": null,
            "height": null,
            "justify_content": null,
            "justify_items": null,
            "left": null,
            "margin": null,
            "max_height": null,
            "max_width": null,
            "min_height": null,
            "min_width": null,
            "object_fit": null,
            "object_position": null,
            "order": null,
            "overflow": null,
            "overflow_x": null,
            "overflow_y": null,
            "padding": null,
            "right": null,
            "top": null,
            "visibility": null,
            "width": null
          }
        },
        "77d7744d754a48c595be388527ae4e28": {
          "model_module": "@jupyter-widgets/controls",
          "model_module_version": "1.5.0",
          "model_name": "HTMLModel",
          "state": {
            "_dom_classes": [],
            "_model_module": "@jupyter-widgets/controls",
            "_model_module_version": "1.5.0",
            "_model_name": "HTMLModel",
            "_view_count": null,
            "_view_module": "@jupyter-widgets/controls",
            "_view_module_version": "1.5.0",
            "_view_name": "HTMLView",
            "description": "",
            "description_tooltip": null,
            "layout": "IPY_MODEL_a3bce21d02b4465b801e7ab441e71064",
            "placeholder": "​",
            "style": "IPY_MODEL_23bb31ed1a6e44e295591bc299c028e6",
            "value": "Transcribing: 100%"
          }
        },
        "7a205cc7a7054179ac0116a61c65ddf9": {
          "model_module": "@jupyter-widgets/base",
          "model_module_version": "1.2.0",
          "model_name": "LayoutModel",
          "state": {
            "_model_module": "@jupyter-widgets/base",
            "_model_module_version": "1.2.0",
            "_model_name": "LayoutModel",
            "_view_count": null,
            "_view_module": "@jupyter-widgets/base",
            "_view_module_version": "1.2.0",
            "_view_name": "LayoutView",
            "align_content": null,
            "align_items": null,
            "align_self": null,
            "border": null,
            "bottom": null,
            "display": null,
            "flex": null,
            "flex_flow": null,
            "grid_area": null,
            "grid_auto_columns": null,
            "grid_auto_flow": null,
            "grid_auto_rows": null,
            "grid_column": null,
            "grid_gap": null,
            "grid_row": null,
            "grid_template_areas": null,
            "grid_template_columns": null,
            "grid_template_rows": null,
            "height": null,
            "justify_content": null,
            "justify_items": null,
            "left": null,
            "margin": null,
            "max_height": null,
            "max_width": null,
            "min_height": null,
            "min_width": null,
            "object_fit": null,
            "object_position": null,
            "order": null,
            "overflow": null,
            "overflow_x": null,
            "overflow_y": null,
            "padding": null,
            "right": null,
            "top": null,
            "visibility": null,
            "width": null
          }
        },
        "7d68a0556fb94b41853aae20fa7aeb85": {
          "model_module": "@jupyter-widgets/controls",
          "model_module_version": "1.5.0",
          "model_name": "HTMLModel",
          "state": {
            "_dom_classes": [],
            "_model_module": "@jupyter-widgets/controls",
            "_model_module_version": "1.5.0",
            "_model_name": "HTMLModel",
            "_view_count": null,
            "_view_module": "@jupyter-widgets/controls",
            "_view_module_version": "1.5.0",
            "_view_name": "HTMLView",
            "description": "",
            "description_tooltip": null,
            "layout": "IPY_MODEL_0f64c25236944bcabefb97429f79ac7c",
            "placeholder": "​",
            "style": "IPY_MODEL_3362ec96ef754e17bb68dd9fbb38e8bc",
            "value": "Transcribing: 100%"
          }
        },
        "80a6a230c88541daa1bc3af3872a9d04": {
          "model_module": "@jupyter-widgets/base",
          "model_module_version": "1.2.0",
          "model_name": "LayoutModel",
          "state": {
            "_model_module": "@jupyter-widgets/base",
            "_model_module_version": "1.2.0",
            "_model_name": "LayoutModel",
            "_view_count": null,
            "_view_module": "@jupyter-widgets/base",
            "_view_module_version": "1.2.0",
            "_view_name": "LayoutView",
            "align_content": null,
            "align_items": null,
            "align_self": null,
            "border": null,
            "bottom": null,
            "display": null,
            "flex": null,
            "flex_flow": null,
            "grid_area": null,
            "grid_auto_columns": null,
            "grid_auto_flow": null,
            "grid_auto_rows": null,
            "grid_column": null,
            "grid_gap": null,
            "grid_row": null,
            "grid_template_areas": null,
            "grid_template_columns": null,
            "grid_template_rows": null,
            "height": null,
            "justify_content": null,
            "justify_items": null,
            "left": null,
            "margin": null,
            "max_height": null,
            "max_width": null,
            "min_height": null,
            "min_width": null,
            "object_fit": null,
            "object_position": null,
            "order": null,
            "overflow": null,
            "overflow_x": null,
            "overflow_y": null,
            "padding": null,
            "right": null,
            "top": null,
            "visibility": null,
            "width": null
          }
        },
        "8db43ebd2cf741d5af549a64bf3082eb": {
          "model_module": "@jupyter-widgets/base",
          "model_module_version": "1.2.0",
          "model_name": "LayoutModel",
          "state": {
            "_model_module": "@jupyter-widgets/base",
            "_model_module_version": "1.2.0",
            "_model_name": "LayoutModel",
            "_view_count": null,
            "_view_module": "@jupyter-widgets/base",
            "_view_module_version": "1.2.0",
            "_view_name": "LayoutView",
            "align_content": null,
            "align_items": null,
            "align_self": null,
            "border": null,
            "bottom": null,
            "display": null,
            "flex": null,
            "flex_flow": null,
            "grid_area": null,
            "grid_auto_columns": null,
            "grid_auto_flow": null,
            "grid_auto_rows": null,
            "grid_column": null,
            "grid_gap": null,
            "grid_row": null,
            "grid_template_areas": null,
            "grid_template_columns": null,
            "grid_template_rows": null,
            "height": null,
            "justify_content": null,
            "justify_items": null,
            "left": null,
            "margin": null,
            "max_height": null,
            "max_width": null,
            "min_height": null,
            "min_width": null,
            "object_fit": null,
            "object_position": null,
            "order": null,
            "overflow": null,
            "overflow_x": null,
            "overflow_y": null,
            "padding": null,
            "right": null,
            "top": null,
            "visibility": null,
            "width": null
          }
        },
        "90ad680e9d1e449387bf56c868d2a181": {
          "model_module": "@jupyter-widgets/controls",
          "model_module_version": "1.5.0",
          "model_name": "HBoxModel",
          "state": {
            "_dom_classes": [],
            "_model_module": "@jupyter-widgets/controls",
            "_model_module_version": "1.5.0",
            "_model_name": "HBoxModel",
            "_view_count": null,
            "_view_module": "@jupyter-widgets/controls",
            "_view_module_version": "1.5.0",
            "_view_name": "HBoxView",
            "box_style": "",
            "children": [
              "IPY_MODEL_4959b45c75d94ae3a4311e60a93b18e3",
              "IPY_MODEL_48568232107c4edbb5dc915cadbd6876",
              "IPY_MODEL_4288c88b0722478b85668f0cd1d64d16"
            ],
            "layout": "IPY_MODEL_051962adf44f4e0fad009b9324ce148a"
          }
        },
        "98c1d0348ad94e389529cfd0a705c7a4": {
          "model_module": "@jupyter-widgets/controls",
          "model_module_version": "1.5.0",
          "model_name": "ProgressStyleModel",
          "state": {
            "_model_module": "@jupyter-widgets/controls",
            "_model_module_version": "1.5.0",
            "_model_name": "ProgressStyleModel",
            "_view_count": null,
            "_view_module": "@jupyter-widgets/base",
            "_view_module_version": "1.2.0",
            "_view_name": "StyleView",
            "bar_color": null,
            "description_width": ""
          }
        },
        "9da3e76d9ebd45048d331eba0d48e229": {
          "model_module": "@jupyter-widgets/base",
          "model_module_version": "1.2.0",
          "model_name": "LayoutModel",
          "state": {
            "_model_module": "@jupyter-widgets/base",
            "_model_module_version": "1.2.0",
            "_model_name": "LayoutModel",
            "_view_count": null,
            "_view_module": "@jupyter-widgets/base",
            "_view_module_version": "1.2.0",
            "_view_name": "LayoutView",
            "align_content": null,
            "align_items": null,
            "align_self": null,
            "border": null,
            "bottom": null,
            "display": null,
            "flex": null,
            "flex_flow": null,
            "grid_area": null,
            "grid_auto_columns": null,
            "grid_auto_flow": null,
            "grid_auto_rows": null,
            "grid_column": null,
            "grid_gap": null,
            "grid_row": null,
            "grid_template_areas": null,
            "grid_template_columns": null,
            "grid_template_rows": null,
            "height": null,
            "justify_content": null,
            "justify_items": null,
            "left": null,
            "margin": null,
            "max_height": null,
            "max_width": null,
            "min_height": null,
            "min_width": null,
            "object_fit": null,
            "object_position": null,
            "order": null,
            "overflow": null,
            "overflow_x": null,
            "overflow_y": null,
            "padding": null,
            "right": null,
            "top": null,
            "visibility": null,
            "width": null
          }
        },
        "9f5b4def58464e28ba7b21248b5bc265": {
          "model_module": "@jupyter-widgets/base",
          "model_module_version": "1.2.0",
          "model_name": "LayoutModel",
          "state": {
            "_model_module": "@jupyter-widgets/base",
            "_model_module_version": "1.2.0",
            "_model_name": "LayoutModel",
            "_view_count": null,
            "_view_module": "@jupyter-widgets/base",
            "_view_module_version": "1.2.0",
            "_view_name": "LayoutView",
            "align_content": null,
            "align_items": null,
            "align_self": null,
            "border": null,
            "bottom": null,
            "display": null,
            "flex": null,
            "flex_flow": null,
            "grid_area": null,
            "grid_auto_columns": null,
            "grid_auto_flow": null,
            "grid_auto_rows": null,
            "grid_column": null,
            "grid_gap": null,
            "grid_row": null,
            "grid_template_areas": null,
            "grid_template_columns": null,
            "grid_template_rows": null,
            "height": null,
            "justify_content": null,
            "justify_items": null,
            "left": null,
            "margin": null,
            "max_height": null,
            "max_width": null,
            "min_height": null,
            "min_width": null,
            "object_fit": null,
            "object_position": null,
            "order": null,
            "overflow": null,
            "overflow_x": null,
            "overflow_y": null,
            "padding": null,
            "right": null,
            "top": null,
            "visibility": null,
            "width": null
          }
        },
        "a28b252826a14f1c8f415d093525b51a": {
          "model_module": "@jupyter-widgets/base",
          "model_module_version": "1.2.0",
          "model_name": "LayoutModel",
          "state": {
            "_model_module": "@jupyter-widgets/base",
            "_model_module_version": "1.2.0",
            "_model_name": "LayoutModel",
            "_view_count": null,
            "_view_module": "@jupyter-widgets/base",
            "_view_module_version": "1.2.0",
            "_view_name": "LayoutView",
            "align_content": null,
            "align_items": null,
            "align_self": null,
            "border": null,
            "bottom": null,
            "display": null,
            "flex": null,
            "flex_flow": null,
            "grid_area": null,
            "grid_auto_columns": null,
            "grid_auto_flow": null,
            "grid_auto_rows": null,
            "grid_column": null,
            "grid_gap": null,
            "grid_row": null,
            "grid_template_areas": null,
            "grid_template_columns": null,
            "grid_template_rows": null,
            "height": null,
            "justify_content": null,
            "justify_items": null,
            "left": null,
            "margin": null,
            "max_height": null,
            "max_width": null,
            "min_height": null,
            "min_width": null,
            "object_fit": null,
            "object_position": null,
            "order": null,
            "overflow": null,
            "overflow_x": null,
            "overflow_y": null,
            "padding": null,
            "right": null,
            "top": null,
            "visibility": null,
            "width": null
          }
        },
        "a395e37b1958437b98cedda5e93a5307": {
          "model_module": "@jupyter-widgets/controls",
          "model_module_version": "1.5.0",
          "model_name": "HBoxModel",
          "state": {
            "_dom_classes": [],
            "_model_module": "@jupyter-widgets/controls",
            "_model_module_version": "1.5.0",
            "_model_name": "HBoxModel",
            "_view_count": null,
            "_view_module": "@jupyter-widgets/controls",
            "_view_module_version": "1.5.0",
            "_view_name": "HBoxView",
            "box_style": "",
            "children": [
              "IPY_MODEL_d4deafbb6ba248e5ba4b402ce15172f1",
              "IPY_MODEL_3f236cb2cec443d0ad9faf10f797e25b",
              "IPY_MODEL_2b7eba7c6eba40b5be340e39d311be2d"
            ],
            "layout": "IPY_MODEL_fa40a0c961144cf1a4ea9c1e35ef979e"
          }
        },
        "a3bce21d02b4465b801e7ab441e71064": {
          "model_module": "@jupyter-widgets/base",
          "model_module_version": "1.2.0",
          "model_name": "LayoutModel",
          "state": {
            "_model_module": "@jupyter-widgets/base",
            "_model_module_version": "1.2.0",
            "_model_name": "LayoutModel",
            "_view_count": null,
            "_view_module": "@jupyter-widgets/base",
            "_view_module_version": "1.2.0",
            "_view_name": "LayoutView",
            "align_content": null,
            "align_items": null,
            "align_self": null,
            "border": null,
            "bottom": null,
            "display": null,
            "flex": null,
            "flex_flow": null,
            "grid_area": null,
            "grid_auto_columns": null,
            "grid_auto_flow": null,
            "grid_auto_rows": null,
            "grid_column": null,
            "grid_gap": null,
            "grid_row": null,
            "grid_template_areas": null,
            "grid_template_columns": null,
            "grid_template_rows": null,
            "height": null,
            "justify_content": null,
            "justify_items": null,
            "left": null,
            "margin": null,
            "max_height": null,
            "max_width": null,
            "min_height": null,
            "min_width": null,
            "object_fit": null,
            "object_position": null,
            "order": null,
            "overflow": null,
            "overflow_x": null,
            "overflow_y": null,
            "padding": null,
            "right": null,
            "top": null,
            "visibility": null,
            "width": null
          }
        },
        "b0071dd7e7314a9d852649117869c17c": {
          "model_module": "@jupyter-widgets/controls",
          "model_module_version": "1.5.0",
          "model_name": "HBoxModel",
          "state": {
            "_dom_classes": [],
            "_model_module": "@jupyter-widgets/controls",
            "_model_module_version": "1.5.0",
            "_model_name": "HBoxModel",
            "_view_count": null,
            "_view_module": "@jupyter-widgets/controls",
            "_view_module_version": "1.5.0",
            "_view_name": "HBoxView",
            "box_style": "",
            "children": [
              "IPY_MODEL_77d7744d754a48c595be388527ae4e28",
              "IPY_MODEL_48cd9156af8b464587c66c49ae8aec55",
              "IPY_MODEL_bf58f345653b4c1092c7720e2852cd7e"
            ],
            "layout": "IPY_MODEL_04558c0918174984b4598265082ad1f4"
          }
        },
        "bafa12f1b51540afb732ff42372e6d20": {
          "model_module": "@jupyter-widgets/controls",
          "model_module_version": "1.5.0",
          "model_name": "DescriptionStyleModel",
          "state": {
            "_model_module": "@jupyter-widgets/controls",
            "_model_module_version": "1.5.0",
            "_model_name": "DescriptionStyleModel",
            "_view_count": null,
            "_view_module": "@jupyter-widgets/base",
            "_view_module_version": "1.2.0",
            "_view_name": "StyleView",
            "description_width": ""
          }
        },
        "bd6da1c9079a4702a79cb39c9636e8f8": {
          "model_module": "@jupyter-widgets/controls",
          "model_module_version": "1.5.0",
          "model_name": "ProgressStyleModel",
          "state": {
            "_model_module": "@jupyter-widgets/controls",
            "_model_module_version": "1.5.0",
            "_model_name": "ProgressStyleModel",
            "_view_count": null,
            "_view_module": "@jupyter-widgets/base",
            "_view_module_version": "1.2.0",
            "_view_name": "StyleView",
            "bar_color": null,
            "description_width": ""
          }
        },
        "bf58f345653b4c1092c7720e2852cd7e": {
          "model_module": "@jupyter-widgets/controls",
          "model_module_version": "1.5.0",
          "model_name": "HTMLModel",
          "state": {
            "_dom_classes": [],
            "_model_module": "@jupyter-widgets/controls",
            "_model_module_version": "1.5.0",
            "_model_name": "HTMLModel",
            "_view_count": null,
            "_view_module": "@jupyter-widgets/controls",
            "_view_module_version": "1.5.0",
            "_view_name": "HTMLView",
            "description": "",
            "description_tooltip": null,
            "layout": "IPY_MODEL_80a6a230c88541daa1bc3af3872a9d04",
            "placeholder": "​",
            "style": "IPY_MODEL_d6a7822bfd904776b8dd17eb1063dee4",
            "value": " 15/15 [00:19&lt;00:00,  4.17it/s]"
          }
        },
        "d097f5652272409f9fbb7a6838390d17": {
          "model_module": "@jupyter-widgets/base",
          "model_module_version": "1.2.0",
          "model_name": "LayoutModel",
          "state": {
            "_model_module": "@jupyter-widgets/base",
            "_model_module_version": "1.2.0",
            "_model_name": "LayoutModel",
            "_view_count": null,
            "_view_module": "@jupyter-widgets/base",
            "_view_module_version": "1.2.0",
            "_view_name": "LayoutView",
            "align_content": null,
            "align_items": null,
            "align_self": null,
            "border": null,
            "bottom": null,
            "display": null,
            "flex": null,
            "flex_flow": null,
            "grid_area": null,
            "grid_auto_columns": null,
            "grid_auto_flow": null,
            "grid_auto_rows": null,
            "grid_column": null,
            "grid_gap": null,
            "grid_row": null,
            "grid_template_areas": null,
            "grid_template_columns": null,
            "grid_template_rows": null,
            "height": null,
            "justify_content": null,
            "justify_items": null,
            "left": null,
            "margin": null,
            "max_height": null,
            "max_width": null,
            "min_height": null,
            "min_width": null,
            "object_fit": null,
            "object_position": null,
            "order": null,
            "overflow": null,
            "overflow_x": null,
            "overflow_y": null,
            "padding": null,
            "right": null,
            "top": null,
            "visibility": null,
            "width": null
          }
        },
        "d37392d09cb5449eb2d917a4f79e4fce": {
          "model_module": "@jupyter-widgets/controls",
          "model_module_version": "1.5.0",
          "model_name": "FloatProgressModel",
          "state": {
            "_dom_classes": [],
            "_model_module": "@jupyter-widgets/controls",
            "_model_module_version": "1.5.0",
            "_model_name": "FloatProgressModel",
            "_view_count": null,
            "_view_module": "@jupyter-widgets/controls",
            "_view_module_version": "1.5.0",
            "_view_name": "ProgressView",
            "bar_style": "success",
            "description": "",
            "description_tooltip": null,
            "layout": "IPY_MODEL_e0901ecc3c514942852f66196a87a0c5",
            "max": 15,
            "min": 0,
            "orientation": "horizontal",
            "style": "IPY_MODEL_98c1d0348ad94e389529cfd0a705c7a4",
            "value": 15
          }
        },
        "d45e959181d74630b7a93ef49ec37305": {
          "model_module": "@jupyter-widgets/controls",
          "model_module_version": "1.5.0",
          "model_name": "DescriptionStyleModel",
          "state": {
            "_model_module": "@jupyter-widgets/controls",
            "_model_module_version": "1.5.0",
            "_model_name": "DescriptionStyleModel",
            "_view_count": null,
            "_view_module": "@jupyter-widgets/base",
            "_view_module_version": "1.2.0",
            "_view_name": "StyleView",
            "description_width": ""
          }
        },
        "d479442db2584a7a8431cc39e1079ae7": {
          "model_module": "@jupyter-widgets/base",
          "model_module_version": "1.2.0",
          "model_name": "LayoutModel",
          "state": {
            "_model_module": "@jupyter-widgets/base",
            "_model_module_version": "1.2.0",
            "_model_name": "LayoutModel",
            "_view_count": null,
            "_view_module": "@jupyter-widgets/base",
            "_view_module_version": "1.2.0",
            "_view_name": "LayoutView",
            "align_content": null,
            "align_items": null,
            "align_self": null,
            "border": null,
            "bottom": null,
            "display": null,
            "flex": null,
            "flex_flow": null,
            "grid_area": null,
            "grid_auto_columns": null,
            "grid_auto_flow": null,
            "grid_auto_rows": null,
            "grid_column": null,
            "grid_gap": null,
            "grid_row": null,
            "grid_template_areas": null,
            "grid_template_columns": null,
            "grid_template_rows": null,
            "height": null,
            "justify_content": null,
            "justify_items": null,
            "left": null,
            "margin": null,
            "max_height": null,
            "max_width": null,
            "min_height": null,
            "min_width": null,
            "object_fit": null,
            "object_position": null,
            "order": null,
            "overflow": null,
            "overflow_x": null,
            "overflow_y": null,
            "padding": null,
            "right": null,
            "top": null,
            "visibility": null,
            "width": null
          }
        },
        "d4deafbb6ba248e5ba4b402ce15172f1": {
          "model_module": "@jupyter-widgets/controls",
          "model_module_version": "1.5.0",
          "model_name": "HTMLModel",
          "state": {
            "_dom_classes": [],
            "_model_module": "@jupyter-widgets/controls",
            "_model_module_version": "1.5.0",
            "_model_name": "HTMLModel",
            "_view_count": null,
            "_view_module": "@jupyter-widgets/controls",
            "_view_module_version": "1.5.0",
            "_view_name": "HTMLView",
            "description": "",
            "description_tooltip": null,
            "layout": "IPY_MODEL_9da3e76d9ebd45048d331eba0d48e229",
            "placeholder": "​",
            "style": "IPY_MODEL_d45e959181d74630b7a93ef49ec37305",
            "value": "Transcribing: 100%"
          }
        },
        "d6a7822bfd904776b8dd17eb1063dee4": {
          "model_module": "@jupyter-widgets/controls",
          "model_module_version": "1.5.0",
          "model_name": "DescriptionStyleModel",
          "state": {
            "_model_module": "@jupyter-widgets/controls",
            "_model_module_version": "1.5.0",
            "_model_name": "DescriptionStyleModel",
            "_view_count": null,
            "_view_module": "@jupyter-widgets/base",
            "_view_module_version": "1.2.0",
            "_view_name": "StyleView",
            "description_width": ""
          }
        },
        "e0901ecc3c514942852f66196a87a0c5": {
          "model_module": "@jupyter-widgets/base",
          "model_module_version": "1.2.0",
          "model_name": "LayoutModel",
          "state": {
            "_model_module": "@jupyter-widgets/base",
            "_model_module_version": "1.2.0",
            "_model_name": "LayoutModel",
            "_view_count": null,
            "_view_module": "@jupyter-widgets/base",
            "_view_module_version": "1.2.0",
            "_view_name": "LayoutView",
            "align_content": null,
            "align_items": null,
            "align_self": null,
            "border": null,
            "bottom": null,
            "display": null,
            "flex": null,
            "flex_flow": null,
            "grid_area": null,
            "grid_auto_columns": null,
            "grid_auto_flow": null,
            "grid_auto_rows": null,
            "grid_column": null,
            "grid_gap": null,
            "grid_row": null,
            "grid_template_areas": null,
            "grid_template_columns": null,
            "grid_template_rows": null,
            "height": null,
            "justify_content": null,
            "justify_items": null,
            "left": null,
            "margin": null,
            "max_height": null,
            "max_width": null,
            "min_height": null,
            "min_width": null,
            "object_fit": null,
            "object_position": null,
            "order": null,
            "overflow": null,
            "overflow_x": null,
            "overflow_y": null,
            "padding": null,
            "right": null,
            "top": null,
            "visibility": null,
            "width": null
          }
        },
        "e8d1c6c4f7814ac9a2210df7c78b55bf": {
          "model_module": "@jupyter-widgets/controls",
          "model_module_version": "1.5.0",
          "model_name": "DescriptionStyleModel",
          "state": {
            "_model_module": "@jupyter-widgets/controls",
            "_model_module_version": "1.5.0",
            "_model_name": "DescriptionStyleModel",
            "_view_count": null,
            "_view_module": "@jupyter-widgets/base",
            "_view_module_version": "1.2.0",
            "_view_name": "StyleView",
            "description_width": ""
          }
        },
        "f127bdf6cdcf4ee9a11fb1063e5f09f8": {
          "model_module": "@jupyter-widgets/base",
          "model_module_version": "1.2.0",
          "model_name": "LayoutModel",
          "state": {
            "_model_module": "@jupyter-widgets/base",
            "_model_module_version": "1.2.0",
            "_model_name": "LayoutModel",
            "_view_count": null,
            "_view_module": "@jupyter-widgets/base",
            "_view_module_version": "1.2.0",
            "_view_name": "LayoutView",
            "align_content": null,
            "align_items": null,
            "align_self": null,
            "border": null,
            "bottom": null,
            "display": null,
            "flex": null,
            "flex_flow": null,
            "grid_area": null,
            "grid_auto_columns": null,
            "grid_auto_flow": null,
            "grid_auto_rows": null,
            "grid_column": null,
            "grid_gap": null,
            "grid_row": null,
            "grid_template_areas": null,
            "grid_template_columns": null,
            "grid_template_rows": null,
            "height": null,
            "justify_content": null,
            "justify_items": null,
            "left": null,
            "margin": null,
            "max_height": null,
            "max_width": null,
            "min_height": null,
            "min_width": null,
            "object_fit": null,
            "object_position": null,
            "order": null,
            "overflow": null,
            "overflow_x": null,
            "overflow_y": null,
            "padding": null,
            "right": null,
            "top": null,
            "visibility": null,
            "width": null
          }
        },
        "fa40a0c961144cf1a4ea9c1e35ef979e": {
          "model_module": "@jupyter-widgets/base",
          "model_module_version": "1.2.0",
          "model_name": "LayoutModel",
          "state": {
            "_model_module": "@jupyter-widgets/base",
            "_model_module_version": "1.2.0",
            "_model_name": "LayoutModel",
            "_view_count": null,
            "_view_module": "@jupyter-widgets/base",
            "_view_module_version": "1.2.0",
            "_view_name": "LayoutView",
            "align_content": null,
            "align_items": null,
            "align_self": null,
            "border": null,
            "bottom": null,
            "display": null,
            "flex": null,
            "flex_flow": null,
            "grid_area": null,
            "grid_auto_columns": null,
            "grid_auto_flow": null,
            "grid_auto_rows": null,
            "grid_column": null,
            "grid_gap": null,
            "grid_row": null,
            "grid_template_areas": null,
            "grid_template_columns": null,
            "grid_template_rows": null,
            "height": null,
            "justify_content": null,
            "justify_items": null,
            "left": null,
            "margin": null,
            "max_height": null,
            "max_width": null,
            "min_height": null,
            "min_width": null,
            "object_fit": null,
            "object_position": null,
            "order": null,
            "overflow": null,
            "overflow_x": null,
            "overflow_y": null,
            "padding": null,
            "right": null,
            "top": null,
            "visibility": null,
            "width": null
          }
        },
        "fec5e6c2c1c443e68adea990c9461d2b": {
          "model_module": "@jupyter-widgets/base",
          "model_module_version": "1.2.0",
          "model_name": "LayoutModel",
          "state": {
            "_model_module": "@jupyter-widgets/base",
            "_model_module_version": "1.2.0",
            "_model_name": "LayoutModel",
            "_view_count": null,
            "_view_module": "@jupyter-widgets/base",
            "_view_module_version": "1.2.0",
            "_view_name": "LayoutView",
            "align_content": null,
            "align_items": null,
            "align_self": null,
            "border": null,
            "bottom": null,
            "display": null,
            "flex": null,
            "flex_flow": null,
            "grid_area": null,
            "grid_auto_columns": null,
            "grid_auto_flow": null,
            "grid_auto_rows": null,
            "grid_column": null,
            "grid_gap": null,
            "grid_row": null,
            "grid_template_areas": null,
            "grid_template_columns": null,
            "grid_template_rows": null,
            "height": null,
            "justify_content": null,
            "justify_items": null,
            "left": null,
            "margin": null,
            "max_height": null,
            "max_width": null,
            "min_height": null,
            "min_width": null,
            "object_fit": null,
            "object_position": null,
            "order": null,
            "overflow": null,
            "overflow_x": null,
            "overflow_y": null,
            "padding": null,
            "right": null,
            "top": null,
            "visibility": null,
            "width": null
          }
        }
      }
    }
  },
  "nbformat": 4,
  "nbformat_minor": 0
}
