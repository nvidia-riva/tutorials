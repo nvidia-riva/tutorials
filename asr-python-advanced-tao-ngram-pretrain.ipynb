{
 "cells": [
  {
   "cell_type": "markdown",
   "metadata": {},
   "source": [
    "<img src=\"http://developer.download.nvidia.com/compute/machine-learning/frameworks/nvidia_logo.png\" style=\"width: 90px; float: right;\">\n",
    "\n",
    "# How to pretrain a Riva ASR Language Modeling (n-gram) with TAO Toolkit\n",
    "This tutorial walks you through the pretraining of Riva ASR language modeling (n-gram) with Train Adapt Optimize (TAO) Toolkit."
   ]
  },
  {
   "cell_type": "markdown",
   "metadata": {},
   "source": [
    "## NVIDIA Riva Overview\n",
    "\n",
    "NVIDIA Riva is a GPU-accelerated SDK for building speech AI applications that are customized for your use case and deliver real-time performance. <br/>\n",
    "Riva offers a rich set of speech and natural language understanding services such as:\n",
    "\n",
    "- Automated speech recognition (ASR)\n",
    "- Text-to-Speech synthesis (TTS)\n",
    "- A collection of natural language processing (NLP) services, such as named entity recognition (NER), punctuation, and intent classification.\n",
    "\n",
    "In this tutorial, we will pretrain Riva ASR language modeling (n-gram) with TAO Toolkit. <br> \n",
    "To understand the basics of Riva ASR APIs, refer to [Getting started with Riva ASR in Python](https://github.com/nvidia-riva/tutorials/blob/dev/22.04/asr-python-basics.ipynb). <br>\n",
    "\n",
    "For more information about Riva, refer to the [Riva developer documentation](https://developer.nvidia.com/riva)."
   ]
  },
  {
   "cell_type": "markdown",
   "metadata": {},
   "source": [
    "## TAO Toolkit\n",
    "Train Adapt Optimize (TAO) Toolkit is a simple and easy-to-use Python based AI toolkit for taking purpose-built AI models and customizing them with users' own data. Developers, researchers, and software partners building intelligent vision AI applications and services can bring their own data to fine-tune pre-trained models instead of going through the hassle of training from scratch."
   ]
  },
  {
   "cell_type": "markdown",
   "metadata": {},
   "source": [
    "![Train Adapt Optimize (TAO) Toolkit](https://developer.nvidia.com/sites/default/files/akamai/embedded-transfer-learning-toolkit-software-stack-1200x670px.png)"
   ]
  },
  {
   "cell_type": "markdown",
   "metadata": {},
   "source": [
    "Transfer learning extracts learned features from an existing neural network into a new one. Transfer learning is often used when creating a large training dataset is not feasible. The goal of this toolkit is to reduce that 80 hour workload to an 8 hour workload, which can enable data scientists to have considerably more train-test iterations in the same time frame.\n",
    "\n",
    "Let's see this in action with a use case for Automatic Speech Recognition Language Modeling!"
   ]
  },
  {
   "cell_type": "markdown",
   "metadata": {},
   "source": [
    "<a id='isc-task-description'></a>\n",
    "## Language Modeling\n",
    "\n",
    "### Task Description\n",
    "\n",
    "Language modeling returns a probability distribution over a sequence of words. Besides assigning a probability to a sequence of words, the language models also assign a probability for the likelihood of a given word (or a sequence of words) that follows a sequence of words. <br>\n",
    "\n",
    "> The sentence:  **all of a sudden I notice three guys standing on the sidewalk**\n",
    "> would be scored higher than \n",
    "> the sentence: **on guys all I of notice sidewalk three a sudden standing the** by the language model. <br>\n",
    "\n",
    "A language model trained on large corpus can significantly improve the accuracy of an ASR system as suggested in recent research."
   ]
  },
  {
   "cell_type": "markdown",
   "metadata": {},
   "source": [
    "### N-gram Language Model\n",
    "There are primarily two types of language models:\n",
    "\n",
    "- **N-gram language models**: These models use frequency of n-grams to learn the probability distribution over words. Two benefits of N-gram language models are simplicity and scalability – with a larger `n`, a model can store more context with a well-understood space–time tradeoff, enabling small experiments to scale up efficiently.\n",
    "- **Neural language models**: These models use different kinds of neural networks to model the probability distribution over words, and have surpassed the N-gram language models in the ability to model language, but are generally slower to evaluate.\n",
    "\n",
    "In this tutorial, we will show how to train, evaluate, and optionally fine-tune an [N-gram language model](https://web.stanford.edu/~jurafsky/slp3/3.pdf) leveraging TAO Toolkit."
   ]
  },
  {
   "cell_type": "markdown",
   "metadata": {},
   "source": [
    "---\n",
    "## Let's Dig in: Riva Language Modeling using TAO"
   ]
  },
  {
   "cell_type": "markdown",
   "metadata": {},
   "source": [
  "### Installing and setting up TAO\n",
    "Install TAO Toolkit inside a Python virtual environment. We recommend performing this step first and then launching the tutorial from the virtual environment.\n",
    "\n",
    "It's a simple `pip` install."
   ]
  },
  {
   "cell_type": "code",
   "execution_count": null,
   "metadata": {},
   "outputs": [],
   "source": [
    "! pip install nvidia-pyindex\n",
    "! pip install nvidia-tao"
   ]
  },
  {
   "cell_type": "markdown",
   "metadata": {},
   "source": [
    "To view the Docker image versions and the tasks that TAO can perform, use the `tao info` command."
   ]
  },
  {
   "cell_type": "code",
   "execution_count": null,
   "metadata": {},
   "outputs": [],
   "source": [
    "!tao info --verbose"
   ]
  },
  {
   "cell_type": "markdown",
   "metadata": {},
   "source": [
    "In addition to installing the TAO Toolkit package, ensure you meet the following software requirements:\n",
    "\n",
    "1. Python 3.6.9\n",
    "2. `docker-ce` > 19.03.5\n",
    "3. `docker-API` 1.40\n",
    "4. `nvidia-container-toolkit` > 1.3.0-1\n",
    "5. `nvidia-container-runtime` > 3.4.0-1\n",
    "6. `nvidia-docker2` > 2.5.0-1\n",
    "7. `nvidia-driver` >= 455.23"
   ]
  },
  {
   "cell_type": "markdown",
   "metadata": {},
   "source": [
    "Check to see if the GPU device(s) is visible."
   ]
  },
  {
   "cell_type": "markdown",
   "metadata": {},
   "source": [
    "---\n",
    "<a id='isc-prepare-data'></a>\n",
    "### Preparing the dataset\n",
    "#### Librispeech LM Normalized dataset\n",
    "For this tutorial, we use the normalized version of the LibriSpeech LM dataset to train our N-gram language model. The normalized version of the LibriSpeech LM dataset is available [here](https://www.openslr.org/11/).\n",
    "\n",
    "#### LibriSpeech dev-clean dataset\n",
    "For this tutorial, we also use the clean version of the LibriSpeech development set to evaluate our N-gram language model. The clean version of the LibriSpeech development set is available [here](https://www.openslr.org/12/)."
   ]
  },
  {
   "cell_type": "markdown",
   "metadata": {},
   "source": [
    "### Downloading the dataset\n",
    "#### LibriSpeech LM Normalized dataset\n",
    "The training data is publicly available [here](https://www.openslr.org/resources/11/librispeech-lm-corpus.tgz) and can be downloaded directly."
   ]
  },
  {
   "cell_type": "code",
   "execution_count": null,
   "metadata": {},
   "outputs": [],
   "source": [
    "import os\n",
    "# IMPORTANT NOTE: Set the path to a folder where you want your data and results to be saved.\n",
    "# TODO\n",
    "DATA_DOWNLOAD_DIR = \"<YOUR_PATH_TO_DATA_DIR>\"\n",
    "assert os.path.exists(DATA_DOWNLOAD_DIR), \"Provided DATA_DOWNLOAD_DIR does not exist.\""
   ]
  },
  {
   "cell_type": "code",
   "execution_count": null,
   "metadata": {},
   "outputs": [],
   "source": [
    "# NOTE: Ensure that wget and unzip utilities are available. If not, install them.\n",
    "!wget 'https://www.openslr.org/resources/11/librispeech-lm-norm.txt.gz' -P $DATA_DOWNLOAD_DIR\n",
    "\n",
    "# Extract the data\n",
    "!gzip -dk $DATA_DOWNLOAD_DIR/librispeech-lm-norm.txt.gz"
   ]
  },
  {
   "cell_type": "markdown",
   "metadata": {},
   "source": [
    "#### LibriSpeech dev-clean dataset\n",
    "The evaluation data is publicly available [here](https://www.openslr.org/resources/12/dev-clean.tar.gz) and can be downloaded directly. We provided a Python script to download and preprocess the dataset for you."
   ]
  },
  {
   "cell_type": "code",
   "execution_count": null,
   "metadata": {},
   "outputs": [],
   "source": [
    "\"\"\"\n",
    "Scripts to download and preprocess LibriSpeech dev-clean\n",
    "\"\"\"\n",
    "from multiprocessing import Pool\n",
    "\n",
    "import numpy\n",
    "\n",
    "LOG_STR = \" To regenerate this file, please, remove it.\"\n",
    "\n",
    "def find_transcript_files(dir):\n",
    "    files = []\n",
    "    for dirpath, _, filenames in os.walk(dir):\n",
    "        for filename in filenames:\n",
    "            if filename.endswith(\".trans.txt\"):\n",
    "                files.append(os.path.join(dirpath, filename))\n",
    "    return files\n",
    "\n",
    "def transcript_to_list(file):\n",
    "    audio_path = os.path.dirname(file)\n",
    "    ret = []\n",
    "    with open(file, \"r\") as f:\n",
    "        for line in f:\n",
    "            file_id, trans = line.strip().split(\" \", 1)\n",
    "            audio_file = os.path.abspath(os.path.join(audio_path, file_id + \".flac\"))\n",
    "            duration = 0  # We are not using the audio\n",
    "            ret.append([file_id, audio_file, str(duration), trans.lower()])\n",
    "\n",
    "    return ret\n",
    "\n",
    "\n",
    "if __name__ == \"__main__\":\n",
    "    \n",
    "    name = \"dev-clean\"\n",
    "    data_path = os.path.join(DATA_DOWNLOAD_DIR, \"eval_data\")\n",
    "    text_path = os.path.join(DATA_DOWNLOAD_DIR, \"text\")\n",
    "    lists_path = os.path.join(DATA_DOWNLOAD_DIR, \"lists\")\n",
    "    os.makedirs(data_path, exist_ok=True)\n",
    "    os.makedirs(text_path, exist_ok=True)\n",
    "    os.makedirs(lists_path, exist_ok=True)\n",
    "    data_http = \"http://www.openslr.org/resources/12/\"\n",
    "\n",
    "    # Download the audio data\n",
    "    print(\"Downloading the evaluation data.\", flush=True)\n",
    "    if not os.path.exists(os.path.join(data_path, \"LibriSpeech\", name)):\n",
    "        print(\"Downloading and unpacking {}...\".format(name))\n",
    "        cmd = \"\"\"wget -c {http}{name}.tar.gz -P {path};\n",
    "                 yes n 2>/dev/null | gunzip {path}/{name}.tar.gz;\n",
    "                 tar -C {path} -xf {path}/{name}.tar\"\"\"\n",
    "        os.system(cmd.format(path=data_path, http=data_http, name=name))\n",
    "    else:\n",
    "        log_str = \"{} part of data exists, skip its downloading and unpacking\"\n",
    "        print(log_str.format(name) + LOG_STR, flush=True)\n",
    "\n",
    "    # Prepare the audio data\n",
    "    print(\"Converting data into necessary format.\", flush=True)\n",
    "    word_dict = {}\n",
    "    word_dict[name] = set()\n",
    "    src = os.path.join(data_path, \"LibriSpeech\", name)\n",
    "    assert os.path.exists(src), \"Unable to find the directory - '{src}'\".format(\n",
    "        src=src\n",
    "    )\n",
    "\n",
    "    dst_list = os.path.join(lists_path, name + \".lst\")\n",
    "    if os.path.exists(dst_list):\n",
    "        print(\n",
    "            \"Path {} exists, skip its generation.\".format(dst_list) + LOG_STR,\n",
    "            flush=True,\n",
    "        )\n",
    "        \n",
    "\n",
    "    print(\"Analyzing {src}...\".format(src=src), flush=True)\n",
    "    transcript_files = find_transcript_files(src)\n",
    "    transcript_files.sort()\n",
    "\n",
    "    print(\"Writing to {dst}...\".format(dst=dst_list), flush=True)\n",
    "    with Pool(processes=8) as p:\n",
    "        samples = list(p.imap(transcript_to_list, transcript_files))\n",
    "\n",
    "    with open(dst_list, \"w\") as fout:\n",
    "        for sp in samples:\n",
    "            for s in sp:\n",
    "                word_dict[name].update(s[-1].split(\" \"))\n",
    "                s[0] = name + \"-\" + s[0]\n",
    "                fout.write(\" \".join(s) + \"\\n\")\n",
    "\n",
    "    current_path = os.path.join(text_path, name + \".txt\")\n",
    "    if not os.path.exists(current_path):\n",
    "        with open(os.path.join(lists_path, name + \".lst\"), \"r\") as flist, open(\n",
    "            os.path.join(text_path, name + \".txt\"), \"w\"\n",
    "        ) as fout:\n",
    "            for line in flist:\n",
    "                fout.write(\" \".join(line.strip().split(\" \")[3:]) + \"\\n\")\n",
    "    else:\n",
    "        print(\n",
    "            \"Path {} exists, skip its generation.\".format(current_path) + LOG_STR,\n",
    "            flush=True,\n",
    "        )\n",
    "\n",
    "print(\"Done!\", flush=True)\n"
   ]
  },
  {
   "cell_type": "markdown",
   "metadata": {},
   "source": [
    "For the sake of reducing the time this demo takes, we reduce the number of lines of the training dataset. Feel free to modify the number of used lines."
   ]
  },
  {
   "cell_type": "code",
   "execution_count": null,
   "metadata": {},
   "outputs": [],
   "source": [
    "# Use a random 10,000 lines for training\n",
    "!shuf -n 10000 $DATA_DOWNLOAD_DIR/librispeech-lm-norm.txt  > $DATA_DOWNLOAD_DIR/reduced_training.txt"
   ]
  },
  {
   "cell_type": "markdown",
   "metadata": {},
   "source": [
    "---\n",
    "## TAO Toolkit workflow\n",
    "The rest of the tutorial demonstrates what a sample TAO Toolkit workflow looks like."
   ]
  },
  {
   "cell_type": "markdown",
   "metadata": {},
   "source": [
    "### Setting TAO Toolkit Mounts"
   ]
  },
  {
   "cell_type": "markdown",
   "metadata": {},
   "source": [
    "Now that our dataset has been downloaded, an important step in using TAO Toolkit is to setup the directory mounts. The TAO Toolkit launcher uses Docker containers under the hood, and **for our data and results directory to be visible to Docker, they need to be mapped**. The launcher can be configured using the config file `~/.tao_mounts.json`. Apart from the mounts, you can also configure additional options like the environment variables and the amount of shared memory available to the TAO Toolkit launcher. <br>\n",
    "\n",
    "`IMPORTANT NOTE:` The following code creates a sample `~/.tao_mounts.json`  file. Here, we can map directories in which we save the data, specs, results, and cache. You should configure it for your specific use case.  These directories are correctly visible to the Docker container. **Ensure that the source directories exist on your machine.**"
   ]
  },
  {
   "cell_type": "code",
   "execution_count": null,
   "metadata": {},
   "outputs": [],
   "source": [
    "%%bash\n",
    "tee ~/.tao_mounts.json <<'EOF'\n",
    "{\n",
    "   \"Mounts\":[\n",
    "       {\n",
    "           \"source\": \"<YOUR_PATH_TO_DATA_DIR>\",\n",
    "           \"destination\": \"/data\"\n",
    "       },\n",
    "       {\n",
    "           \"source\": \"<YOUR_PATH_TO_SPECS_DIR>\",\n",
    "           \"destination\": \"/specs\"\n",
    "       },\n",
    "       {\n",
    "           \"source\": \"<YOUR_PATH_TO_RESULTS_DIR>\",\n",
    "           \"destination\": \"/results\"\n",
    "       },\n",
    "       {\n",
    "           \"source\": \"<YOUR_PATH_TO_CACHE_DIR eg. /home/user/.cache>\",\n",
    "           \"destination\": \"/root/.cache\"\n",
    "       }\n",
    "   ]\n",
    "}\n",
    "EOF"
   ]
  },
  {
   "cell_type": "code",
   "execution_count": null,
   "metadata": {},
   "outputs": [],
   "source": [
    "# Make sure the source directories exist, if not, create them\n",
    "# ! mkdir <YOUR_PATH_TO_SPECS_DIR>\n",
    "# ! mkdir <YOUR_PATH_TO_RESULTS_DIR>\n",
    "# ! mkdir <YOUR_PATH_TO_CACHE_DIR>"
   ]
  },
  {
   "cell_type": "markdown",
   "metadata": {},
   "source": [
    "Users with basic knowledge of deep learning can get started building their own custom models using a simple specification file. It's essentially just one command each to run data preprocessing, training, fine-tuning, evaluation, inference, and export. All configurations happen through `.yaml` spec files. <br>"
   ]
  },
  {
   "cell_type": "markdown",
   "metadata": {},
   "source": [
    "---\n",
    "### Configuration/Specification Files"
   ]
  },
  {
   "cell_type": "markdown",
   "metadata": {},
   "source": [
    "The essence of all commands in TAO Toolkit lies within `.yaml` spec files. There are sample spec files already available for you to use directly or as a reference to create your own.  Through these spec files, you can tune many knobs like the model, dataset, hyperparameters, etc. Each command (like train, fine-tune, evaluate, etc.) should have a dedicated spec file with configurations pertinent to it. <br>\n",
    "\n",
    "Here is an example of the training spec file:\n",
    "\n",
    "---\n",
    "```\n",
    "model:\n",
    "  intermediate: True\n",
    "  order: 2\n",
    "  pruning:\n",
    "    - 0\n",
    "training_ds:\n",
    "  is_tarred: false\n",
    "  is_file: true\n",
    "  data_file: ???\n",
    "\n",
    "vocab_file: \"\"\n",
    "encryption_key: \"tlt_encode\"\n",
    "...\n",
    "```\n"
   ]
  },
  {
   "cell_type": "markdown",
   "metadata": {},
   "source": [
    "---\n",
    "### Set Relevant Paths\n",
    "Please set these paths according to your environment."
   ]
  },
  {
   "cell_type": "code",
   "execution_count": null,
   "metadata": {},
   "outputs": [],
   "source": [
    "# NOTE: The following paths are set from the perspective of the TAO Toolkit Docker. \n",
    "\n",
    "# The data is saved here\n",
    "DATA_DIR='/data'\n",
    "\n",
    "# The configuration files are stored here\n",
    "SPECS_DIR='/specs/n_gram'\n",
    "\n",
    "# The results are saved at this path\n",
    "RESULTS_DIR='/results/n_gram'\n",
    "\n",
    "# Set your encryption key, and use the same key for all commands\n",
    "KEY='tlt_encode'"
   ]
  },
  {
   "cell_type": "markdown",
   "metadata": {},
   "source": [
    "---\n",
    "### Downloading Specs\n",
    "Let's download the spec files. You may choose to modify/rewrite these specs, or even individually override them through the launcher. You can download the default spec files by using the `download_specs` command. <br>\n",
    "\n",
    "The `-o` argument indicates the folder where the default specification files will be downloaded. The `-r` argument instructs the script on where to save the logs. **Ensure the `-o` argument points to an empty folder.**"
   ]
  },
  {
   "cell_type": "code",
   "execution_count": null,
   "metadata": {},
   "outputs": [],
   "source": [
    "!tao n_gram download_specs \\\n",
    "    -r $RESULTS_DIR \\\n",
    "    -o $SPECS_DIR"
   ]
  },
  {
   "cell_type": "markdown",
   "metadata": {},
   "source": [
    "---\n",
    "### Data Convert\n"
   ]
  },
  {
   "cell_type": "markdown",
   "metadata": {},
   "source": [
    "In preparation for training/fine-tuning, we need to preprocess the dataset. The `tao n_gram dataset_convert` command can be used in conjunction with the appropriate configuration in the spec file. Here is the sample `dataset_convert.yaml` spec file we use:\n",
    "```\n",
    "# Dataset. Available options: [assistant]\n",
    "dataset_name: assistant\n",
    "\n",
    "# Extension of the files containing in dataset\n",
    "extension: ???\n",
    "\n",
    "# Path to the folder containing the dataset source files.\n",
    "source_data_dir: ???\n",
    "\n",
    "# Path to the output folder.\n",
    "target_data_file: ???\n",
    "\n",
    "```\n",
    " Take a look at the `.yaml` spec files we provide.\n",
    "As we show below, you can override the `source_data_dir` and `target_data_dir` options with the appropriate paths."
   ]
  },
  {
   "cell_type": "code",
   "execution_count": null,
   "metadata": {},
   "outputs": [],
   "source": [
    "# Preprocess training data (LibriSpeech LM Normalized)\n",
    "!tao n_gram dataset_convert \\\n",
    "            -e $SPECS_DIR/dataset_convert.yaml \\\n",
    "            -r $RESULTS_DIR/dataset_convert \\\n",
    "            extension=*.txt \\\n",
    "            source_data_dir=$DATA_DIR/reduced_training.txt \\\n",
    "            target_data_file=$DATA_DIR/preprocessed.txt\n",
    "\n",
    "# Preprocess evaluation data (LibriSpeech dev-clean)\n",
    "!tao n_gram dataset_convert \\\n",
    "            -e $SPECS_DIR/dataset_convert.yaml \\\n",
    "            -r $RESULTS_DIR/dataset_convert \\\n",
    "            extension=*.txt \\\n",
    "            source_data_dir=$DATA_DIR/text/dev-clean.txt \\\n",
    "            target_data_file=$DATA_DIR/preprocessed_dev_clean.txt"
   ]
  },
  {
   "cell_type": "markdown",
   "metadata": {},
   "source": [
    "The command preprocess the training and evaluation dataset using basic text preprocessings including converting lowercase, normalization, removing punctuation, and write the results into files named `preprocessed.txt` and `preprocessed_dev_clean.txt` for training and evaluation correspondingly. In both `preprocessed.txt` and `preprocessed_dev_clean.txt` files, each preprocessed sentence corresponds to a new line."
   ]
  },
  {
   "cell_type": "markdown",
   "metadata": {},
   "source": [
    "---\n",
    "<a id='isc-training'></a>\n",
    "### Training / Fine-tuning\n"
   ]
  },
  {
   "cell_type": "markdown",
   "metadata": {},
   "source": [
    "Training a model using TAO Toolkit is as simple as configuring your spec file and running the train command. The following code uses the `train.yaml` spec file available to you as reference. The spec file configurations can easily be overridden using the `tao-launcher` CLI. For example, below we override `model.order`, `model.pruning` and `training_ds.data_file` configurations to suit our needs. <br>\n",
    "\n",
    "For training an N-gram language model in TAO Toolkit, we use the `tao n_gram train` command with the following arguments:\n",
    "- `-e`: Path to the spec file\n",
    "- `-k`: User specified encryption key to use while saving/loading the model\n",
    "- `-r`: Path to a folder where the outputs should be written. Ensure this is mapped in the `tlt_mounts.json` file.\n",
    "- Any overrides to the spec file. For example, `model.order`.\n",
    "<br>\n",
    "\n",
    "\n",
    "For more information about these arguments, refer to the [TAO Toolkit Getting Started Guide](https://docs.nvidia.com/tao/tao-toolkit/text/overview.html). <br>\n",
    "`Note:` All file paths correspond to the destination mounted directory that is visible in the TAO Toolkit docker container used in backend.<br>"
   ]
  },
  {
   "cell_type": "code",
   "execution_count": null,
   "metadata": {},
   "outputs": [],
   "source": [
    "!tao n_gram train \\\n",
    "            -e $SPECS_DIR/train.yaml \\\n",
    "            -r $RESULTS_DIR/train \\\n",
    "            training_ds.data_file=$DATA_DIR/preprocessed.txt \\\n",
    "            model.order=3 \\\n",
    "            model.pruning=[0,0,1]"
   ]
  },
  {
   "cell_type": "markdown",
   "metadata": {},
   "source": [
    "The train command produces three files called `train_n_gram.arpa`, `train_n_gram.vocab` and `train_n_gram.kenlm_intermediate` saved at `$RESULTS_DIR/train/checkpoints`."
   ]
  },
  {
   "cell_type": "markdown",
   "metadata": {},
   "source": [
    "---\n",
    "<a id='evaluation'></a>\n",
    "### Evaluation\n",
    "The evaluation spec `.yaml` is as simple as:\n",
    "\n",
    "```\n",
    "# Name of the `.arpa` or `.binary` file where the trained model will be restored from.\n",
    "restore_from: ???\n",
    "\n",
    "test_ds:\n",
    "  data_file: ???\n",
    "  \n",
    "```"
   ]
  },
  {
   "cell_type": "code",
   "execution_count": null,
   "metadata": {},
   "outputs": [],
   "source": [
    "!tao n_gram evaluate \\\n",
    "     -e $SPECS_DIR/evaluate.yaml \\\n",
    "     -r $RESULTS_DIR/evaluate \\\n",
    "     restore_from=$RESULTS_DIR/train/checkpoints/train_n_gram.arpa \\\n",
    "     test_ds.data_file=$DATA_DIR/preprocessed_dev_clean.txt"
   ]
  },
  {
   "cell_type": "markdown",
   "metadata": {},
   "source": [
    "The output of the evaluation gives us the perplexity of the N-gram language model on the evaluation (LibriSpeech dev-clean) dataset."
   ]
  },
  {
   "cell_type": "markdown",
   "metadata": {},
   "source": [
    "---\n",
    "<a id='isc-inference'></a>\n",
    "### Inference\n",
    "Inference using a trained `.arpa` or `.binary` model uses the `tao n_gram infer` command.  <br>\n",
    "The `infer.yaml` is also very simple, and we can directly give inputs for the model to run inference.\n",
    "```\n",
    "# \"Simulate\" user input:\n",
    "input_batch:\n",
    "  - 'set alarm for seven thirty am'\n",
    "  - 'lower volume by fifty percent'\n",
    "  - 'what is my schedule for tomorrow'\n",
    "\n",
    "restore_from: ???\n",
    "\n",
    "```\n",
    "\n",
    "Try out your own inputs as an exercise."
   ]
  },
  {
   "cell_type": "code",
   "execution_count": null,
   "metadata": {},
   "outputs": [],
   "source": [
    "!tao n_gram infer \\\n",
    "            -e $SPECS_DIR/infer.yaml \\\n",
    "            -r $RESULTS_DIR/infer \\\n",
    "            restore_from=$RESULTS_DIR/train/checkpoints/train_n_gram.arpa"
   ]
  },
  {
   "cell_type": "markdown",
   "metadata": {},
   "source": [
    "This command returns the log likelihood, perplexity, and all n-grams for each of the input sequences that users provided."
   ]
  },
  {
   "cell_type": "markdown",
   "metadata": {},
   "source": [
    "---\n",
    "<a id='isc-export-riva'></a>\n",
    "### Export to Riva"
   ]
  },
  {
   "cell_type": "markdown",
   "metadata": {},
   "source": [
    "With TAO Toolkit, you can also export your model in a format that can deployed using [NVIDIA Riva](https://developer.nvidia.com/riva), a highly performant application framework for multi-modal conversational AI services using GPUs. The export command will convert the trained language model from `.arpa` to `.binary` with the option of quantizing the model binary. We will set `export_format` in the spec file to `RIVA` to create a `.riva` file which will contain the language model binary and its corresponding vocabulary."
   ]
  },
  {
   "cell_type": "code",
   "execution_count": null,
   "metadata": {},
   "outputs": [],
   "source": [
    "!tao n_gram export \\\n",
    "            -e $SPECS_DIR/export.yaml \\\n",
    "            -r $RESULTS_DIR/export \\\n",
    "            export_format=RIVA \\\n",
    "            export_to=exported-model.riva \\\n",
    "            restore_from=$RESULTS_DIR/train/checkpoints/train_n_gram.arpa \\\n",
    "            binary_type=trie \\\n",
    "            binary_q_bits=8 \\\n",
    "            binary_b_bits=7 \\\n",
    "            binary_a_bits=256\n",
    "            "
   ]
  },
  {
   "cell_type": "markdown",
   "metadata": {},
   "source": [
    "The model is exported as `exported-model.riva` which is in a format suited for deployment in Riva."
   ]
  },
  {
   "cell_type": "markdown",
   "metadata": {},
   "source": [
    "---\n",
    "### What's Next?"
   ]
  },
  {
   "cell_type": "markdown",
   "metadata": {},
   "source": [
    "You could use TAO Toolkit to build custom models for your own applications, or you could deploy the custom model to NVIDIA Riva."
   ]
  }
 ],
 "metadata": {
  "kernelspec": {
   "display_name": "Python 3 (ipykernel)",
   "language": "python",
   "name": "python3"
  },
  "language_info": {
   "codemirror_mode": {
    "name": "ipython",
    "version": 3
   },
   "file_extension": ".py",
   "mimetype": "text/x-python",
   "name": "python",
   "nbconvert_exporter": "python",
   "pygments_lexer": "ipython3",
   "version": "3.8.13"
  }
 },
 "nbformat": 4,
 "nbformat_minor": 4
}
