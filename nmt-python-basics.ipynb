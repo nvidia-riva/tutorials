{
 "cells": [
  {
   "cell_type": "markdown",
   "id": "cc4b19f9",
   "metadata": {},
   "source": [
    "<img src=\"http://developer.download.nvidia.com/compute/machine-learning/frameworks/nvidia_logo.png\" style=\"width: 90px; float: right;\">\n",
    "\n",
    "# How do I perform Language Translation using Riva NMT APIs with out-of-the-box models?\n",
    "\n",
    "This tutorial walks you through the basics of using Riva Neural Machine Translation (NMT) services, specifically covering how to use Riva NMT APIs with out-of-the-box models. We will also cover how to use Riva's Speech-to-Speech (S2S) and Speech-to-Text (S2T) APIs."
   ]
  },
  {
   "cell_type": "markdown",
   "id": "8a318e75",
   "metadata": {},
   "source": [
    "## NVIDIA Riva Overview\n",
    "\n",
    "NVIDIA Riva is a GPU-accelerated SDK for building Speech AI applications that are customized for your use case and deliver real-time performance. <br/>\n",
    "Riva offers a rich set of speech and natural language understanding services such as:\n",
    "\n",
    "- Automated speech recognition (ASR)\n",
    "- Text-to-Speech synthesis (TTS)\n",
    "- Neural Machine Translation (NMT)\n",
    "- A collection of natural language processing (NLP) services, such as named entity recognition (NER), punctuation, intent classification.\n",
    "\n",
    "In this tutorial, we will interact with the Neural Machine Translation (NMT) APIs. We will also cover using Riva's Speech-to-Speech (S2S) and Speech-to-Text (S2T) services.\n",
    "\n",
    "For more information about Riva, refer to the [Riva developer documentation](https://developer.nvidia.com/riva)."
   ]
  },
  {
   "cell_type": "markdown",
   "id": "2a798ada",
   "metadata": {},
   "source": [
    "## Introduction to Language Translation with Riva NMT\n",
    "\n",
    "Riva Neural machine translation (NMT) is a framework for machine translation based on neural networks. NMT translates text between language pairs, that is, from one language to another. For example, we want a machine to translate text in one language (we call this the source language), to corresponding text in another language (we call this the target language).  \n",
    "\n",
    "Riva NMT EA offers multiple models for machine translation. These models fall into three model architectures:\n",
    "1. **Megatron models** are based on Megatron-BERT architecture, with 500M parameters, capable of translating from any language to English and vice-versa. For example, the `megatronnmt_en_any_500m` model can be used to translate from English to any language.\n",
    "2. **Multilingual models** support translating from one source language to multiple target languages and vice-versa. For example, the `mnmt_en_deesfr_transformer24x6` model can be used to translate from English to German, Spanish, and French. Multilingual models have several language codes in their name. Use a multilingual model if you need to support multiple languages or if you want to optimize resource utilization since you can translate along multiple language pairs without loading multiple models. Running multilingual models prevents loading multiple models, which helps to prevent overhead. By default, use 24x6 multilingual models. You can use 12x2 instead of a 24x6 multilingual model if you need to reduce the resource consumption even further and can accept a bit of translation quality degradation.  \n",
    "3. **Bilingual models** are used for translation from one source language to another target language. For example, the `en_de_24x6` model can be used to translate from English to Russian. Bilingual models have a single pair of language codes in their name. Use a bilingual model when you want the best possible performance for a specific language pair direction. Running bilingual models produces faster results compared to running multilingual models. \n",
    "\n",
    "To learn more about Riva NMT, refer to the Riva NMT EA documentation.  \n",
    "For more information about the NMT model architecture and training, refer to the [NeMo NMT documentation](https://docs.nvidia.com/deeplearning/nemo/user-guide/docs/en/stable/nlp/machine_translation.html)."
   ]
  },
  {
   "attachments": {},
   "cell_type": "markdown",
   "id": "b6272b19",
   "metadata": {},
   "source": [
    "<a id='nmt_language_pairs_supported'></a>\n",
    "### Language Pairs Supported:  \n",
    "The following table lists models for all the language pairs supported by NVIDIA Riva Speech Skills NMT service.  \n",
    "The table also provides the language codes, the model name in Riva Quick Start Guide's `config.sh` file, and the corresponding model name specified during API call. \n",
    "\n",
    "| Language Pair | Model name in `config.sh` | Model name specified during API call |\n",
    "| ---- | --- | --- |\n",
    "| English (`en`) to Simplified Chinese (`zh`) | `rmir_en_zh_24x6` | `en_zh_24x6` |\n",
    "| Simplified Chinese (`zh`) to English (`en`) | `rmir_zh_en_24x6` | `zh_en_24x6` |\n",
    "| English (`en`) to Russian (`ru`) | `rmir_en_ru_24x6` | `en_ru_24x6` |\n",
    "| Russian (`ru`) to English (`en`) | `rmir_ru_en_24x6` | `ru_en_24x6` |\n",
    "| English (`en`) to German (`de`) | `rmir_en_de_24x6` | `en_de_24x6` |\n",
    "| German (`de`) to English (`en`) | `rmir_de_en_24x6` | `de_en_24x6` |\n",
    "| English (`en`) to Spanish (`es`) | `rmir_en_es_24x6` | `en_es_24x6` |\n",
    "| Spanish (`es`) to English (`en`) | `rmir_es_en_24x6` | `es_en_24x6` |\n",
    "| English (`en`) to French (`fr`) | `rmir_en_fr_24x6` | `en_fr_24x6` |\n",
    "| French (`fr`) to English (`en`) | `rmir_fr_en_24x6` | `fr_en_24x6` |\n",
    "| *Any to English (`en`) | `rmir_megatronnmt_any_en_500m` | `megatronnmt_any_en_500m` |\n",
    "| *English (`en`) to Any | `rmir_megatronnmt_en_any_500m` | `megatronnmt_en_any_500m` |\n",
    "\n",
    "\\* In Megatron models, \"any\" refers to the following 32 languages: `cs`, `da`, `de`, `el`, `es`, `fi`, `fr`, `hu`, `it`, `lt`, `lv`, `nl`, `no`, `pl`, `pt`, `ro`, `ru`, `sk`, `sv`, `zh`, `ja`, `hi`, `ko`, `et`, `sl`, `bg`, `uk`, `hr`, `ar`, `vi`, `tr`, `id`"
   ]
  },
  {
   "cell_type": "markdown",
   "id": "3649e32b",
   "metadata": {},
   "source": [
    "#### Requirements and setup\n",
    "\n",
    "1. Start the Riva Speech Skills server.  \n",
    "To use the Riva NMT models, we first need to deploy them on the Riva Speech Skills server. Follow the instructions in the Riva Quick Start Guide to deploy the OOTB NMT models on the Riva Speech Skills server before running this tutorial.  For this tutorial, deploy the following models:\n",
    "\n",
    "    * `English (en) to French (fr)` Bilingual model - The model name corresponding to this language pairs in the Riva Quick Start Guide's `config.sh` can be found in the [table above](#nmt_language_pairs_supported).\n",
    "    \n",
    "    * `English (en) to Any` Megatron model - The model name corresponding to this is `megatronnmt_en_any_500m`. Uncomment the line which contains this model in `config.sh`.\n",
    "    \n",
    "    * `Spanish (es) ASR, Spanish-to-English (es-en) NMT and English (en) TTS` models - The instructions to deploy Spanish (language code `es-US`) ASR model and English (`en-US`) TTS model can be found in the `config.sh` itself, as the latter section of this tutorial will cover using Speech-to-Speech (S2S) and Speech-to-Text (S2T) services. The model name corresponding to Spanish-English language pair can be found in the [table above](#nmt_language_pairs_supported).\n",
    "\n",
    "2. Install the Riva Client library.   \n",
    "Follow the steps in the 'Running the Riva Client' in the Riva NMT EA Tutorials' [Overview section](https://ngc.nvidia.com/resources/riem1phmzvud:riva:riva_nmt_ea_tutorials) or [README.md](https://ngc.nvidia.com/resources/riem1phmzvud:riva:riva_nmt_ea_tutorials/files?version=2.2.0-ea) to install the Riva Client library.  \n",
    "\n",
    "3. Install additional libraries needed to run this tutorial.  "
   ]
  },
  {
   "cell_type": "code",
   "execution_count": null,
   "id": "6d81fe43",
   "metadata": {},
   "outputs": [],
   "source": [
    "!apt-get install python3-dev"
   ]
  },
  {
   "cell_type": "code",
   "execution_count": null,
   "id": "faf53dab",
   "metadata": {},
   "outputs": [],
   "source": [
    "''' \n",
    "Install Pyaudio. portaudio19-dev is a prerequisite for Pyaudio.\n",
    "'''\n",
    "!apt-get update && apt-get install -y python3-pyaudio portaudio19-dev\n",
    "!python -m pip install pyaudio\n",
    "# If you run into errors running apt-get commands through Jupyter notebook, run this command directly on your local machine's terminal. You might need sudo access to run this command.\n",
    "# For alternate options to install PyAudio, please refer to PyAudio documentation - https://people.csail.mit.edu/hubert/pyaudio/\n",
    "\n",
    "'''\n",
    "Install librosa.\n",
    "'''\n",
    "!apt-get update && apt-get install -y libsndfile1\n",
    "# If you run into errors running apt-get commands through Jupyter notebook, run this command directly on your local machine's terminal. You might need sudo access to run this command.\n",
    "!python -m pip install librosa\n",
    "\n",
    "'''\n",
    "Install nltk\n",
    "'''\n",
    "!python -m pip install nltk"
   ]
  },
  {
   "cell_type": "markdown",
   "id": "6a2c040d",
   "metadata": {},
   "source": [
    "## Language Translation with Riva NMT APIs\n",
    "\n",
    "Now, let's generate language translations using Riva APIs, with an OOTB models."
   ]
  },
  {
   "cell_type": "markdown",
   "id": "bb49aa96",
   "metadata": {},
   "source": [
    "#### Import the Riva client libraries"
   ]
  },
  {
   "cell_type": "code",
   "execution_count": null,
   "id": "e2ef7878",
   "metadata": {},
   "outputs": [],
   "source": [
    "import riva.client"
   ]
  },
  {
   "cell_type": "markdown",
   "id": "d4e4097a",
   "metadata": {},
   "source": [
    "#### Create a Riva client and connect to the Riva Speech API server\n",
    "\n",
    "The following URI assumes a local deployment of the Riva Speech API server is on the default port. In case the server deployment is on a different host or via a Helm chart on Kubernetes, use an appropriate URI."
   ]
  },
  {
   "cell_type": "code",
   "execution_count": null,
   "id": "e4788943",
   "metadata": {},
   "outputs": [],
   "source": [
    "# `Auth` class wraps a gRPC channel.\n",
    "auth = riva.client.Auth(uri='localhost:50051')\n",
    "\n",
    "# `NeuralMachineTranslationClient` is for sending requests to a server.\n",
    "riva_nmt_client = riva.client.NeuralMachineTranslationClient(auth)"
   ]
  },
  {
   "cell_type": "markdown",
   "id": "90b91aa2",
   "metadata": {},
   "source": [
    "#### Make a gRPC request to the Riva Speech API server \n",
    "\n",
    "##### Inference with Bilingual NMT model:\n",
    "\n",
    "Now, let's make a gRPC request to the Riva Speech server's Bilingual NMT model `rmir_en_fr_24x6` for translation from source_language, English (`en`) to target_language, French (`fr`)."
   ]
  },
  {
   "cell_type": "code",
   "execution_count": null,
   "id": "455c17f8",
   "metadata": {},
   "outputs": [],
   "source": [
    "eng_text = (\n",
    "    \"Molecular Biology is the field of biology that studies the composition, structure \"\n",
    "    \"and interactions of cellular molecules – such as nucleic acids and proteins – that \"\n",
    "    \"carry out the biological processes essential for the cell's functions and maintenance.\"\n",
    ")\n",
    "model_name = 'en_fr_24x6'\n",
    "source_language = 'en'\n",
    "target_language = 'fr'"
   ]
  },
  {
   "cell_type": "markdown",
   "id": "c4a5110e",
   "metadata": {},
   "source": [
    "To learn more about `NeuralMachineTranslationClient`, refer to the corresponding [docstring](https://github.com/nvidia-riva/python-clients/blob/main/riva/client/nmt.py#L13).  \n",
    "\n",
    "Now we submit the request to the server."
   ]
  },
  {
   "cell_type": "code",
   "execution_count": null,
   "id": "c203a002",
   "metadata": {},
   "outputs": [],
   "source": [
    "response = riva_nmt_client.translate([eng_text], model_name, source_language, target_language)\n",
    "# response.translations is a list of all translations - Each entry corresponds to the \n",
    "# corresponding entry in the texts attribute of TranslateTextRequest (nmt_request.texts) from above.\n",
    "\n",
    "print(\"English Text: \", eng_text)\n",
    "# Fetch the translated text from the 1st entry of response.translations\n",
    "print(\"\\nTranslated French Text: \", response.translations[0].text)"
   ]
  },
  {
   "cell_type": "markdown",
   "id": "11a52991",
   "metadata": {},
   "source": [
    "<br>\n",
    "\n",
    "Let us make a gRPC request to the Multilingual Megatron model `megatronnmt_en_any_500m` to get the translation for the same English text in French."
   ]
  },
  {
   "cell_type": "code",
   "execution_count": null,
   "id": "b9a1bb23-0bd9-4ea3-b775-fb42218219eb",
   "metadata": {},
   "outputs": [],
   "source": [
    "model_name = 'megatronnmt_en_any_500m'\n",
    "\n",
    "response = riva_nmt_client.translate([eng_text], model_name, source_language, target_language)\n",
    "# response.translations is a list of all translations - Each entry corresponds to the \n",
    "# corresponding entry in the texts attribute of TranslateTextRequest (nmt_request.texts) from above.\n",
    "\n",
    "print(\"English Text: \", eng_text)\n",
    "# Fetch the translated text from the 1st entry of response.translations\n",
    "print(\"\\nTranslated French Text: \", response.translations[0].text)"
   ]
  },
  {
   "cell_type": "markdown",
   "id": "c4c0d009",
   "metadata": {},
   "source": [
    "##### Riva NMT APIs - Handling large input text:\n",
    "\n",
    "Riva NMT API has a maximum input token limit of 512 tokens. If an input larger than 512 tokens is provided, the NMT API doesn't return the complete transcription:"
   ]
  },
  {
   "cell_type": "code",
   "execution_count": null,
   "id": "2e50e5ea",
   "metadata": {
    "scrolled": true
   },
   "outputs": [],
   "source": [
    "eng_text = \"\"\"\n",
    "The effects of climate change span the impacts on physical environment, ecosystems and human societies due to ongoing human-caused climate change. The future impact of climate change depends on how much nations reduce greenhouse gas emissions and adapt to climate change. Effects that scientists predicted in the past—loss of sea ice, accelerated sea level rise and longer, more intense heat waves—are now occurring. The changes in climate are not expected to be uniform across the Earth. In particular, land areas change more quickly than oceans, and northern high latitudes change more quickly than the tropics. There are three major ways in which global warming will make changes to regional climate: melting ice, changing the hydrological cycle (of evaporation and precipitation) and changing currents in the oceans.\n",
    "Physical changes include extreme weather, glacier retreat, sea level rise, declines in Arctic sea ice, and changes in the timing of seasonal events (such as earlier spring flowering). Since 1970, the ocean has absorbed more than 90% of the excess heat in the climate system. Even if global surface temperature is stabilized, sea levels will continue to rise and the ocean will continue to absorb excess heat from the atmosphere for many centuries. The uptake of carbon dioxide from the atmosphere is leading to ocean acidification.\n",
    "Climate change has degraded land by raising temperatures, drying soils and increasing wildfire risk. Recent warming has strongly affected natural biological systems. Species worldwide are migrating poleward to colder areas. On land, species move to higher elevations, whereas marine species find colder water at greater depths. Between 1% and 50% of species on land were assessed to be at substantially higher risk of extinction due to climate change. Coral reefs and shellfish are vulnerable to the combined threat of ocean warming and acidification.\n",
    "Food security and access to fresh water are at risk due to rising temperatures. Climate change has profound impacts on human health, directly via heat stress and indirectly via the spread of infectious diseases.\n",
    "The effects of climate change span the impacts on physical environment, ecosystems and human societies due to ongoing human-caused climate change. The future impact of climate change depends on how much nations reduce greenhouse gas emissions and adapt to climate change. Effects that scientists predicted in the past—loss of sea ice, accelerated sea level rise and longer, more intense heat waves—are now occurring. The changes in climate are not expected to be uniform across the Earth. In particular, land areas change more quickly than oceans, and northern high latitudes change more quickly than the tropics. There are three major ways in which global warming will make changes to regional climate: melting ice, changing the hydrological cycle (of evaporation and precipitation) and changing currents in the oceans.\n",
    "Physical changes include extreme weather, glacier retreat, sea level rise, declines in Arctic sea ice, and changes in the timing of seasonal events (such as earlier spring flowering). Since 1970, the ocean has absorbed more than 90% of the excess heat in the climate system. Even if global surface temperature is stabilized, sea levels will continue to rise and the ocean will continue to absorb excess heat from the atmosphere for many centuries. The uptake of carbon dioxide from the atmosphere is leading to ocean acidification.\n",
    "Climate change has degraded land by raising temperatures, drying soils and increasing wildfire risk. Recent warming has strongly affected natural biological systems. Species worldwide are migrating poleward to colder areas. On land, species move to higher elevations, whereas marine species find colder water at greater depths. Between 1% and 50% of species on land were assessed to be at substantially higher risk of extinction due to climate change. Coral reefs and shellfish are vulnerable to the combined threat of ocean warming and acidification.\n",
    "Food security and access to fresh water are at risk due to rising temperatures. Climate change has profound impacts on human health, directly via heat stress and indirectly via the spread of infectious diseases.\n",
    "The effects of climate change span the impacts on physical environment, ecosystems and human societies due to ongoing human-caused climate change. The future impact of climate change depends on how much nations reduce greenhouse gas emissions and adapt to climate change. Effects that scientists predicted in the past—loss of sea ice, accelerated sea level rise and longer, more intense heat waves—are now occurring. The changes in climate are not expected to be uniform across the Earth. In particular, land areas change more quickly than oceans, and northern high latitudes change more quickly than the tropics. There are three major ways in which global warming will make changes to regional climate: melting ice, changing the hydrological cycle (of evaporation and precipitation) and changing currents in the oceans.\n",
    "Physical changes include extreme weather, glacier retreat, sea level rise, declines in Arctic sea ice, and changes in the timing of seasonal events (such as earlier spring flowering). Since 1970, the ocean has absorbed more than 90% of the excess heat in the climate system. Even if global surface temperature is stabilized, sea levels will continue to rise and the ocean will continue to absorb excess heat from the atmosphere for many centuries. The uptake of carbon dioxide from the atmosphere is leading to ocean acidification.\n",
    "Climate change has degraded land by raising temperatures, drying soils and increasing wildfire risk. Recent warming has strongly affected natural biological systems. Species worldwide are migrating poleward to colder areas. On land, species move to higher elevations, whereas marine species find colder water at greater depths. Between 1% and 50% of species on land were assessed to be at substantially higher risk of extinction due to climate change. Coral reefs and shellfish are vulnerable to the combined threat of ocean warming and acidification.\n",
    "Food security and access to fresh water are at risk due to rising temperatures. Climate change has profound impacts on human health, directly via heat stress and indirectly via the spread of infectious diseases.\n",
    "The effects of climate change span the impacts on physical environment, ecosystems and human societies due to ongoing human-caused climate change. The future impact of climate change depends on how much nations reduce greenhouse gas emissions and adapt to climate change. Effects that scientists predicted in the past—loss of sea ice, accelerated sea level rise and longer, more intense heat waves—are now occurring. The changes in climate are not expected to be uniform across the Earth. In particular, land areas change more quickly than oceans, and northern high latitudes change more quickly than the tropics. There are three major ways in which global warming will make changes to regional climate: melting ice, changing the hydrological cycle (of evaporation and precipitation) and changing currents in the oceans.\n",
    "Physical changes include extreme weather, glacier retreat, sea level rise, declines in Arctic sea ice, and changes in the timing of seasonal events (such as earlier spring flowering). Since 1970, the ocean has absorbed more than 90% of the excess heat in the climate system. Even if global surface temperature is stabilized, sea levels will continue to rise and the ocean will continue to absorb excess heat from the atmosphere for many centuries. The uptake of carbon dioxide from the atmosphere is leading to ocean acidification.\n",
    "Climate change has degraded land by raising temperatures, drying soils and increasing wildfire risk. Recent warming has strongly affected natural biological systems. Species worldwide are migrating poleward to colder areas. On land, species move to higher elevations, whereas marine species find colder water at greater depths. Between 1% and 50% of species on land were assessed to be at substantially higher risk of extinction due to climate change. Coral reefs and shellfish are vulnerable to the combined threat of ocean warming and acidification.\n",
    "Food security and access to fresh water are at risk due to rising temperatures. Climate change has profound impacts on human health, directly via heat stress and indirectly via the spread of infectious diseases.\n",
    "\"\"\"\n",
    "model_name = 'en_fr_24x6'\n",
    "source_language = 'en'\n",
    "target_language = 'fr'\n",
    "\n",
    "response = riva_nmt_client.translate([eng_text], model_name, source_language, target_language)\n",
    "print(\"English Text: \", eng_text)\n",
    "print(\"Translated French Text: \", response.translations[0].text)"
   ]
  },
  {
   "cell_type": "markdown",
   "id": "49f97306",
   "metadata": {},
   "source": [
    "As can be seen above, the translated French text cuts off after 512 tokens of the input English text.  \n",
    "<br>\n",
    "The best way to handle such large input texts is to split the input text and send these as list of text to the NMT API:   \n",
    "Unfortunately there is currently no precise way to find the number of tokens in input text. From WMT test sets, on average across multiple sentences and models, 1 token maps to 1.2 characters (This is just provided as an estimate and the mapping can vary significantly based on the model/sentence pair). Based on this estimate, we should keep size of input text per API call to less than 615 characters (512 * 1.2). We also need to ensure that we respect sentence boundaries while splitting text.  \n",
    "Let us look at example on how to handle large text translation."
   ]
  },
  {
   "cell_type": "code",
   "execution_count": null,
   "id": "ccfa8b1c",
   "metadata": {},
   "outputs": [],
   "source": [
    "import nltk\n",
    "nltk.download('punkt')\n",
    "\n",
    "from nltk import tokenize\n",
    "\n",
    "def nmt_large_text_split(input_text, max_chars = 615):\n",
    "    \"\"\"Function to split large input text\"\"\"\n",
    "    \n",
    "    def nmt_text_split_sentence_splitter(sentence_text, max_chars):\n",
    "        \"\"\"Function to split a sentence while respecting word boundaries, if sentence length > max_chars\"\"\"\n",
    "        sentence_splits = []\n",
    "        if len(sentence_text) > max_chars:\n",
    "            words = sentence_text.split()\n",
    "            for word in words:\n",
    "                if len(sentence_splits) > 0 and (len(sentence_splits[-1]) + len(word) <= max_chars):\n",
    "                    sentence_splits[-1] += word\n",
    "                else:\n",
    "                    sentence_splits.append(word)\n",
    "        else:\n",
    "            sentence_splits.append(sentence_text)\n",
    "        return sentence_splits\n",
    "    \n",
    "    # 1. Split the input text into sentences \n",
    "    sentences = tokenize.sent_tokenize(input_text) # nltk.tokenize is the best way to split large text into sentences.\n",
    "    \n",
    "    # 2. Add input text to nmt_input_texts, ensuring no entry is greater than max_chars\n",
    "    nmt_input_texts = []\n",
    "    for i in range(len(sentences)):\n",
    "        # 2.1. Split sentence if sentence length > max_chars, and update sentences \n",
    "        sentence_splits = nmt_text_split_sentence_splitter(sentences[i], max_chars)\n",
    "        sentences = sentences[:i] + sentence_splits + sentences[i+1:]\n",
    "        # 2.2. Adding entry to nmt_input_texts        \n",
    "        if len(nmt_input_texts) > 0 and (len(nmt_input_texts[-1]) + len(sentences[i]) <= max_chars):\n",
    "            nmt_input_texts[-1] += sentences[i]\n",
    "        else:\n",
    "            nmt_input_texts.append(sentences[i])    \n",
    "    return nmt_input_texts\n",
    "    \n",
    "\n",
    "eng_text = \"\"\"\n",
    "The effects of climate change span the impacts on physical environment, ecosystems and human societies due to ongoing human-caused climate change. The future impact of climate change depends on how much nations reduce greenhouse gas emissions and adapt to climate change. Effects that scientists predicted in the past—loss of sea ice, accelerated sea level rise and longer, more intense heat waves—are now occurring. The changes in climate are not expected to be uniform across the Earth. In particular, land areas change more quickly than oceans, and northern high latitudes change more quickly than the tropics. There are three major ways in which global warming will make changes to regional climate: melting ice, changing the hydrological cycle (of evaporation and precipitation) and changing currents in the oceans.\n",
    "Physical changes include extreme weather, glacier retreat, sea level rise, declines in Arctic sea ice, and changes in the timing of seasonal events (such as earlier spring flowering). Since 1970, the ocean has absorbed more than 90% of the excess heat in the climate system. Even if global surface temperature is stabilized, sea levels will continue to rise and the ocean will continue to absorb excess heat from the atmosphere for many centuries. The uptake of carbon dioxide from the atmosphere is leading to ocean acidification.\n",
    "Climate change has degraded land by raising temperatures, drying soils and increasing wildfire risk. Recent warming has strongly affected natural biological systems. Species worldwide are migrating poleward to colder areas. On land, species move to higher elevations, whereas marine species find colder water at greater depths. Between 1% and 50% of species on land were assessed to be at substantially higher risk of extinction due to climate change. Coral reefs and shellfish are vulnerable to the combined threat of ocean warming and acidification.\n",
    "Food security and access to fresh water are at risk due to rising temperatures. Climate change has profound impacts on human health, directly via heat stress and indirectly via the spread of infectious diseases.\n",
    "\"\"\"\n",
    "model_name = 'en_fr_24x6'\n",
    "source_language = 'en'\n",
    "target_language = 'fr'\n",
    "\n",
    "parts = nmt_large_text_split(eng_text)\n",
    "\n",
    "response = riva_nmt_client.translate(parts, model_name, source_language, target_language)\n",
    "\n",
    "print(\"English Text:\\n\", eng_text)\n",
    "print(\"Translated French Text:\\n\")\n",
    "for i, translation in enumerate(response.translations):\n",
    "    print(translation.text)"
   ]
  },
  {
   "cell_type": "markdown",
   "id": "3b6ee414",
   "metadata": {},
   "source": [
    "<div class=\"alert alert-block alert-warning\">\n",
    "WARNING: Please take into account that you cannot pass more than 8 texts to the model. If you pass more than 8 inputs, then the response will be empty.\n",
    "</div>"
   ]
  },
  {
   "cell_type": "markdown",
   "id": "c9e30bd0",
   "metadata": {
    "tags": []
   },
   "source": [
    "## Riva S2T and S2S APIs\n",
    "\n",
    "Riva Speech-to-Text Translation (S2T) service transcribes audio to text between given language pairs, that is, from a source language to a target language. S2T takes an audio stream or audio buffer as input and returns a transcription. The Riva S2T service is composed of Riva ASR and NMT pipelines internally and supports streaming mode. \n",
    "\n",
    "Riva Speech-to-Speech Translation (S2S) service translates audio between language pairs, that is, from one source language to another target language. S2S takes an audio stream or audio buffer as input and returns a generated audio file. The Riva S2S service is composed of Riva ASR, NMT, and TTS pipelines internally. The Riva S2S service supports streaming mode. \n",
    "\n",
    "Riva ASR provides state-of-the-art OOTB (out-of-the-box) models and pipelines for multiple languages, like English, Spanish, German, Russian and Mandarin. Riva also supports easy customization of the ASR pipeline, in various ways, to meet your specific needs.<br>\n",
    "Riva TTS provides two state-of-the-art voices (one male and one female) for English. Riva also supports easy customization of TTS in various ways, to meet your specific needs.\n",
    "\n",
    "In this section, let us look at examples showing how to generate translated speech and text from audio. Make sure that your Riva speech server is deployed with Spanish ASR, Spanish to English NMT, and English TTS model."
   ]
  },
  {
   "cell_type": "markdown",
   "id": "efae20c9",
   "metadata": {},
   "source": [
    "### Riva Speech-to-Text Service\n",
    "\n",
    "The Riva S2T service supports models for the following language pairs:\n",
    "\n",
    "1. Spanish (es) to English (en)\n",
    "2. German (de), Spanish (es), French (fr) to English (en)\n",
    "3. Simplified Chinese (zh) to English (en)\n",
    "4. Russian (ru) to English (en)\n",
    "5. German (de) to English (en)\n",
    "6. French (fr) to English (en)\n",
    "\n",
    "Let's take an example of translating Spanish speech to English text."
   ]
  },
  {
   "cell_type": "markdown",
   "id": "91f90f20",
   "metadata": {},
   "source": [
    "#### Import the Riva client libraries\n",
    "\n",
    "Let's import some of the required libraries, including the Riva Client libraries."
   ]
  },
  {
   "cell_type": "code",
   "execution_count": null,
   "id": "aae416c4",
   "metadata": {},
   "outputs": [],
   "source": [
    "import IPython.display as ipd\n",
    "import numpy as np\n",
    "\n",
    "# Riva ASR client import\n",
    "import riva.client"
   ]
  },
  {
   "cell_type": "markdown",
   "id": "032d3c9d",
   "metadata": {},
   "source": [
    "#### Create a Riva client and connect to the Riva Speech API server\n",
    "\n",
    "The following URI assumes a local deployment of the Riva Speech API server is on the default port. In case the server deployment is on a different host or via a Helm chart on Kubernetes, use an appropriate URI."
   ]
  },
  {
   "cell_type": "code",
   "execution_count": null,
   "id": "96537ac8",
   "metadata": {},
   "outputs": [],
   "source": [
    "auth = riva.client.Auth(uri=\"localhost:50051\")\n",
    "\n",
    "# `NeuralMachineTranslationClient` is for sending requests to a server.\n",
    "riva_nmt_client = riva.client.NeuralMachineTranslationClient(auth)"
   ]
  },
  {
   "cell_type": "markdown",
   "id": "6815bff0-6ac9-41e4-88b5-a530f188d32f",
   "metadata": {},
   "source": [
    "#### Load Audio File\n",
    "\n",
    "Let's load up an audio file and create an audio chunk generator to simulate streaming input."
   ]
  },
  {
   "cell_type": "code",
   "execution_count": null,
   "id": "c3c08dba-0d01-4efd-8b36-479d924b1b79",
   "metadata": {},
   "outputs": [],
   "source": [
    "my_wav_file = \"./audio_samples/es-US_sample.wav\"\n",
    "output_device = None  # use default device\n",
    "\n",
    "wav_parameters = riva.client.get_wav_file_parameters(my_wav_file)\n",
    "audio_chunk_iterator = riva.client.AudioChunkFileIterator(\n",
    "    my_wav_file, chunk_n_frames=4800)"
   ]
  },
  {
   "cell_type": "markdown",
   "id": "0f65034d-0321-4467-aeaa-b2be069b8627",
   "metadata": {},
   "source": [
    "#### Define S2T Config\n",
    "\n",
    "The S2T config is composed using a sequence of Riva ASR and NMT configs."
   ]
  },
  {
   "cell_type": "code",
   "execution_count": null,
   "id": "f9a5a591-a3d4-4618-9103-fe8334e6c6b7",
   "metadata": {},
   "outputs": [],
   "source": [
    "s2t_config = riva.client.StreamingTranslateSpeechToTextConfig(\n",
    "        asr_config = riva.client.StreamingRecognitionConfig(\n",
    "            config=riva.client.RecognitionConfig(\n",
    "                encoding=riva.client.AudioEncoding.LINEAR_PCM,\n",
    "                language_code='es-US',    # Spanish ASR model\n",
    "                max_alternatives=1,\n",
    "                profanity_filter=False,\n",
    "                enable_automatic_punctuation=False,\n",
    "                verbatim_transcripts=not True,\n",
    "                sample_rate_hertz=16000,\n",
    "                audio_channel_count=1,\n",
    "            ),\n",
    "            interim_results=True,\n",
    "        ),\n",
    "        translation_config = riva.client.TranslationConfig(\n",
    "            source_language_code=\"es-US\",    # Transcript's language is Spanish\n",
    "            target_language_code='en-US',    # Target language is English\n",
    "        ),\n",
    "    )"
   ]
  },
  {
   "cell_type": "markdown",
   "id": "9af86b26",
   "metadata": {},
   "source": [
    "##### Make Riva ASR gRPC requests to the Riva Speech API server:"
   ]
  },
  {
   "cell_type": "code",
   "execution_count": null,
   "id": "60b3657f",
   "metadata": {},
   "outputs": [],
   "source": [
    "# Create a response object which takes the S2T config and audio iterator as arguments\n",
    "\n",
    "responses = riva_nmt_client.streaming_s2t_response_generator(\n",
    "            audio_chunks=audio_chunk_iterator,\n",
    "            streaming_config=s2t_config)"
   ]
  },
  {
   "cell_type": "markdown",
   "id": "2d309f93",
   "metadata": {},
   "source": [
    "##### Print streaming response"
   ]
  },
  {
   "cell_type": "code",
   "execution_count": null,
   "id": "9dce76cd",
   "metadata": {},
   "outputs": [],
   "source": [
    "# Generate chunks of audio and submit it to the S2T service to receive translations\n",
    "\n",
    "riva.client.print_streaming(responses, additional_info='time')"
   ]
  },
  {
   "cell_type": "markdown",
   "id": "6e2b14ec-af85-4b43-addd-c31a41716c81",
   "metadata": {},
   "source": [
    "As seen above, we generate a stream of translations, corresponding to the stream of transcripts generated by Riva ASR."
   ]
  },
  {
   "cell_type": "markdown",
   "id": "052b0741-1a8d-424e-9dec-667c7c79cdae",
   "metadata": {},
   "source": [
    "### Riva Speech-to-Speech service\n",
    "\n",
    "The Riva S2S service supports models for the following language pairs:\n",
    "\n",
    "1. Spanish (es) to English (en)\n",
    "2. German (de), Spanish (es), French (fr) to English (en)\n",
    "3. Simplified Chinese (zh) to English (en)\n",
    "4. Russian (ru) to English (en)\n",
    "5. German (de) to English (en)\n",
    "6. French (fr) to English (en)\n",
    "\n",
    "Let's take an example of translating Spanish speech to English speech."
   ]
  },
  {
   "cell_type": "markdown",
   "id": "0d124a2f-b58d-44fd-b3f9-93398f394120",
   "metadata": {},
   "source": [
    "#### Create a Riva client and connect to the Riva Speech API server\n",
    "\n",
    "The following URI assumes a local deployment of the Riva Speech API server is on the default port. In case the server deployment is on a different host or via a Helm chart on Kubernetes, use an appropriate URI."
   ]
  },
  {
   "cell_type": "code",
   "execution_count": null,
   "id": "4a5ce3f2-9587-4c9b-80b0-04fbce8cbbc0",
   "metadata": {},
   "outputs": [],
   "source": [
    "auth = riva.client.Auth(uri=\"localhost:50051\")\n",
    "\n",
    "# `NeuralMachineTranslationClient` is for sending requests to a server.\n",
    "riva_nmt_client = riva.client.NeuralMachineTranslationClient(auth)"
   ]
  },
  {
   "cell_type": "markdown",
   "id": "c7597644-33d4-4847-be4c-fff7a688d556",
   "metadata": {},
   "source": [
    "#### Load Audio File\n",
    "\n",
    "Let's load up an audio file and create an audio chunk generator to simulate streaming input."
   ]
  },
  {
   "cell_type": "code",
   "execution_count": null,
   "id": "4a824896-4e35-464a-b49f-5904ddd22132",
   "metadata": {},
   "outputs": [],
   "source": [
    "my_wav_file = \"./audio_samples/es-US_sample.wav\"\n",
    "output_device = None  # use default device\n",
    "\n",
    "wav_parameters = riva.client.get_wav_file_parameters(my_wav_file)\n",
    "audio_chunk_iterator = riva.client.AudioChunkFileIterator(\n",
    "    my_wav_file, chunk_n_frames=4800)"
   ]
  },
  {
   "cell_type": "markdown",
   "id": "a287fac0-1308-42c4-9237-39adb40d6447",
   "metadata": {},
   "source": [
    "#### Define S2S Config\n",
    "\n",
    "The S2S config is composed using a sequence of Riva ASR, NMT and TTS configs."
   ]
  },
  {
   "cell_type": "code",
   "execution_count": null,
   "id": "ad0c1a65-d11f-401f-a417-717f0824b3b2",
   "metadata": {},
   "outputs": [],
   "source": [
    "s2s_config = riva.client.StreamingTranslateSpeechToTextConfig(\n",
    "            asr_config = riva.client.StreamingRecognitionConfig(\n",
    "            config=riva.client.RecognitionConfig(\n",
    "                encoding=riva.client.AudioEncoding.LINEAR_PCM,\n",
    "                language_code='es-US',    # Spanish ASR model\n",
    "                max_alternatives=1,\n",
    "                profanity_filter=False,\n",
    "                enable_automatic_punctuation=False,\n",
    "                verbatim_transcripts=not True,\n",
    "                sample_rate_hertz=16000,\n",
    "                audio_channel_count=1,\n",
    "            ),\n",
    "            interim_results=True,\n",
    "        ),\n",
    "        translation_config = riva.client.TranslationConfig(\n",
    "            source_language_code=\"es-US\",    # Transcript's language is Spanish\n",
    "            target_language_code='en-US',    # Target language is English\n",
    "        ),\n",
    "        tts_config = riva.client.SynthesizeSpeechConfig(\n",
    "            encoding=1,\n",
    "            sample_rate_hz=44100,\n",
    "            voice_name=\"English-US.Female-1\",    # English Female voice\n",
    "            language_code=\"en-US\",\n",
    "        ),\n",
    "    )"
   ]
  },
  {
   "cell_type": "markdown",
   "id": "2f95b32b-9a56-40c3-a75a-6e2241ad6c69",
   "metadata": {},
   "source": [
    "##### Make Riva ASR gRPC requests to the Riva Speech API server:"
   ]
  },
  {
   "cell_type": "code",
   "execution_count": null,
   "id": "568344fe-1d88-4fcf-9efd-3eea7e952dff",
   "metadata": {},
   "outputs": [],
   "source": [
    "# Create a response object which takes the S2S config and audio iterator as arguments\n",
    "\n",
    "responses = riva_nmt_client.streaming_s2s_response_generator(\n",
    "            audio_chunks=audio_chunk_iterator,\n",
    "            streaming_config=s2s_config)"
   ]
  },
  {
   "cell_type": "markdown",
   "id": "92f48f75-63a4-4f12-815b-f3820736e1d8",
   "metadata": {},
   "source": [
    "##### Listen streaming response"
   ]
  },
  {
   "cell_type": "code",
   "execution_count": null,
   "id": "0066847f-a831-4ba8-a242-cabd4079eae3",
   "metadata": {},
   "outputs": [],
   "source": [
    "# Create an empty array to store the receiving audio buffer\n",
    "\n",
    "empty = np.array([])\n",
    "\n",
    "# Send requests and listen to streaming response from the S2S service\n",
    "for i, rep in enumerate(responses):\n",
    "    audio_samples = np.frombuffer(rep.speech.audio, dtype=np.int16) / (2**15)\n",
    "    print(\"Chunk: \",i)\n",
    "    ipd.display(ipd.Audio(audio_samples, rate=44100))\n",
    "    empty = np.concatenate((empty, audio_samples))\n",
    "\n",
    "# Full translated synthesized speech\n",
    "print(\"Final synthesis:\")\n",
    "ipd.display(ipd.Audio(empty, rate=44100))"
   ]
  },
  {
   "cell_type": "markdown",
   "id": "e6d52b7d-1d8c-432f-bfed-886968825af4",
   "metadata": {},
   "source": [
    "As seen above, we synthesize stream of speech, corresponding to the stream of transcripts generated by Riva ASR. This speech might be intermediate or complete sentence translations, depending on the sentence boundaries in the audio. "
   ]
  }
 ],
 "metadata": {
  "kernelspec": {
   "display_name": "Python 3 (ipykernel)",
   "language": "python",
   "name": "python3"
  },
  "language_info": {
   "codemirror_mode": {
    "name": "ipython",
    "version": 3
   },
   "file_extension": ".py",
   "mimetype": "text/x-python",
   "name": "python",
   "nbconvert_exporter": "python",
   "pygments_lexer": "ipython3",
   "version": "3.10.11"
  }
 },
 "nbformat": 4,
 "nbformat_minor": 5
}
