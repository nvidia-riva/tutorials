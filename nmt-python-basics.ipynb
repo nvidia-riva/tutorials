{
 "cells": [
  {
   "cell_type": "markdown",
   "id": "cc4b19f9",
   "metadata": {},
   "source": [
    "<img src=\"http://developer.download.nvidia.com/compute/machine-learning/frameworks/nvidia_logo.png\" style=\"width: 90px; float: right;\">\n",
    "\n",
    "# How do I perform Language Translation using Riva NMT APIs with out-of-the-box models?\n",
    "\n",
    "This tutorial walks you through the basics of using Riva Neural Machine Translation (NMT) Services, specifically covering how to use Riva NMT APIs with out-of-the-box models. We will also cover pipelining Riva Automated Speech Recognition (ASR) and Neural Machine Translation (NMT) APIs."
   ]
  },
  {
   "cell_type": "markdown",
   "id": "8a318e75",
   "metadata": {},
   "source": [
    "## NVIDIA Riva Overview\n",
    "\n",
    "NVIDIA Riva is a GPU-accelerated SDK for building Speech AI applications that are customized for your use case and deliver real-time performance. <br/>\n",
    "Riva offers a rich set of speech and natural language understanding services such as:\n",
    "\n",
    "- Automated speech recognition (ASR)\n",
    "- Text-to-Speech synthesis (TTS)\n",
    "- Neural Machine Translation (NMT)\n",
    "- A collection of natural language processing (NLP) services, such as named entity recognition (NER), punctuation, intent classification.\n",
    "\n",
    "In this tutorial, we will interact with the Neural Machine Translation (NMT) APIs. We will also cover pipelining Riva ASR and NMT APIs.\n",
    "\n",
    "For more information about Riva, refer to the [Riva developer documentation](https://developer.nvidia.com/riva)."
   ]
  },
  {
   "cell_type": "markdown",
   "id": "2a798ada",
   "metadata": {},
   "source": [
    "## Introduction to Language Translation with Riva NMT\n",
    "\n",
    "Riva Neural machine translation (NMT) is a framework for machine translation based on neural networks. NMT translates text between language pairs, that is, from one language to another. For example, we want a machine to translate text in one language (we call this the source language), to corresponding text in another language (we call this the target language).  \n",
    "\n",
    "Riva NMT EA offers multiple models for Machine Translation. These models fall into two model architectures:\n",
    "1. **Multilingual models** support translating from one source language to multiple target languages or vice-versa. For example, the `mnmt_en_deesfr_transformer24x6` model can be used to translate from English to German, Spanish, and French. Multilingual models have several language codes in their name. Use a multilingual model if you need to support multiple languages or if you want to optimize resource utlization since you can translate along multiple language pairs without loading multiple models. Running multilingual models prevents loading multiple models, therefore, preventing overhead. By default, use 24x6 multilingual models. You can use 12x2 instead of a 24x6 multilingual model if you need to reduce the resource consumption even further and can accept a bit of translation quality degradation.  \n",
    "Please note that Multilingual models will be added to Riva NMT EA in a future release.\n",
    "2. **Bilingual models** are used for translation from one source language to another target language. For example, the `en_de_24x6` model can be used to translate from English to Russian. Bilingual models have a single pair of language codes in their name. Use a bilingual model when you want the best possible performance for a specific language pair direction. Running bilingual models produces faster results compared to running multilingual models. \n",
    "\n",
    "To learn more about Riva NMT, refer to the Riva NMT EA documentation.  \n",
    "For more information about the NMT model architecture and training, refer to the [NeMo NMT documentation](https://docs.nvidia.com/deeplearning/nemo/user-guide/docs/en/stable/nlp/machine_translation.html)."
   ]
  },
  {
   "cell_type": "markdown",
   "id": "b6272b19",
   "metadata": {},
   "source": [
    "<a id='nmt_language_pairs_supported'></a>\n",
    "### Language Pairs Supported:  \n",
    "The below table lists models for all the language pairs supported by NVIDIA Riva Speech Skills NMT service.  \n",
    "The table also provides the language codes, the model name in Riva Quick Start Guide's `config.sh` file, and the corresponding model name specified during API call - We will be getting into more details later in this tutorial  \n",
    "\n",
    "| Language Pair | Model name in `config.sh` | Model name specified during API call |\n",
    "| ---- | --- | --- |\n",
    "| English (`en`) to Simplified Chinese (`zh`) | `rmir_en_zh_24x6` | `en_zh_24x6` |\n",
    "| Simplified Chinese (`zh`) to English (`en`) | `rmir_zh_en_24x6` | `zh_en_24x6` |\n",
    "| English (`en`) to Russian (`ru`) | `rmir_en_ru_24x6` | `en_ru_24x6` |\n",
    "| Russian (`ru`) to English (`en`) | `rmir_ru_en_24x6` | `ru_en_24x6` |\n",
    "| English (`en`) to German (`de`) | `rmir_en_de_24x6` | `en_de_24x6` |\n",
    "| German (`de`) to English (`en`) | `rmir_de_en_24x6` | `de_en_24x6` |\n",
    "| English (`en`) to Spanish (`es`) | `rmir_en_es_24x6` | `en_es_24x6` |\n",
    "| Spanish (`es`) to English (`en`) | `rmir_es_en_24x6` | `es_en_24x6` |\n",
    "| English (`en`) to French (`fr`) | `rmir_en_fr_24x6` | `en_fr_24x6` |\n",
    "| French (`fr`) to English (`en`) | `rmir_fr_en_24x6` | `fr_en_24x6` |"
   ]
  },
  {
   "cell_type": "markdown",
   "id": "3649e32b",
   "metadata": {},
   "source": [
    "#### Requirements and setup\n",
    "\n",
    "1. Start the Riva Speech Skills server.  \n",
    "To use the Riva NMT models, we first need to deploy them on the Riva Speech Skills server. Follow the instructions in the Riva Quick Start Guide to deploy the OOTB NMT models on the Riva Speech Skills server before running this tutorial.  \n",
    "Note: For this tutorial, please deploy the `English (en) to French (fr)` and `German (de) to English (en)` models - The model names corresponding to these language pairs in the Riva Quick Start Guide's `config.sh` can be found in the [table above](#nmt_language_pairs_supported).\n",
    "We also need to deploy the German (language code `de-DE`) ASR model, instructions for which can be found in `config.sh` itself, as the latter section of this tutorial will cover pipelining ASR and NMT.  \n",
    "<br>\n",
    "<br>\n",
    "2. Install the Riva Client library.   \n",
    "Follow the steps in the 'Running the Riva Client' in the Riva NMT EA Tutorials' [Overview section](https://ngc.nvidia.com/resources/riem1phmzvud:riva:riva_nmt_ea_tutorials) or [README.md](https://ngc.nvidia.com/resources/riem1phmzvud:riva:riva_nmt_ea_tutorials/files?version=2.2.0-ea) to install the Riva Client library.  \n",
    "<br>\n",
    "<br>\n",
    "3. Install additional libraries needed to run this tutorial.  "
   ]
  },
  {
   "cell_type": "code",
   "execution_count": null,
   "id": "6d81fe43",
   "metadata": {},
   "outputs": [],
   "source": [
    "!apt-get install python3-dev"
   ]
  },
  {
   "cell_type": "code",
   "execution_count": null,
   "id": "faf53dab",
   "metadata": {
    "scrolled": false
   },
   "outputs": [],
   "source": [
    "''' \n",
    "Install Pyaudio. portaudio19-dev is a prerequisite for Pyaudio.\n",
    "'''\n",
    "!apt-get update && apt-get install -y python3-pyaudio portaudio19-dev\n",
    "!python -m pip install pyaudio\n",
    "# If you run into errors running apt-get commands through Jupyter notebook, run this command directly on your local machine's terminal. You might need sudo access to run this command.\n",
    "# For alternate options to install PyAudio, please refer to PyAudio documentation - https://people.csail.mit.edu/hubert/pyaudio/\n",
    "\n",
    "'''\n",
    "Install librosa.\n",
    "'''\n",
    "!apt-get update && apt-get install -y libsndfile1\n",
    "# If you run into errors running apt-get commands through Jupyter notebook, run this command directly on your local machine's terminal. You might need sudo access to run this command.\n",
    "!python -m pip install librosa\n",
    "\n",
    "'''\n",
    "Install nltk\n",
    "'''\n",
    "!python -m pip install nltk"
   ]
  },
  {
   "cell_type": "markdown",
   "id": "6a2c040d",
   "metadata": {},
   "source": [
    "## Language Translation with Riva NMT APIs\n",
    "\n",
    "Now, let's generate language translations using Riva APIs, with an OOTB models."
   ]
  },
  {
   "cell_type": "markdown",
   "id": "bb49aa96",
   "metadata": {},
   "source": [
    "#### Import the Riva client libraries"
   ]
  },
  {
   "cell_type": "code",
   "execution_count": null,
   "id": "e2ef7878",
   "metadata": {},
   "outputs": [],
   "source": [
    "import riva.client"
   ]
  },
  {
   "cell_type": "markdown",
   "id": "d4e4097a",
   "metadata": {},
   "source": [
    "#### Create a Riva client and connect to the Riva Speech API server\n",
    "\n",
    "The following URI assumes a local deployment of the Riva Speech API server is on the default port. In case the server deployment is on a different host or via a Helm chart on Kubernetes, use an appropriate URI."
   ]
  },
  {
   "cell_type": "code",
   "execution_count": null,
   "id": "e4788943",
   "metadata": {},
   "outputs": [],
   "source": [
    "# `Auth` class wraps a gRPC channel.\n",
    "auth = riva.client.Auth(uri='localhost:50051')\n",
    "\n",
    "# `NeuralMachineTranslationClient` is for sending requests to a server.\n",
    "riva_nmt_client = riva.client.NeuralMachineTranslationClient(auth)"
   ]
  },
  {
   "cell_type": "markdown",
   "id": "90b91aa2",
   "metadata": {},
   "source": [
    "#### Make a gRPC request to the Riva Speech API server \n",
    "\n",
    "##### Inference with Bilingual NMT model:\n",
    "\n",
    "Now, let's make a gRPC request to the Riva Speech server's Bilingual NMT model `rmir_en_fr_24x6` for translation from source_language, English (`en`) to target_language, French (`fr`)."
   ]
  },
  {
   "cell_type": "code",
   "execution_count": null,
   "id": "455c17f8",
   "metadata": {},
   "outputs": [],
   "source": [
    "eng_text = (\n",
    "    \"Molecular Biology is the field of biology that studies the composition, structure \"\n",
    "    \"and interactions of cellular molecules – such as nucleic acids and proteins – that \"\n",
    "    \"carry out the biological processes essential for the cell's functions and maintenance.\"\n",
    ")\n",
    "model_name = 'en_fr_24x6'\n",
    "source_language = 'en'\n",
    "target_language = 'fr'"
   ]
  },
  {
   "cell_type": "markdown",
   "id": "c4a5110e",
   "metadata": {},
   "source": [
    "To learn more about `NeuralMachineTranslationClient`, refer to the corresponding [docstring](https://github.com/nvidia-riva/python-clients/blob/db77d1038dff5d2fcbb7bf9e96f8c1ef280710cc/riva/client/nmt.py#L13).  \n",
    "\n",
    "Now we submit the request to the server."
   ]
  },
  {
   "cell_type": "code",
   "execution_count": null,
   "id": "c203a002",
   "metadata": {},
   "outputs": [],
   "source": [
    "response = riva_nmt_client.translate([eng_text], model_name, source_language, target_language)\n",
    "# response.translations is a list of all translations - Each entry corresponds to the \n",
    "# corresponding entry in the texts attribute of TranslateTextRequest (nmt_request.texts) from above.\n",
    "\n",
    "print(\"English Text: \", eng_text)\n",
    "# Fetch the translated text from the 1st entry of response.translations\n",
    "print(\"Translated French Text: \", response.translations[0].text)"
   ]
  },
  {
   "cell_type": "markdown",
   "id": "11a52991",
   "metadata": {},
   "source": [
    "<br>\n",
    "Let us look at another example showing how the Riva Speech server's Bilingual NMT model `rmir_de_en_24x6` for translation from source_language, German (`de`) to target_language, English (`en`)."
   ]
  },
  {
   "cell_type": "code",
   "execution_count": null,
   "id": "761c09fb",
   "metadata": {},
   "outputs": [],
   "source": [
    "german_text = (\n",
    "    \"Molekularbiologie ist das Gebiet der Biologie, das die Zusammensetzung, Struktur \"\n",
    "    \"und Wechselwirkungen von Zellmolekülen – wie Nukleinsäuren und Proteinen – \"\n",
    "    \"untersucht, die die biologischen Prozesse ausführen, die für die Funktionen \"\n",
    "    \"und den Erhalt der Zelle unerlässlich sind.\"\n",
    ")\n",
    "model_name = 'de_en_24x6'\n",
    "source_language = 'de'\n",
    "target_language = 'en'\n",
    "\n",
    "response = riva_nmt_client.translate([german_text], model_name, source_language, target_language)\n",
    "print(\"Response Object from the Riva Server: \", response, \"\\n\")\n",
    "\n",
    "print(\"German Text: \", german_text)\n",
    "print(\"Translated English Text: \", response.translations[0].text)"
   ]
  },
  {
   "cell_type": "markdown",
   "id": "c4c0d009",
   "metadata": {},
   "source": [
    "##### Riva NMT APIs - Handling large input text:\n",
    "\n",
    "Riva NMT API has a maximum input token limit of 512 tokens. If an input larger than 512 tokens is provided, the NMT API doesn't return the complete transcription:"
   ]
  },
  {
   "cell_type": "code",
   "execution_count": null,
   "id": "2e50e5ea",
   "metadata": {
    "scrolled": true
   },
   "outputs": [],
   "source": [
    "eng_text = \"\"\"\n",
    "The effects of climate change span the impacts on physical environment, ecosystems and human societies due to ongoing human-caused climate change. The future impact of climate change depends on how much nations reduce greenhouse gas emissions and adapt to climate change. Effects that scientists predicted in the past—loss of sea ice, accelerated sea level rise and longer, more intense heat waves—are now occurring. The changes in climate are not expected to be uniform across the Earth. In particular, land areas change more quickly than oceans, and northern high latitudes change more quickly than the tropics. There are three major ways in which global warming will make changes to regional climate: melting ice, changing the hydrological cycle (of evaporation and precipitation) and changing currents in the oceans.\n",
    "Physical changes include extreme weather, glacier retreat, sea level rise, declines in Arctic sea ice, and changes in the timing of seasonal events (such as earlier spring flowering). Since 1970, the ocean has absorbed more than 90% of the excess heat in the climate system. Even if global surface temperature is stabilized, sea levels will continue to rise and the ocean will continue to absorb excess heat from the atmosphere for many centuries. The uptake of carbon dioxide from the atmosphere is leading to ocean acidification.\n",
    "Climate change has degraded land by raising temperatures, drying soils and increasing wildfire risk. Recent warming has strongly affected natural biological systems. Species worldwide are migrating poleward to colder areas. On land, species move to higher elevations, whereas marine species find colder water at greater depths. Between 1% and 50% of species on land were assessed to be at substantially higher risk of extinction due to climate change. Coral reefs and shellfish are vulnerable to the combined threat of ocean warming and acidification.\n",
    "Food security and access to fresh water are at risk due to rising temperatures. Climate change has profound impacts on human health, directly via heat stress and indirectly via the spread of infectious diseases.\n",
    "The effects of climate change span the impacts on physical environment, ecosystems and human societies due to ongoing human-caused climate change. The future impact of climate change depends on how much nations reduce greenhouse gas emissions and adapt to climate change. Effects that scientists predicted in the past—loss of sea ice, accelerated sea level rise and longer, more intense heat waves—are now occurring. The changes in climate are not expected to be uniform across the Earth. In particular, land areas change more quickly than oceans, and northern high latitudes change more quickly than the tropics. There are three major ways in which global warming will make changes to regional climate: melting ice, changing the hydrological cycle (of evaporation and precipitation) and changing currents in the oceans.\n",
    "Physical changes include extreme weather, glacier retreat, sea level rise, declines in Arctic sea ice, and changes in the timing of seasonal events (such as earlier spring flowering). Since 1970, the ocean has absorbed more than 90% of the excess heat in the climate system. Even if global surface temperature is stabilized, sea levels will continue to rise and the ocean will continue to absorb excess heat from the atmosphere for many centuries. The uptake of carbon dioxide from the atmosphere is leading to ocean acidification.\n",
    "Climate change has degraded land by raising temperatures, drying soils and increasing wildfire risk. Recent warming has strongly affected natural biological systems. Species worldwide are migrating poleward to colder areas. On land, species move to higher elevations, whereas marine species find colder water at greater depths. Between 1% and 50% of species on land were assessed to be at substantially higher risk of extinction due to climate change. Coral reefs and shellfish are vulnerable to the combined threat of ocean warming and acidification.\n",
    "Food security and access to fresh water are at risk due to rising temperatures. Climate change has profound impacts on human health, directly via heat stress and indirectly via the spread of infectious diseases.\n",
    "The effects of climate change span the impacts on physical environment, ecosystems and human societies due to ongoing human-caused climate change. The future impact of climate change depends on how much nations reduce greenhouse gas emissions and adapt to climate change. Effects that scientists predicted in the past—loss of sea ice, accelerated sea level rise and longer, more intense heat waves—are now occurring. The changes in climate are not expected to be uniform across the Earth. In particular, land areas change more quickly than oceans, and northern high latitudes change more quickly than the tropics. There are three major ways in which global warming will make changes to regional climate: melting ice, changing the hydrological cycle (of evaporation and precipitation) and changing currents in the oceans.\n",
    "Physical changes include extreme weather, glacier retreat, sea level rise, declines in Arctic sea ice, and changes in the timing of seasonal events (such as earlier spring flowering). Since 1970, the ocean has absorbed more than 90% of the excess heat in the climate system. Even if global surface temperature is stabilized, sea levels will continue to rise and the ocean will continue to absorb excess heat from the atmosphere for many centuries. The uptake of carbon dioxide from the atmosphere is leading to ocean acidification.\n",
    "Climate change has degraded land by raising temperatures, drying soils and increasing wildfire risk. Recent warming has strongly affected natural biological systems. Species worldwide are migrating poleward to colder areas. On land, species move to higher elevations, whereas marine species find colder water at greater depths. Between 1% and 50% of species on land were assessed to be at substantially higher risk of extinction due to climate change. Coral reefs and shellfish are vulnerable to the combined threat of ocean warming and acidification.\n",
    "Food security and access to fresh water are at risk due to rising temperatures. Climate change has profound impacts on human health, directly via heat stress and indirectly via the spread of infectious diseases.\n",
    "The effects of climate change span the impacts on physical environment, ecosystems and human societies due to ongoing human-caused climate change. The future impact of climate change depends on how much nations reduce greenhouse gas emissions and adapt to climate change. Effects that scientists predicted in the past—loss of sea ice, accelerated sea level rise and longer, more intense heat waves—are now occurring. The changes in climate are not expected to be uniform across the Earth. In particular, land areas change more quickly than oceans, and northern high latitudes change more quickly than the tropics. There are three major ways in which global warming will make changes to regional climate: melting ice, changing the hydrological cycle (of evaporation and precipitation) and changing currents in the oceans.\n",
    "Physical changes include extreme weather, glacier retreat, sea level rise, declines in Arctic sea ice, and changes in the timing of seasonal events (such as earlier spring flowering). Since 1970, the ocean has absorbed more than 90% of the excess heat in the climate system. Even if global surface temperature is stabilized, sea levels will continue to rise and the ocean will continue to absorb excess heat from the atmosphere for many centuries. The uptake of carbon dioxide from the atmosphere is leading to ocean acidification.\n",
    "Climate change has degraded land by raising temperatures, drying soils and increasing wildfire risk. Recent warming has strongly affected natural biological systems. Species worldwide are migrating poleward to colder areas. On land, species move to higher elevations, whereas marine species find colder water at greater depths. Between 1% and 50% of species on land were assessed to be at substantially higher risk of extinction due to climate change. Coral reefs and shellfish are vulnerable to the combined threat of ocean warming and acidification.\n",
    "Food security and access to fresh water are at risk due to rising temperatures. Climate change has profound impacts on human health, directly via heat stress and indirectly via the spread of infectious diseases.\n",
    "\"\"\"\n",
    "model_name = 'en_fr_24x6'\n",
    "source_language = 'en'\n",
    "target_language = 'fr'\n",
    "\n",
    "response = riva_nmt_client.translate([eng_text], model_name, source_language, target_language)\n",
    "print(\"English Text: \", eng_text)\n",
    "print(\"Translated French Text: \", response.translations[0].text)"
   ]
  },
  {
   "cell_type": "markdown",
   "id": "49f97306",
   "metadata": {},
   "source": [
    "As can be seen above, the translated French text cuts off after 512 tokens of the input English text.  \n",
    "<br>\n",
    "The best way to handle such large input texts is to split the input text and send these as list of text to the NMT API:   \n",
    "Unfortunately there is currently no precise way to find the number of tokens in input text. From WMT test sets, on average across multiple sentences and models, 1 token maps to 1.2 characters (This is just provided as an estimate and the mapping can vary significantly based on the model/sentence pair). Based on this estimate, we should keep size of input text per API call to less than 615 characters (512 * 1.2). We also need to ensure that we respect sentence boundaries while splitting text.  \n",
    "Let us look at example on how to handle large text translation."
   ]
  },
  {
   "cell_type": "code",
   "execution_count": null,
   "id": "ccfa8b1c",
   "metadata": {},
   "outputs": [],
   "source": [
    "import nltk\n",
    "nltk.download('punkt')\n",
    "\n",
    "from nltk import tokenize\n",
    "\n",
    "def nmt_large_text_split(input_text, max_chars = 615):\n",
    "    \"\"\"Function to split large input text\"\"\"\n",
    "    \n",
    "    def nmt_text_split_sentence_splitter(sentence_text, max_chars):\n",
    "        \"\"\"Function to split a sentence while respecting word boundaries, if sentence length > max_chars\"\"\"\n",
    "        sentence_splits = []\n",
    "        if len(sentence_text) > max_chars:\n",
    "            words = sentence_text.split()\n",
    "            for word in words:\n",
    "                if len(sentence_splits) > 0 and (len(sentence_splits[-1]) + len(word) <= max_chars):\n",
    "                    sentence_splits[-1] += word\n",
    "                else:\n",
    "                    sentence_splits.append(word)\n",
    "        else:\n",
    "            sentence_splits.append(sentence_text)\n",
    "        return sentence_splits\n",
    "    \n",
    "    # 1. Split the input text into sentences \n",
    "    sentences = tokenize.sent_tokenize(input_text) # nltk.tokenize is the best way to split large text into sentences.\n",
    "    \n",
    "    # 2. Add input text to nmt_input_texts, ensuring no entry is greater than max_chars\n",
    "    nmt_input_texts = []\n",
    "    for i in range(len(sentences)):\n",
    "        # 2.1. Split sentence if sentence length > max_chars, and update sentences \n",
    "        sentence_splits = nmt_text_split_sentence_splitter(sentences[i], max_chars)\n",
    "        sentences = sentences[:i] + sentence_splits + sentences[i+1:]\n",
    "        # 2.2. Adding entry to nmt_input_texts        \n",
    "        if len(nmt_input_texts) > 0 and (len(nmt_input_texts[-1]) + len(sentences[i]) <= max_chars):\n",
    "            nmt_input_texts[-1] += sentences[i]\n",
    "        else:\n",
    "            nmt_input_texts.append(sentences[i])    \n",
    "    return nmt_input_texts\n",
    "    \n",
    "\n",
    "eng_text = \"\"\"\n",
    "The effects of climate change span the impacts on physical environment, ecosystems and human societies due to ongoing human-caused climate change. The future impact of climate change depends on how much nations reduce greenhouse gas emissions and adapt to climate change. Effects that scientists predicted in the past—loss of sea ice, accelerated sea level rise and longer, more intense heat waves—are now occurring. The changes in climate are not expected to be uniform across the Earth. In particular, land areas change more quickly than oceans, and northern high latitudes change more quickly than the tropics. There are three major ways in which global warming will make changes to regional climate: melting ice, changing the hydrological cycle (of evaporation and precipitation) and changing currents in the oceans.\n",
    "Physical changes include extreme weather, glacier retreat, sea level rise, declines in Arctic sea ice, and changes in the timing of seasonal events (such as earlier spring flowering). Since 1970, the ocean has absorbed more than 90% of the excess heat in the climate system. Even if global surface temperature is stabilized, sea levels will continue to rise and the ocean will continue to absorb excess heat from the atmosphere for many centuries. The uptake of carbon dioxide from the atmosphere is leading to ocean acidification.\n",
    "Climate change has degraded land by raising temperatures, drying soils and increasing wildfire risk. Recent warming has strongly affected natural biological systems. Species worldwide are migrating poleward to colder areas. On land, species move to higher elevations, whereas marine species find colder water at greater depths. Between 1% and 50% of species on land were assessed to be at substantially higher risk of extinction due to climate change. Coral reefs and shellfish are vulnerable to the combined threat of ocean warming and acidification.\n",
    "Food security and access to fresh water are at risk due to rising temperatures. Climate change has profound impacts on human health, directly via heat stress and indirectly via the spread of infectious diseases.\n",
    "\"\"\"\n",
    "model_name = 'en_fr_24x6'\n",
    "source_language = 'en'\n",
    "target_language = 'fr'\n",
    "\n",
    "parts = nmt_large_text_split(eng_text)\n",
    "\n",
    "response = riva_nmt_client.translate(parts, model_name, source_language, target_language)\n",
    "\n",
    "print(\"English Text:\\n\", eng_text)\n",
    "print(\"Translated French Text:\\n\")\n",
    "for i, translation in enumerate(response.translations):\n",
    "    print(translation.text)"
   ]
  },
  {
   "cell_type": "markdown",
   "id": "3b6ee414",
   "metadata": {},
   "source": [
    "<div class=\"alert alert-block alert-warning\">\n",
    "WARNING: Please take into account that you cannot pass more than 8 texts to the model. If you pass more than 8 inputs, then the response will be empty.\n",
    "</div>"
   ]
  },
  {
   "cell_type": "markdown",
   "id": "c9e30bd0",
   "metadata": {},
   "source": [
    "## Pipelining Riva ASR and Riva NMT APIs\n",
    "\n",
    "Automated Speech Recognition (ASR) takes an audio stream or audio buffer as input and returns one or more text transcripts, along with additional optional metadata. Speech recognition in Riva is a GPU-accelerated compute pipeline, with optimized performance and accuracy.  \n",
    "Riva provides state-of-the-art OOTB (out-of-the-box) models and pipelines for multiple languages, like English, Spanish, German, Russian and Mandarin, that can be easily deployed with the Riva Quick Start Scripts. Riva also supports easy customization of the ASR pipeline, in various ways, to meet your specific needs.  \n",
    "Refer to the [Riva ASR documentation](https://docs.nvidia.com/deeplearning/riva/user-guide/docs/asr/asr-overview.html) for more information. For examples on how to use Riva ASR APIs, refer to the [Riva tutorials repository](https://github.com/nvidia-riva/tutorials).  \n",
    "\n",
    "In this section, let us look at examples showing how to directly generate translations from audio, by pipelining Riva ASR and Riva NMT APIs."
   ]
  },
  {
   "cell_type": "markdown",
   "id": "efae20c9",
   "metadata": {},
   "source": [
    "### Pipelining Riva ASR Offline APIs and Riva NMT APIs\n",
    "\n",
    "Riva ASR can be used in either streaming mode or offline mode. In streaming mode, a continuous stream of audio is captured and recognized, producing a stream of transcribed text. In offline mode, an audio clip of a set length is transcribed to text.  \n",
    "<br>\n",
    "Let us start with an example showing pipeling Riva ASR Offline APIs with Riva NMT APIs."
   ]
  },
  {
   "cell_type": "markdown",
   "id": "91f90f20",
   "metadata": {},
   "source": [
    "#### Import the Riva client libraries\n",
    "\n",
    "Let's import some of the required libraries, including the Riva Client libraries."
   ]
  },
  {
   "cell_type": "code",
   "execution_count": null,
   "id": "aae416c4",
   "metadata": {},
   "outputs": [],
   "source": [
    "import io\n",
    "import IPython.display as ipd\n",
    "\n",
    "# Riva ASR client import\n",
    "import riva.client"
   ]
  },
  {
   "cell_type": "markdown",
   "id": "032d3c9d",
   "metadata": {},
   "source": [
    "#### Create a Riva client and connect to the Riva Speech API server\n",
    "\n",
    "The following URI assumes a local deployment of the Riva Speech API server is on the default port. In case the server deployment is on a different host or via a Helm chart on Kubernetes, use an appropriate URI."
   ]
  },
  {
   "cell_type": "code",
   "execution_count": null,
   "id": "96537ac8",
   "metadata": {},
   "outputs": [],
   "source": [
    "auth = riva.client.Auth(uri=\"localhost:50051\")\n",
    "\n",
    "asr_service = riva.client.ASRService(auth)\n",
    "riva_nmt_client = riva.client.NeuralMachineTranslationClient(auth)"
   ]
  },
  {
   "cell_type": "markdown",
   "id": "f93b6b13",
   "metadata": {},
   "source": [
    "#### Pipeline Riva ASR and NMT\n",
    "\n",
    "Now, let's pipeline Riva ASR and NMT APIs:  \n",
    "First, we apply ASR to a German `.wav` file in offline mode.  \n",
    "Next, we apply NMT model `de_en_24x6` for translation from source_language, German (`de`) to target_language, English (`en`), to the German transcript, obtained from the Riva ASR call."
   ]
  },
  {
   "cell_type": "markdown",
   "id": "9af86b26",
   "metadata": {},
   "source": [
    "##### Make Riva ASR gRPC requests to the Riva Speech API server:"
   ]
  },
  {
   "cell_type": "code",
   "execution_count": null,
   "id": "60b3657f",
   "metadata": {},
   "outputs": [],
   "source": [
    "'''\n",
    "Start by loading the audio.\n",
    "'''\n",
    "# This example uses a .wav file with LINEAR_PCM encoding.\n",
    "# read in an audio file from local disk\n",
    "my_wav_file = \"./audio_samples/de-DE_sample.wav\"\n",
    "with open(my_wav_file, 'rb') as fh:\n",
    "    data = fh.read()\n",
    "\n",
    "offline_config = riva.client.RecognitionConfig(enable_automatic_punctuation=True, language_code='de-DE', max_alternatives=1)\n",
    "riva.client.add_audio_file_specs_to_config(offline_config, my_wav_file)\n",
    "\n",
    "response = asr_service.offline_recognize(data, offline_config)\n",
    "asr_best_transcript = response.results[0].alternatives[0].transcript\n",
    "print(\"German ASR Transcript:\", asr_best_transcript)"
   ]
  },
  {
   "cell_type": "markdown",
   "id": "2d309f93",
   "metadata": {},
   "source": [
    "##### Make Riva NMT gRPC requests to the Riva Speech API server:"
   ]
  },
  {
   "cell_type": "code",
   "execution_count": null,
   "id": "9dce76cd",
   "metadata": {},
   "outputs": [],
   "source": [
    "'''\n",
    "We start by creating the `TranslateTextRequest` object, setting the configuration parameters as required.\n",
    "'''\n",
    "german_text = asr_best_transcript\n",
    "\n",
    "'''\n",
    "Now we submit the request to the server.\n",
    "'''\n",
    "response = riva_nmt_client.translate([german_text], 'de_en_24x6', 'de', 'en')\n",
    "print(\"Translated English Text: \", response.translations[0].text)"
   ]
  },
  {
   "cell_type": "markdown",
   "id": "4cc69e6b",
   "metadata": {},
   "source": [
    "### Pipelining Riva ASR Streaming APIs and Riva NMT APIs\n",
    "\n",
    "Now, let us look at an example showing pipeling Riva ASR Streaming APIs with Riva NMT APIs.  \n",
    "\n",
    "Riva ASR's Streaming APIs generate transcription as they recieve the streaming chunks of audio, leading to a stream of transcripts. The stream of transcripts represent the intermediate transcription of the audio that has been recieved so far. Once the sentence boundary is detected in the audio, the corresponding transcript can be considered as the complete transcript for that sentence.  \n",
    "When pipelining Riva Streaming ASR with Riva NMT, we will generate translations for the complete sentence transcript, as well as the intermediate transcripts."
   ]
  },
  {
   "cell_type": "markdown",
   "id": "da429c74",
   "metadata": {},
   "source": [
    "#### Import the Riva client libraries\n",
    "\n",
    "Let's import some of the required libraries, including the Riva Client libraries."
   ]
  },
  {
   "cell_type": "code",
   "execution_count": null,
   "id": "f9f0f7cf",
   "metadata": {},
   "outputs": [],
   "source": [
    "import sys\n",
    "import io\n",
    "import wave\n",
    "import librosa\n",
    "import IPython.display as ipd\n",
    "\n",
    "import riva.client\n",
    "import riva.client.audio_io"
   ]
  },
  {
   "cell_type": "markdown",
   "id": "413894c3",
   "metadata": {},
   "source": [
    "#### Load audio file\n",
    "\n",
    "Let's load up an audio file and create pyaudio stream to send as input"
   ]
  },
  {
   "cell_type": "code",
   "execution_count": null,
   "id": "e764a2a4",
   "metadata": {},
   "outputs": [],
   "source": [
    "my_wav_file = \"./audio_samples/de-DE_sample.wav\"\n",
    "audio, sr = librosa.core.load(my_wav_file, sr=None)\n",
    "with io.open(my_wav_file, 'rb') as fh:\n",
    "    content = fh.read()\n",
    "ipd.Audio(my_wav_file)"
   ]
  },
  {
   "cell_type": "markdown",
   "id": "6ededddf",
   "metadata": {},
   "source": [
    "#### Create Riva ASR and NMT client and connect to the Server\n",
    "\n",
    "The following URI assumes a local deployment of the Riva Speech API server is on the default port. In case the server deployment is on a different host or via a Helm chart on Kubernetes, use an appropriate URI."
   ]
  },
  {
   "cell_type": "code",
   "execution_count": null,
   "id": "455afdf7",
   "metadata": {},
   "outputs": [],
   "source": [
    "auth = riva.client.Auth(uri=\"localhost:50051\")\n",
    "\n",
    "asr_service = riva.client.ASRService(auth)\n",
    "riva_nmt_client = riva.client.NeuralMachineTranslationClient(auth)"
   ]
  },
  {
   "cell_type": "markdown",
   "id": "378e5c3a",
   "metadata": {},
   "source": [
    "#### Create config for Riva Streaming ASR\n",
    "\n",
    "Creating a `RecognitionConfig` object and setting it as `config` in a `StreamingRecognitionConfig` object. `streaming_config` is created."
   ]
  },
  {
   "cell_type": "code",
   "execution_count": null,
   "id": "1db9bc93",
   "metadata": {},
   "outputs": [],
   "source": [
    "offline_config = riva.client.RecognitionConfig(\n",
    "    encoding=riva.client.AudioEncoding.LINEAR_PCM,\n",
    "    max_alternatives=1,\n",
    "    enable_automatic_punctuation=True,\n",
    "    verbatim_transcripts=False,\n",
    "    language_code='de-DE'\n",
    ")\n",
    "streaming_config = riva.client.StreamingRecognitionConfig(config=offline_config, interim_results=True)\n",
    "# Uncomment the following line and edit `add_word_boosting_to_config()` parameters if you wish to use word boosting.\n",
    "#riva.client.add_word_boosting_to_config(streaming_config, boosted_lm_words=['Begriff'], boosted_lm_score=30.)\n",
    "riva.client.add_audio_file_specs_to_config(streaming_config, my_wav_file)"
   ]
  },
  {
   "cell_type": "markdown",
   "id": "742b3930",
   "metadata": {},
   "source": [
    "#### Define a listen print loop that gets the streaming audio responses and sends to translation"
   ]
  },
  {
   "cell_type": "code",
   "execution_count": null,
   "id": "616e7355",
   "metadata": {},
   "outputs": [],
   "source": [
    "model = 'de_en_24x6'\n",
    "\n",
    "def listen_print_loop(responses, src_language, target_language, model, asr_only=False):\n",
    "    num_chars_printed = 0\n",
    "    prev_utterances = []\n",
    "    for response in responses:\n",
    "        if not response.results:\n",
    "            continue\n",
    "        result = response.results[0]\n",
    "        if not result.alternatives:\n",
    "            continue\n",
    "        transcript = result.alternatives[0].transcript\n",
    "        original_transcript = transcript\n",
    "        if not asr_only:\n",
    "            transcript = riva_nmt_client.translate(\n",
    "                [transcript], model, src_language, target_language\n",
    "            ).translations[0].text\n",
    "        overwrite_chars = ' ' * (num_chars_printed - len(transcript))\n",
    "        if not result.is_final:\n",
    "            sys.stdout.write(\">> \" + transcript + overwrite_chars + '\\r')\n",
    "            sys.stdout.flush()\n",
    "            num_chars_printed = len(transcript) + 3\n",
    "        else:\n",
    "            print(\"## \" + transcript + overwrite_chars + \"\\n\")\n",
    "            num_chars_printed = 0\n",
    "            prev_utterances.append(original_transcript)"
   ]
  },
  {
   "cell_type": "markdown",
   "id": "0025c96b",
   "metadata": {},
   "source": [
    "#### Run Streaming ASR + NMT on the audio file\n",
    "\n",
    "Finally, we run pipelined inference on Riva Streaming ASR and NMT on the same audio file."
   ]
  },
  {
   "cell_type": "code",
   "execution_count": null,
   "id": "62e220bb",
   "metadata": {},
   "outputs": [],
   "source": [
    "riva.client.audio_io.list_output_devices()"
   ]
  },
  {
   "cell_type": "code",
   "execution_count": null,
   "id": "17f08fae",
   "metadata": {
    "scrolled": true
   },
   "outputs": [],
   "source": [
    "output_device = None  # use default device\n",
    "translation_model = 'de_en_24x6'\n",
    "wav_parameters = riva.client.get_wav_file_parameters(my_wav_file)\n",
    "sound_callback = riva.client.audio_io.SoundCallBack(\n",
    "    output_device, wav_parameters['sampwidth'], wav_parameters['nchannels'], wav_parameters['framerate'])\n",
    "audio_chunk_iterator = riva.client.AudioChunkFileIterator(\n",
    "    my_wav_file, chunk_n_frames=4800, delay_callback=sound_callback)\n",
    "response_generator = asr_service.streaming_response_generator(audio_chunk_iterator, streaming_config)\n",
    "listen_print_loop(response_generator, src_language='de', target_language='en', model=translation_model)\n",
    "sound_callback.close()"
   ]
  },
  {
   "cell_type": "markdown",
   "id": "27383c3e",
   "metadata": {},
   "source": [
    "As seen above, we generate a stream of translations, corresponding to the stream of transcripts generated by Riva ASR. These translations might be intermediate or complete sentence translations, depending on the sentence boundaries in the audio. \n",
    "Once the input audio stream ends, we have the final transcript of the entire audio."
   ]
  }
 ],
 "metadata": {
  "kernelspec": {
   "display_name": "venv-riva-tutorials",
   "language": "python",
   "name": "venv-riva-tutorials"
  },
  "language_info": {
   "codemirror_mode": {
    "name": "ipython",
    "version": 3
   },
   "file_extension": ".py",
   "mimetype": "text/x-python",
   "name": "python",
   "nbconvert_exporter": "python",
   "pygments_lexer": "ipython3",
   "version": "3.10.10"
  }
 },
 "nbformat": 4,
 "nbformat_minor": 5
}
